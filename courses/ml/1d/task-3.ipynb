{
 "metadata": {
  "kernelspec": {
   "language": "python",
   "display_name": "Python 3",
   "name": "python3"
  },
  "language_info": {
   "pygments_lexer": "ipython3",
   "nbconvert_exporter": "python",
   "version": "3.6.4",
   "file_extension": ".py",
   "codemirror_mode": {
    "name": "ipython",
    "version": 3
   },
   "name": "python",
   "mimetype": "text/x-python"
  }
 },
 "nbformat_minor": 4,
 "nbformat": 4,
 "cells": [
  {
   "cell_type": "code",
   "source": [
    "# This Python 3 environment comes with many helpful analytics libraries installed\n",
    "# It is defined by the kaggle/python Docker image: https://github.com/kaggle/docker-python\n",
    "# For example, here's several helpful packages to load\n",
    "\n",
    "# import numpy as np # linear algebra\n",
    "# import pandas as pd # data processing, CSV file I/O (e.g. pd.read_csv)\n",
    "\n",
    "# Input data files are available in the read-only \"../input/\" directory\n",
    "# For example, running this (by clicking run or pressing Shift+Enter) will list all files under the input directory\n",
    "\n",
    "# import os\n",
    "# for dirname, _, filenames in os.walk('/kaggle/input'):\n",
    "#     for filename in filenames:\n",
    "#         print(os.path.join(dirname, filename))\n",
    "\n",
    "# You can write up to 20GB to the current directory (/kaggle/working/) that gets preserved as output when you create a version using \"Save & Run All\" \n",
    "# You can also write temporary files to /kaggle/temp/, but they won't be saved outside of the current session"
   ],
   "metadata": {
    "_uuid": "8f2839f25d086af736a60e9eeb907d3b93b6e0e5",
    "_cell_guid": "b1076dfc-b9ad-4769-8c92-a6c4dae69d19",
    "execution": {
     "iopub.status.busy": "2022-08-01T05:10:49.592376Z",
     "iopub.execute_input": "2022-08-01T05:10:49.592874Z",
     "iopub.status.idle": "2022-08-01T05:10:49.632057Z",
     "shell.execute_reply.started": "2022-08-01T05:10:49.592780Z",
     "shell.execute_reply": "2022-08-01T05:10:49.630794Z"
    },
    "trusted": true,
    "pycharm": {
     "name": "#%%\n"
    }
   },
   "execution_count": 118,
   "outputs": []
  },
  {
   "cell_type": "code",
   "source": [
    "import logging\n",
    "import sys\n",
    "\n",
    "from sklearnex import patch_sklearn, unpatch_sklearn\n",
    "patch_sklearn()\n",
    "\n",
    "import optuna\n",
    "import numpy as np\n",
    "import pandas as pd\n",
    "from sklearn.model_selection import train_test_split, cross_val_score, RepeatedStratifiedKFold\n",
    "from sklearn.feature_selection import f_classif, chi2, SelectPercentile, RFECV, SelectKBest\n",
    "from sklearn.metrics import f1_score\n",
    "from imblearn.metrics import classification_report_imbalanced\n",
    "\n",
    "from lightgbm import LGBMClassifier as LGBM\n",
    "from catboost import CatBoostClassifier as CatBoost\n",
    "from xgboost import XGBClassifier as XGB\n",
    "from sklearn.preprocessing import RobustScaler, Normalizer, MinMaxScaler, MaxAbsScaler\n",
    "from sklearn.decomposition import TruncatedSVD\n",
    "from sklearn.kernel_approximation import Nystroem\n",
    "from sklearn.svm import SVC\n",
    "from sklearn.tree import DecisionTreeClassifier as DecisionTree\n",
    "from sklearn.linear_model import LogisticRegression\n",
    "from sklearn.ensemble import (RandomForestClassifier as RandomForest, AdaBoostClassifier as AdaBoost, \n",
    "                              HistGradientBoostingClassifier as HistGradBoost, StackingClassifier, VotingClassifier)"
   ],
   "metadata": {
    "execution": {
     "iopub.status.busy": "2022-08-01T05:10:49.672120Z",
     "iopub.execute_input": "2022-08-01T05:10:49.672846Z",
     "iopub.status.idle": "2022-08-01T05:10:54.168328Z",
     "shell.execute_reply.started": "2022-08-01T05:10:49.672808Z",
     "shell.execute_reply": "2022-08-01T05:10:54.167393Z"
    },
    "trusted": true,
    "pycharm": {
     "name": "#%%\n"
    }
   },
   "execution_count": 119,
   "outputs": [
    {
     "name": "stderr",
     "output_type": "stream",
     "text": [
      "Intel(R) Extension for Scikit-learn* enabled (https://github.com/intel/scikit-learn-intelex)\n"
     ]
    }
   ]
  },
  {
   "cell_type": "code",
   "source": [
    "optuna.logging.set_verbosity(optuna.logging.INFO)\n",
    "optuna.logging.get_logger(\"optuna\").addHandler(logging.StreamHandler(sys.stdout))"
   ],
   "metadata": {
    "execution": {
     "iopub.status.busy": "2022-08-01T05:10:54.170551Z",
     "iopub.execute_input": "2022-08-01T05:10:54.171626Z",
     "iopub.status.idle": "2022-08-01T05:10:54.177666Z",
     "shell.execute_reply.started": "2022-08-01T05:10:54.171581Z",
     "shell.execute_reply": "2022-08-01T05:10:54.176758Z"
    },
    "trusted": true,
    "pycharm": {
     "name": "#%%\n"
    }
   },
   "execution_count": 120,
   "outputs": []
  },
  {
   "cell_type": "code",
   "source": [
    "%%time\n",
    "df_train = pd.read_csv(\"train_tfidf_features.csv\")\n",
    "display(df_train)"
   ],
   "metadata": {
    "execution": {
     "iopub.status.busy": "2022-08-01T05:10:54.179022Z",
     "iopub.execute_input": "2022-08-01T05:10:54.179819Z",
     "iopub.status.idle": "2022-08-01T05:11:14.160423Z",
     "shell.execute_reply.started": "2022-08-01T05:10:54.179784Z",
     "shell.execute_reply": "2022-08-01T05:11:14.159010Z"
    },
    "trusted": true,
    "pycharm": {
     "name": "#%%\n"
    }
   },
   "execution_count": 121,
   "outputs": [
    {
     "data": {
      "text/plain": "          id  label    0    1    2    3    4    5    6    7  ...  4990  4991  \\\n0          1      1  0.0  0.0  0.0  0.0  0.0  0.0  0.0  0.0  ...   0.0   0.0   \n1          2      0  0.0  0.0  0.0  0.0  0.0  0.0  0.0  0.0  ...   0.0   0.0   \n2          3      1  0.0  0.0  0.0  0.0  0.0  0.0  0.0  0.0  ...   0.0   0.0   \n3          4      0  0.0  0.0  0.0  0.0  0.0  0.0  0.0  0.0  ...   0.0   0.0   \n4          5      1  0.0  0.0  0.0  0.0  0.0  0.0  0.0  0.0  ...   0.0   0.0   \n...      ...    ...  ...  ...  ...  ...  ...  ...  ...  ...  ...   ...   ...   \n17179  17180      0  0.0  0.0  0.0  0.0  0.0  0.0  0.0  0.0  ...   0.0   0.0   \n17180  17181      0  0.0  0.0  0.0  0.0  0.0  0.0  0.0  0.0  ...   0.0   0.0   \n17181  17182      1  0.0  0.0  0.0  0.0  0.0  0.0  0.0  0.0  ...   0.0   0.0   \n17182  17183      1  0.0  0.0  0.0  0.0  0.0  0.0  0.0  0.0  ...   0.0   0.0   \n17183  17184      0  0.0  0.0  0.0  0.0  0.0  0.0  0.0  0.0  ...   0.0   0.0   \n\n       4992  4993  4994  4995  4996  4997  4998  4999  \n0       0.0   0.0   0.0   0.0   0.0   0.0   0.0   0.0  \n1       0.0   0.0   0.0   0.0   0.0   0.0   0.0   0.0  \n2       0.0   0.0   0.0   0.0   0.0   0.0   0.0   0.0  \n3       0.0   0.0   0.0   0.0   0.0   0.0   0.0   0.0  \n4       0.0   0.0   0.0   0.0   0.0   0.0   0.0   0.0  \n...     ...   ...   ...   ...   ...   ...   ...   ...  \n17179   0.0   0.0   0.0   0.0   0.0   0.0   0.0   0.0  \n17180   0.0   0.0   0.0   0.0   0.0   0.0   0.0   0.0  \n17181   0.0   0.0   0.0   0.0   0.0   0.0   0.0   0.0  \n17182   0.0   0.0   0.0   0.0   0.0   0.0   0.0   0.0  \n17183   0.0   0.0   0.0   0.0   0.0   0.0   0.0   0.0  \n\n[17184 rows x 5002 columns]",
      "text/html": "<div>\n<style scoped>\n    .dataframe tbody tr th:only-of-type {\n        vertical-align: middle;\n    }\n\n    .dataframe tbody tr th {\n        vertical-align: top;\n    }\n\n    .dataframe thead th {\n        text-align: right;\n    }\n</style>\n<table border=\"1\" class=\"dataframe\">\n  <thead>\n    <tr style=\"text-align: right;\">\n      <th></th>\n      <th>id</th>\n      <th>label</th>\n      <th>0</th>\n      <th>1</th>\n      <th>2</th>\n      <th>3</th>\n      <th>4</th>\n      <th>5</th>\n      <th>6</th>\n      <th>7</th>\n      <th>...</th>\n      <th>4990</th>\n      <th>4991</th>\n      <th>4992</th>\n      <th>4993</th>\n      <th>4994</th>\n      <th>4995</th>\n      <th>4996</th>\n      <th>4997</th>\n      <th>4998</th>\n      <th>4999</th>\n    </tr>\n  </thead>\n  <tbody>\n    <tr>\n      <th>0</th>\n      <td>1</td>\n      <td>1</td>\n      <td>0.0</td>\n      <td>0.0</td>\n      <td>0.0</td>\n      <td>0.0</td>\n      <td>0.0</td>\n      <td>0.0</td>\n      <td>0.0</td>\n      <td>0.0</td>\n      <td>...</td>\n      <td>0.0</td>\n      <td>0.0</td>\n      <td>0.0</td>\n      <td>0.0</td>\n      <td>0.0</td>\n      <td>0.0</td>\n      <td>0.0</td>\n      <td>0.0</td>\n      <td>0.0</td>\n      <td>0.0</td>\n    </tr>\n    <tr>\n      <th>1</th>\n      <td>2</td>\n      <td>0</td>\n      <td>0.0</td>\n      <td>0.0</td>\n      <td>0.0</td>\n      <td>0.0</td>\n      <td>0.0</td>\n      <td>0.0</td>\n      <td>0.0</td>\n      <td>0.0</td>\n      <td>...</td>\n      <td>0.0</td>\n      <td>0.0</td>\n      <td>0.0</td>\n      <td>0.0</td>\n      <td>0.0</td>\n      <td>0.0</td>\n      <td>0.0</td>\n      <td>0.0</td>\n      <td>0.0</td>\n      <td>0.0</td>\n    </tr>\n    <tr>\n      <th>2</th>\n      <td>3</td>\n      <td>1</td>\n      <td>0.0</td>\n      <td>0.0</td>\n      <td>0.0</td>\n      <td>0.0</td>\n      <td>0.0</td>\n      <td>0.0</td>\n      <td>0.0</td>\n      <td>0.0</td>\n      <td>...</td>\n      <td>0.0</td>\n      <td>0.0</td>\n      <td>0.0</td>\n      <td>0.0</td>\n      <td>0.0</td>\n      <td>0.0</td>\n      <td>0.0</td>\n      <td>0.0</td>\n      <td>0.0</td>\n      <td>0.0</td>\n    </tr>\n    <tr>\n      <th>3</th>\n      <td>4</td>\n      <td>0</td>\n      <td>0.0</td>\n      <td>0.0</td>\n      <td>0.0</td>\n      <td>0.0</td>\n      <td>0.0</td>\n      <td>0.0</td>\n      <td>0.0</td>\n      <td>0.0</td>\n      <td>...</td>\n      <td>0.0</td>\n      <td>0.0</td>\n      <td>0.0</td>\n      <td>0.0</td>\n      <td>0.0</td>\n      <td>0.0</td>\n      <td>0.0</td>\n      <td>0.0</td>\n      <td>0.0</td>\n      <td>0.0</td>\n    </tr>\n    <tr>\n      <th>4</th>\n      <td>5</td>\n      <td>1</td>\n      <td>0.0</td>\n      <td>0.0</td>\n      <td>0.0</td>\n      <td>0.0</td>\n      <td>0.0</td>\n      <td>0.0</td>\n      <td>0.0</td>\n      <td>0.0</td>\n      <td>...</td>\n      <td>0.0</td>\n      <td>0.0</td>\n      <td>0.0</td>\n      <td>0.0</td>\n      <td>0.0</td>\n      <td>0.0</td>\n      <td>0.0</td>\n      <td>0.0</td>\n      <td>0.0</td>\n      <td>0.0</td>\n    </tr>\n    <tr>\n      <th>...</th>\n      <td>...</td>\n      <td>...</td>\n      <td>...</td>\n      <td>...</td>\n      <td>...</td>\n      <td>...</td>\n      <td>...</td>\n      <td>...</td>\n      <td>...</td>\n      <td>...</td>\n      <td>...</td>\n      <td>...</td>\n      <td>...</td>\n      <td>...</td>\n      <td>...</td>\n      <td>...</td>\n      <td>...</td>\n      <td>...</td>\n      <td>...</td>\n      <td>...</td>\n      <td>...</td>\n    </tr>\n    <tr>\n      <th>17179</th>\n      <td>17180</td>\n      <td>0</td>\n      <td>0.0</td>\n      <td>0.0</td>\n      <td>0.0</td>\n      <td>0.0</td>\n      <td>0.0</td>\n      <td>0.0</td>\n      <td>0.0</td>\n      <td>0.0</td>\n      <td>...</td>\n      <td>0.0</td>\n      <td>0.0</td>\n      <td>0.0</td>\n      <td>0.0</td>\n      <td>0.0</td>\n      <td>0.0</td>\n      <td>0.0</td>\n      <td>0.0</td>\n      <td>0.0</td>\n      <td>0.0</td>\n    </tr>\n    <tr>\n      <th>17180</th>\n      <td>17181</td>\n      <td>0</td>\n      <td>0.0</td>\n      <td>0.0</td>\n      <td>0.0</td>\n      <td>0.0</td>\n      <td>0.0</td>\n      <td>0.0</td>\n      <td>0.0</td>\n      <td>0.0</td>\n      <td>...</td>\n      <td>0.0</td>\n      <td>0.0</td>\n      <td>0.0</td>\n      <td>0.0</td>\n      <td>0.0</td>\n      <td>0.0</td>\n      <td>0.0</td>\n      <td>0.0</td>\n      <td>0.0</td>\n      <td>0.0</td>\n    </tr>\n    <tr>\n      <th>17181</th>\n      <td>17182</td>\n      <td>1</td>\n      <td>0.0</td>\n      <td>0.0</td>\n      <td>0.0</td>\n      <td>0.0</td>\n      <td>0.0</td>\n      <td>0.0</td>\n      <td>0.0</td>\n      <td>0.0</td>\n      <td>...</td>\n      <td>0.0</td>\n      <td>0.0</td>\n      <td>0.0</td>\n      <td>0.0</td>\n      <td>0.0</td>\n      <td>0.0</td>\n      <td>0.0</td>\n      <td>0.0</td>\n      <td>0.0</td>\n      <td>0.0</td>\n    </tr>\n    <tr>\n      <th>17182</th>\n      <td>17183</td>\n      <td>1</td>\n      <td>0.0</td>\n      <td>0.0</td>\n      <td>0.0</td>\n      <td>0.0</td>\n      <td>0.0</td>\n      <td>0.0</td>\n      <td>0.0</td>\n      <td>0.0</td>\n      <td>...</td>\n      <td>0.0</td>\n      <td>0.0</td>\n      <td>0.0</td>\n      <td>0.0</td>\n      <td>0.0</td>\n      <td>0.0</td>\n      <td>0.0</td>\n      <td>0.0</td>\n      <td>0.0</td>\n      <td>0.0</td>\n    </tr>\n    <tr>\n      <th>17183</th>\n      <td>17184</td>\n      <td>0</td>\n      <td>0.0</td>\n      <td>0.0</td>\n      <td>0.0</td>\n      <td>0.0</td>\n      <td>0.0</td>\n      <td>0.0</td>\n      <td>0.0</td>\n      <td>0.0</td>\n      <td>...</td>\n      <td>0.0</td>\n      <td>0.0</td>\n      <td>0.0</td>\n      <td>0.0</td>\n      <td>0.0</td>\n      <td>0.0</td>\n      <td>0.0</td>\n      <td>0.0</td>\n      <td>0.0</td>\n      <td>0.0</td>\n    </tr>\n  </tbody>\n</table>\n<p>17184 rows × 5002 columns</p>\n</div>"
     },
     "metadata": {},
     "output_type": "display_data"
    },
    {
     "name": "stdout",
     "output_type": "stream",
     "text": [
      "Wall time: 18.2 s\n"
     ]
    }
   ]
  },
  {
   "cell_type": "code",
   "source": [
    "# df_train.iloc[:,1:8:2].boxplot(by=\"label\")"
   ],
   "metadata": {
    "execution": {
     "iopub.status.busy": "2022-08-01T05:11:14.163619Z",
     "iopub.execute_input": "2022-08-01T05:11:14.164148Z",
     "iopub.status.idle": "2022-08-01T05:11:14.169461Z",
     "shell.execute_reply.started": "2022-08-01T05:11:14.164099Z",
     "shell.execute_reply": "2022-08-01T05:11:14.168140Z"
    },
    "trusted": true,
    "pycharm": {
     "name": "#%%\n"
    }
   },
   "execution_count": 122,
   "outputs": []
  },
  {
   "cell_type": "code",
   "source": [
    "X = df_train.iloc[:, 2:5002].to_numpy()\n",
    "y = df_train.iloc[:,1].to_numpy()\n",
    "print(f\"X: {X.shape}, y: {y.shape}\")"
   ],
   "metadata": {
    "execution": {
     "iopub.status.busy": "2022-08-01T05:11:14.171093Z",
     "iopub.execute_input": "2022-08-01T05:11:14.171705Z",
     "iopub.status.idle": "2022-08-01T05:11:14.447975Z",
     "shell.execute_reply.started": "2022-08-01T05:11:14.171661Z",
     "shell.execute_reply": "2022-08-01T05:11:14.446345Z"
    },
    "trusted": true,
    "pycharm": {
     "name": "#%%\n"
    }
   },
   "execution_count": 123,
   "outputs": [
    {
     "name": "stdout",
     "output_type": "stream",
     "text": [
      "X: (17184, 5000), y: (17184,)\n"
     ]
    }
   ]
  },
  {
   "cell_type": "code",
   "source": [
    "# df_test = pd.read_csv(\"./test_tfidf_features.csv\")\n",
    "# display(df_test)"
   ],
   "metadata": {
    "execution": {
     "iopub.status.busy": "2022-08-01T05:11:14.449250Z",
     "iopub.execute_input": "2022-08-01T05:11:14.449631Z",
     "iopub.status.idle": "2022-08-01T05:11:14.458585Z",
     "shell.execute_reply.started": "2022-08-01T05:11:14.449590Z",
     "shell.execute_reply": "2022-08-01T05:11:14.457488Z"
    },
    "trusted": true,
    "pycharm": {
     "name": "#%%\n"
    }
   },
   "execution_count": 124,
   "outputs": []
  },
  {
   "cell_type": "code",
   "source": [
    "# X_test = df_test.iloc[:, 1:5001].to_numpy()\n",
    "# helper = df_test.iloc[:, 0]\n",
    "# display(X_test)\n",
    "# display(helper)"
   ],
   "metadata": {
    "execution": {
     "iopub.status.busy": "2022-08-01T05:11:14.459615Z",
     "iopub.execute_input": "2022-08-01T05:11:14.460269Z",
     "iopub.status.idle": "2022-08-01T05:11:14.470088Z",
     "shell.execute_reply.started": "2022-08-01T05:11:14.460235Z",
     "shell.execute_reply": "2022-08-01T05:11:14.469034Z"
    },
    "trusted": true,
    "pycharm": {
     "name": "#%%\n"
    }
   },
   "execution_count": 125,
   "outputs": []
  },
  {
   "cell_type": "code",
   "source": [
    "# scaler = RobustScaler(with_centering=False, unit_variance=True).fit(X_train)\n",
    "# scaler = Normalizer(norm='max', copy=True).fit(X_train)\n",
    "# scaler = MinMaxScaler(feature_range=(0, 1), copy=True, clip=False).fit(X_train)\n",
    "# scaler = MaxAbsScaler(copy=True).fit(X_train)\n",
    "# X_trans = scaler.transform(X_train)\n",
    "# X_train = kernel.fit_transform(X_train)\n",
    "\n",
    "X_new = SelectPercentile(chi2, percentile = 50).fit_transform(X, y)\n",
    "\n",
    "X_train, X_sub, y_train, y_sub = train_test_split(X_new, y, test_size=0.25, random_state=100)\n",
    "print(f\"X_train: {X_train.shape}, y_train: {y_train.shape}\")\n",
    "print(f\"X_valid: {X_sub.shape}, y_valid: {y_sub.shape}\")"
   ],
   "metadata": {
    "execution": {
     "iopub.status.busy": "2022-08-01T05:11:14.471403Z",
     "iopub.execute_input": "2022-08-01T05:11:14.472064Z",
     "iopub.status.idle": "2022-08-01T05:11:14.686849Z",
     "shell.execute_reply.started": "2022-08-01T05:11:14.472024Z",
     "shell.execute_reply": "2022-08-01T05:11:14.685656Z"
    },
    "trusted": true,
    "pycharm": {
     "name": "#%%\n"
    }
   },
   "execution_count": 126,
   "outputs": [
    {
     "name": "stdout",
     "output_type": "stream",
     "text": [
      "X_train: (12888, 2500), y_train: (12888,)\n",
      "X_valid: (4296, 2500), y_valid: (4296,)\n"
     ]
    }
   ]
  },
  {
   "cell_type": "code",
   "source": [
    "# scaler = Normalizer(norm='max', copy=True).fit(X_train)\n",
    "# X_trans = scaler.transform(X_train)\n",
    "# norm = pd.DataFrame(X_trans) # Normalizer\n",
    "# display(norm.describe())\n",
    "# norm.var().sort_values(ascending=False).head(20)"
   ],
   "metadata": {
    "execution": {
     "iopub.status.busy": "2022-08-01T05:12:04.028690Z",
     "iopub.execute_input": "2022-08-01T05:12:04.029177Z",
     "iopub.status.idle": "2022-08-01T05:12:04.919559Z",
     "shell.execute_reply.started": "2022-08-01T05:12:04.029140Z",
     "shell.execute_reply": "2022-08-01T05:12:04.917729Z"
    },
    "trusted": true,
    "pycharm": {
     "name": "#%%\n"
    }
   },
   "execution_count": 127,
   "outputs": []
  },
  {
   "cell_type": "code",
   "source": [
    "# scaler = RobustScaler(with_centering=False, unit_variance=True).fit(X_train)\n",
    "# X_trans = scaler.transform(X_train)\n",
    "# robust = pd.DataFrame(X_trans) # RobustScaler\n",
    "# display(robust.describe())\n",
    "# robust.var().sort_values(ascending=False).head(20)"
   ],
   "metadata": {
    "execution": {
     "iopub.status.busy": "2022-08-01T04:55:21.782495Z",
     "iopub.execute_input": "2022-08-01T04:55:21.783738Z",
     "iopub.status.idle": "2022-08-01T04:55:23.010162Z",
     "shell.execute_reply.started": "2022-08-01T04:55:21.783687Z",
     "shell.execute_reply": "2022-08-01T04:55:23.009090Z"
    },
    "trusted": true,
    "pycharm": {
     "name": "#%%\n"
    }
   },
   "execution_count": 128,
   "outputs": []
  },
  {
   "cell_type": "code",
   "source": [
    "# scaler = MinMaxScaler(feature_range=(0, 1), copy=True, clip=False).fit(X_train)\n",
    "# X_trans = scaler.transform(X_train)\n",
    "# minmax = pd.DataFrame(X_trans) # MinMaxScaler\n",
    "# display(minmax.describe())\n",
    "# minmax.var().sort_values(ascending=False).head(20)"
   ],
   "metadata": {
    "execution": {
     "iopub.status.busy": "2022-08-01T04:54:48.003137Z",
     "iopub.execute_input": "2022-08-01T04:54:48.004731Z",
     "iopub.status.idle": "2022-08-01T04:55:00.562859Z",
     "shell.execute_reply.started": "2022-08-01T04:54:48.004687Z",
     "shell.execute_reply": "2022-08-01T04:55:00.561827Z"
    },
    "trusted": true,
    "pycharm": {
     "name": "#%%\n"
    }
   },
   "execution_count": 129,
   "outputs": []
  },
  {
   "cell_type": "code",
   "source": [
    "# scaler = MaxAbsScaler(copy=True).fit(X_train)\n",
    "# X_trans = scaler.transform(X_train)\n",
    "# maxabs = pd.DataFrame(X_trans) # MaxAbsScaler\n",
    "# display(maxabs.describe())\n",
    "# maxabs.var().sort_values(ascending=False).head(20)"
   ],
   "metadata": {
    "execution": {
     "iopub.status.busy": "2022-08-01T04:50:33.968271Z",
     "iopub.execute_input": "2022-08-01T04:50:33.968578Z",
     "iopub.status.idle": "2022-08-01T04:50:46.167937Z",
     "shell.execute_reply.started": "2022-08-01T04:50:33.968550Z",
     "shell.execute_reply": "2022-08-01T04:50:46.167188Z"
    },
    "pycharm": {
     "name": "#%%\n"
    }
   },
   "execution_count": 130,
   "outputs": []
  },
  {
   "cell_type": "code",
   "source": [
    "original = pd.DataFrame(X_train) # original\n",
    "display(original.describe())\n",
    "original.var().sort_values(ascending=False).head(20)"
   ],
   "metadata": {
    "execution": {
     "iopub.status.busy": "2022-08-01T05:12:17.360831Z",
     "iopub.execute_input": "2022-08-01T05:12:17.361200Z",
     "iopub.status.idle": "2022-08-01T05:12:29.981154Z",
     "shell.execute_reply.started": "2022-08-01T05:12:17.361170Z",
     "shell.execute_reply": "2022-08-01T05:12:29.979856Z"
    },
    "trusted": true,
    "pycharm": {
     "name": "#%%\n"
    }
   },
   "execution_count": 131,
   "outputs": [
    {
     "data": {
      "text/plain": "               0             1             2             3             4     \\\ncount  12888.000000  12888.000000  12888.000000  12888.000000  12888.000000   \nmean       0.000963      0.000453      0.000463      0.000148      0.000767   \nstd        0.018665      0.012696      0.014231      0.007533      0.016931   \nmin        0.000000      0.000000      0.000000      0.000000      0.000000   \n25%        0.000000      0.000000      0.000000      0.000000      0.000000   \n50%        0.000000      0.000000      0.000000      0.000000      0.000000   \n75%        0.000000      0.000000      0.000000      0.000000      0.000000   \nmax        0.560830      0.536746      0.550237      0.422529      0.689683   \n\n               5             6             7             8             9     \\\ncount  12888.000000  12888.000000  12888.000000  12888.000000  12888.000000   \nmean       0.000185      0.000189      0.000216      0.000213      0.000097   \nstd        0.008634      0.009901      0.011760      0.010924      0.006336   \nmin        0.000000      0.000000      0.000000      0.000000      0.000000   \n25%        0.000000      0.000000      0.000000      0.000000      0.000000   \n50%        0.000000      0.000000      0.000000      0.000000      0.000000   \n75%        0.000000      0.000000      0.000000      0.000000      0.000000   \nmax        0.477186      0.614334      0.978105      0.628086      0.434397   \n\n       ...          2490          2491          2492          2493  \\\ncount  ...  12888.000000  12888.000000  12888.000000  12888.000000   \nmean   ...      0.000191      0.000510      0.000604      0.000164   \nstd    ...      0.009882      0.013836      0.015301      0.008560   \nmin    ...      0.000000      0.000000      0.000000      0.000000   \n25%    ...      0.000000      0.000000      0.000000      0.000000   \n50%    ...      0.000000      0.000000      0.000000      0.000000   \n75%    ...      0.000000      0.000000      0.000000      0.000000   \nmax    ...      0.653012      0.551582      0.532189      0.570588   \n\n               2494          2495          2496          2497          2498  \\\ncount  12888.000000  12888.000000  12888.000000  12888.000000  12888.000000   \nmean       0.000230      0.000071      0.000229      0.000774      0.000272   \nstd        0.010936      0.005948      0.009854      0.018731      0.010389   \nmin        0.000000      0.000000      0.000000      0.000000      0.000000   \n25%        0.000000      0.000000      0.000000      0.000000      0.000000   \n50%        0.000000      0.000000      0.000000      0.000000      0.000000   \n75%        0.000000      0.000000      0.000000      0.000000      0.000000   \nmax        0.611122      0.592170      0.469045      0.850605      0.484887   \n\n               2499  \ncount  12888.000000  \nmean       0.000264  \nstd        0.009601  \nmin        0.000000  \n25%        0.000000  \n50%        0.000000  \n75%        0.000000  \nmax        0.427472  \n\n[8 rows x 2500 columns]",
      "text/html": "<div>\n<style scoped>\n    .dataframe tbody tr th:only-of-type {\n        vertical-align: middle;\n    }\n\n    .dataframe tbody tr th {\n        vertical-align: top;\n    }\n\n    .dataframe thead th {\n        text-align: right;\n    }\n</style>\n<table border=\"1\" class=\"dataframe\">\n  <thead>\n    <tr style=\"text-align: right;\">\n      <th></th>\n      <th>0</th>\n      <th>1</th>\n      <th>2</th>\n      <th>3</th>\n      <th>4</th>\n      <th>5</th>\n      <th>6</th>\n      <th>7</th>\n      <th>8</th>\n      <th>9</th>\n      <th>...</th>\n      <th>2490</th>\n      <th>2491</th>\n      <th>2492</th>\n      <th>2493</th>\n      <th>2494</th>\n      <th>2495</th>\n      <th>2496</th>\n      <th>2497</th>\n      <th>2498</th>\n      <th>2499</th>\n    </tr>\n  </thead>\n  <tbody>\n    <tr>\n      <th>count</th>\n      <td>12888.000000</td>\n      <td>12888.000000</td>\n      <td>12888.000000</td>\n      <td>12888.000000</td>\n      <td>12888.000000</td>\n      <td>12888.000000</td>\n      <td>12888.000000</td>\n      <td>12888.000000</td>\n      <td>12888.000000</td>\n      <td>12888.000000</td>\n      <td>...</td>\n      <td>12888.000000</td>\n      <td>12888.000000</td>\n      <td>12888.000000</td>\n      <td>12888.000000</td>\n      <td>12888.000000</td>\n      <td>12888.000000</td>\n      <td>12888.000000</td>\n      <td>12888.000000</td>\n      <td>12888.000000</td>\n      <td>12888.000000</td>\n    </tr>\n    <tr>\n      <th>mean</th>\n      <td>0.000963</td>\n      <td>0.000453</td>\n      <td>0.000463</td>\n      <td>0.000148</td>\n      <td>0.000767</td>\n      <td>0.000185</td>\n      <td>0.000189</td>\n      <td>0.000216</td>\n      <td>0.000213</td>\n      <td>0.000097</td>\n      <td>...</td>\n      <td>0.000191</td>\n      <td>0.000510</td>\n      <td>0.000604</td>\n      <td>0.000164</td>\n      <td>0.000230</td>\n      <td>0.000071</td>\n      <td>0.000229</td>\n      <td>0.000774</td>\n      <td>0.000272</td>\n      <td>0.000264</td>\n    </tr>\n    <tr>\n      <th>std</th>\n      <td>0.018665</td>\n      <td>0.012696</td>\n      <td>0.014231</td>\n      <td>0.007533</td>\n      <td>0.016931</td>\n      <td>0.008634</td>\n      <td>0.009901</td>\n      <td>0.011760</td>\n      <td>0.010924</td>\n      <td>0.006336</td>\n      <td>...</td>\n      <td>0.009882</td>\n      <td>0.013836</td>\n      <td>0.015301</td>\n      <td>0.008560</td>\n      <td>0.010936</td>\n      <td>0.005948</td>\n      <td>0.009854</td>\n      <td>0.018731</td>\n      <td>0.010389</td>\n      <td>0.009601</td>\n    </tr>\n    <tr>\n      <th>min</th>\n      <td>0.000000</td>\n      <td>0.000000</td>\n      <td>0.000000</td>\n      <td>0.000000</td>\n      <td>0.000000</td>\n      <td>0.000000</td>\n      <td>0.000000</td>\n      <td>0.000000</td>\n      <td>0.000000</td>\n      <td>0.000000</td>\n      <td>...</td>\n      <td>0.000000</td>\n      <td>0.000000</td>\n      <td>0.000000</td>\n      <td>0.000000</td>\n      <td>0.000000</td>\n      <td>0.000000</td>\n      <td>0.000000</td>\n      <td>0.000000</td>\n      <td>0.000000</td>\n      <td>0.000000</td>\n    </tr>\n    <tr>\n      <th>25%</th>\n      <td>0.000000</td>\n      <td>0.000000</td>\n      <td>0.000000</td>\n      <td>0.000000</td>\n      <td>0.000000</td>\n      <td>0.000000</td>\n      <td>0.000000</td>\n      <td>0.000000</td>\n      <td>0.000000</td>\n      <td>0.000000</td>\n      <td>...</td>\n      <td>0.000000</td>\n      <td>0.000000</td>\n      <td>0.000000</td>\n      <td>0.000000</td>\n      <td>0.000000</td>\n      <td>0.000000</td>\n      <td>0.000000</td>\n      <td>0.000000</td>\n      <td>0.000000</td>\n      <td>0.000000</td>\n    </tr>\n    <tr>\n      <th>50%</th>\n      <td>0.000000</td>\n      <td>0.000000</td>\n      <td>0.000000</td>\n      <td>0.000000</td>\n      <td>0.000000</td>\n      <td>0.000000</td>\n      <td>0.000000</td>\n      <td>0.000000</td>\n      <td>0.000000</td>\n      <td>0.000000</td>\n      <td>...</td>\n      <td>0.000000</td>\n      <td>0.000000</td>\n      <td>0.000000</td>\n      <td>0.000000</td>\n      <td>0.000000</td>\n      <td>0.000000</td>\n      <td>0.000000</td>\n      <td>0.000000</td>\n      <td>0.000000</td>\n      <td>0.000000</td>\n    </tr>\n    <tr>\n      <th>75%</th>\n      <td>0.000000</td>\n      <td>0.000000</td>\n      <td>0.000000</td>\n      <td>0.000000</td>\n      <td>0.000000</td>\n      <td>0.000000</td>\n      <td>0.000000</td>\n      <td>0.000000</td>\n      <td>0.000000</td>\n      <td>0.000000</td>\n      <td>...</td>\n      <td>0.000000</td>\n      <td>0.000000</td>\n      <td>0.000000</td>\n      <td>0.000000</td>\n      <td>0.000000</td>\n      <td>0.000000</td>\n      <td>0.000000</td>\n      <td>0.000000</td>\n      <td>0.000000</td>\n      <td>0.000000</td>\n    </tr>\n    <tr>\n      <th>max</th>\n      <td>0.560830</td>\n      <td>0.536746</td>\n      <td>0.550237</td>\n      <td>0.422529</td>\n      <td>0.689683</td>\n      <td>0.477186</td>\n      <td>0.614334</td>\n      <td>0.978105</td>\n      <td>0.628086</td>\n      <td>0.434397</td>\n      <td>...</td>\n      <td>0.653012</td>\n      <td>0.551582</td>\n      <td>0.532189</td>\n      <td>0.570588</td>\n      <td>0.611122</td>\n      <td>0.592170</td>\n      <td>0.469045</td>\n      <td>0.850605</td>\n      <td>0.484887</td>\n      <td>0.427472</td>\n    </tr>\n  </tbody>\n</table>\n<p>8 rows × 2500 columns</p>\n</div>"
     },
     "metadata": {},
     "output_type": "display_data"
    },
    {
     "data": {
      "text/plain": "2434    0.009094\n1635    0.006384\n1788    0.005776\n1020    0.004696\n262     0.004413\n1211    0.003690\n2182    0.003411\n1785    0.003351\n2375    0.003191\n1247    0.003029\n1113    0.002973\n1315    0.002878\n674     0.002865\n132     0.002732\n1900    0.002674\n117     0.002618\n1472    0.002424\n2312    0.002345\n1360    0.002300\n2412    0.002282\ndtype: float64"
     },
     "execution_count": 131,
     "metadata": {},
     "output_type": "execute_result"
    }
   ]
  },
  {
   "cell_type": "code",
   "source": [
    "X_valid, X_test, y_valid, y_test = train_test_split(X_sub, y_sub, test_size=0.5,random_state=200)\n",
    "print(f\"X_valid: {X_valid.shape}, y_valid: {y_valid.shape}\")\n",
    "print(f\"X_test: {X_test.shape}, y_test: {y_test.shape}\")"
   ],
   "metadata": {
    "execution": {
     "iopub.status.busy": "2022-08-01T05:12:45.139922Z",
     "iopub.execute_input": "2022-08-01T05:12:45.140475Z",
     "iopub.status.idle": "2022-08-01T05:12:45.178835Z",
     "shell.execute_reply.started": "2022-08-01T05:12:45.140426Z",
     "shell.execute_reply": "2022-08-01T05:12:45.177631Z"
    },
    "trusted": true,
    "pycharm": {
     "name": "#%%\n"
    }
   },
   "execution_count": 132,
   "outputs": [
    {
     "name": "stdout",
     "output_type": "stream",
     "text": [
      "X_valid: (2148, 2500), y_valid: (2148,)\n",
      "X_test: (2148, 2500), y_test: (2148,)\n"
     ]
    }
   ]
  },
  {
   "cell_type": "code",
   "source": [
    "pd.DataFrame(X_train).describe()"
   ],
   "metadata": {
    "execution": {
     "iopub.status.busy": "2022-07-31T13:34:05.369730Z",
     "iopub.execute_input": "2022-07-31T13:34:05.370856Z",
     "iopub.status.idle": "2022-07-31T13:34:17.489145Z",
     "shell.execute_reply.started": "2022-07-31T13:34:05.370818Z",
     "shell.execute_reply": "2022-07-31T13:34:17.487919Z"
    },
    "trusted": true,
    "pycharm": {
     "name": "#%%\n"
    }
   },
   "execution_count": 133,
   "outputs": [
    {
     "data": {
      "text/plain": "               0             1             2             3             4     \\\ncount  12888.000000  12888.000000  12888.000000  12888.000000  12888.000000   \nmean       0.000963      0.000453      0.000463      0.000148      0.000767   \nstd        0.018665      0.012696      0.014231      0.007533      0.016931   \nmin        0.000000      0.000000      0.000000      0.000000      0.000000   \n25%        0.000000      0.000000      0.000000      0.000000      0.000000   \n50%        0.000000      0.000000      0.000000      0.000000      0.000000   \n75%        0.000000      0.000000      0.000000      0.000000      0.000000   \nmax        0.560830      0.536746      0.550237      0.422529      0.689683   \n\n               5             6             7             8             9     \\\ncount  12888.000000  12888.000000  12888.000000  12888.000000  12888.000000   \nmean       0.000185      0.000189      0.000216      0.000213      0.000097   \nstd        0.008634      0.009901      0.011760      0.010924      0.006336   \nmin        0.000000      0.000000      0.000000      0.000000      0.000000   \n25%        0.000000      0.000000      0.000000      0.000000      0.000000   \n50%        0.000000      0.000000      0.000000      0.000000      0.000000   \n75%        0.000000      0.000000      0.000000      0.000000      0.000000   \nmax        0.477186      0.614334      0.978105      0.628086      0.434397   \n\n       ...          2490          2491          2492          2493  \\\ncount  ...  12888.000000  12888.000000  12888.000000  12888.000000   \nmean   ...      0.000191      0.000510      0.000604      0.000164   \nstd    ...      0.009882      0.013836      0.015301      0.008560   \nmin    ...      0.000000      0.000000      0.000000      0.000000   \n25%    ...      0.000000      0.000000      0.000000      0.000000   \n50%    ...      0.000000      0.000000      0.000000      0.000000   \n75%    ...      0.000000      0.000000      0.000000      0.000000   \nmax    ...      0.653012      0.551582      0.532189      0.570588   \n\n               2494          2495          2496          2497          2498  \\\ncount  12888.000000  12888.000000  12888.000000  12888.000000  12888.000000   \nmean       0.000230      0.000071      0.000229      0.000774      0.000272   \nstd        0.010936      0.005948      0.009854      0.018731      0.010389   \nmin        0.000000      0.000000      0.000000      0.000000      0.000000   \n25%        0.000000      0.000000      0.000000      0.000000      0.000000   \n50%        0.000000      0.000000      0.000000      0.000000      0.000000   \n75%        0.000000      0.000000      0.000000      0.000000      0.000000   \nmax        0.611122      0.592170      0.469045      0.850605      0.484887   \n\n               2499  \ncount  12888.000000  \nmean       0.000264  \nstd        0.009601  \nmin        0.000000  \n25%        0.000000  \n50%        0.000000  \n75%        0.000000  \nmax        0.427472  \n\n[8 rows x 2500 columns]",
      "text/html": "<div>\n<style scoped>\n    .dataframe tbody tr th:only-of-type {\n        vertical-align: middle;\n    }\n\n    .dataframe tbody tr th {\n        vertical-align: top;\n    }\n\n    .dataframe thead th {\n        text-align: right;\n    }\n</style>\n<table border=\"1\" class=\"dataframe\">\n  <thead>\n    <tr style=\"text-align: right;\">\n      <th></th>\n      <th>0</th>\n      <th>1</th>\n      <th>2</th>\n      <th>3</th>\n      <th>4</th>\n      <th>5</th>\n      <th>6</th>\n      <th>7</th>\n      <th>8</th>\n      <th>9</th>\n      <th>...</th>\n      <th>2490</th>\n      <th>2491</th>\n      <th>2492</th>\n      <th>2493</th>\n      <th>2494</th>\n      <th>2495</th>\n      <th>2496</th>\n      <th>2497</th>\n      <th>2498</th>\n      <th>2499</th>\n    </tr>\n  </thead>\n  <tbody>\n    <tr>\n      <th>count</th>\n      <td>12888.000000</td>\n      <td>12888.000000</td>\n      <td>12888.000000</td>\n      <td>12888.000000</td>\n      <td>12888.000000</td>\n      <td>12888.000000</td>\n      <td>12888.000000</td>\n      <td>12888.000000</td>\n      <td>12888.000000</td>\n      <td>12888.000000</td>\n      <td>...</td>\n      <td>12888.000000</td>\n      <td>12888.000000</td>\n      <td>12888.000000</td>\n      <td>12888.000000</td>\n      <td>12888.000000</td>\n      <td>12888.000000</td>\n      <td>12888.000000</td>\n      <td>12888.000000</td>\n      <td>12888.000000</td>\n      <td>12888.000000</td>\n    </tr>\n    <tr>\n      <th>mean</th>\n      <td>0.000963</td>\n      <td>0.000453</td>\n      <td>0.000463</td>\n      <td>0.000148</td>\n      <td>0.000767</td>\n      <td>0.000185</td>\n      <td>0.000189</td>\n      <td>0.000216</td>\n      <td>0.000213</td>\n      <td>0.000097</td>\n      <td>...</td>\n      <td>0.000191</td>\n      <td>0.000510</td>\n      <td>0.000604</td>\n      <td>0.000164</td>\n      <td>0.000230</td>\n      <td>0.000071</td>\n      <td>0.000229</td>\n      <td>0.000774</td>\n      <td>0.000272</td>\n      <td>0.000264</td>\n    </tr>\n    <tr>\n      <th>std</th>\n      <td>0.018665</td>\n      <td>0.012696</td>\n      <td>0.014231</td>\n      <td>0.007533</td>\n      <td>0.016931</td>\n      <td>0.008634</td>\n      <td>0.009901</td>\n      <td>0.011760</td>\n      <td>0.010924</td>\n      <td>0.006336</td>\n      <td>...</td>\n      <td>0.009882</td>\n      <td>0.013836</td>\n      <td>0.015301</td>\n      <td>0.008560</td>\n      <td>0.010936</td>\n      <td>0.005948</td>\n      <td>0.009854</td>\n      <td>0.018731</td>\n      <td>0.010389</td>\n      <td>0.009601</td>\n    </tr>\n    <tr>\n      <th>min</th>\n      <td>0.000000</td>\n      <td>0.000000</td>\n      <td>0.000000</td>\n      <td>0.000000</td>\n      <td>0.000000</td>\n      <td>0.000000</td>\n      <td>0.000000</td>\n      <td>0.000000</td>\n      <td>0.000000</td>\n      <td>0.000000</td>\n      <td>...</td>\n      <td>0.000000</td>\n      <td>0.000000</td>\n      <td>0.000000</td>\n      <td>0.000000</td>\n      <td>0.000000</td>\n      <td>0.000000</td>\n      <td>0.000000</td>\n      <td>0.000000</td>\n      <td>0.000000</td>\n      <td>0.000000</td>\n    </tr>\n    <tr>\n      <th>25%</th>\n      <td>0.000000</td>\n      <td>0.000000</td>\n      <td>0.000000</td>\n      <td>0.000000</td>\n      <td>0.000000</td>\n      <td>0.000000</td>\n      <td>0.000000</td>\n      <td>0.000000</td>\n      <td>0.000000</td>\n      <td>0.000000</td>\n      <td>...</td>\n      <td>0.000000</td>\n      <td>0.000000</td>\n      <td>0.000000</td>\n      <td>0.000000</td>\n      <td>0.000000</td>\n      <td>0.000000</td>\n      <td>0.000000</td>\n      <td>0.000000</td>\n      <td>0.000000</td>\n      <td>0.000000</td>\n    </tr>\n    <tr>\n      <th>50%</th>\n      <td>0.000000</td>\n      <td>0.000000</td>\n      <td>0.000000</td>\n      <td>0.000000</td>\n      <td>0.000000</td>\n      <td>0.000000</td>\n      <td>0.000000</td>\n      <td>0.000000</td>\n      <td>0.000000</td>\n      <td>0.000000</td>\n      <td>...</td>\n      <td>0.000000</td>\n      <td>0.000000</td>\n      <td>0.000000</td>\n      <td>0.000000</td>\n      <td>0.000000</td>\n      <td>0.000000</td>\n      <td>0.000000</td>\n      <td>0.000000</td>\n      <td>0.000000</td>\n      <td>0.000000</td>\n    </tr>\n    <tr>\n      <th>75%</th>\n      <td>0.000000</td>\n      <td>0.000000</td>\n      <td>0.000000</td>\n      <td>0.000000</td>\n      <td>0.000000</td>\n      <td>0.000000</td>\n      <td>0.000000</td>\n      <td>0.000000</td>\n      <td>0.000000</td>\n      <td>0.000000</td>\n      <td>...</td>\n      <td>0.000000</td>\n      <td>0.000000</td>\n      <td>0.000000</td>\n      <td>0.000000</td>\n      <td>0.000000</td>\n      <td>0.000000</td>\n      <td>0.000000</td>\n      <td>0.000000</td>\n      <td>0.000000</td>\n      <td>0.000000</td>\n    </tr>\n    <tr>\n      <th>max</th>\n      <td>0.560830</td>\n      <td>0.536746</td>\n      <td>0.550237</td>\n      <td>0.422529</td>\n      <td>0.689683</td>\n      <td>0.477186</td>\n      <td>0.614334</td>\n      <td>0.978105</td>\n      <td>0.628086</td>\n      <td>0.434397</td>\n      <td>...</td>\n      <td>0.653012</td>\n      <td>0.551582</td>\n      <td>0.532189</td>\n      <td>0.570588</td>\n      <td>0.611122</td>\n      <td>0.592170</td>\n      <td>0.469045</td>\n      <td>0.850605</td>\n      <td>0.484887</td>\n      <td>0.427472</td>\n    </tr>\n  </tbody>\n</table>\n<p>8 rows × 2500 columns</p>\n</div>"
     },
     "execution_count": 133,
     "metadata": {},
     "output_type": "execute_result"
    }
   ]
  },
  {
   "cell_type": "code",
   "source": [
    "pd.DataFrame(X_valid).describe()"
   ],
   "metadata": {
    "execution": {
     "iopub.status.busy": "2022-07-31T13:34:17.490482Z",
     "iopub.execute_input": "2022-07-31T13:34:17.490839Z",
     "iopub.status.idle": "2022-07-31T13:34:27.813746Z",
     "shell.execute_reply.started": "2022-07-31T13:34:17.490807Z",
     "shell.execute_reply": "2022-07-31T13:34:27.812625Z"
    },
    "trusted": true,
    "pycharm": {
     "name": "#%%\n"
    }
   },
   "execution_count": 134,
   "outputs": [
    {
     "data": {
      "text/plain": "              0            1            2            3            4     \\\ncount  2148.000000  2148.000000  2148.000000  2148.000000  2148.000000   \nmean      0.001918     0.000163     0.000229     0.000201     0.000465   \nstd       0.026637     0.007532     0.007526     0.009298     0.012861   \nmin       0.000000     0.000000     0.000000     0.000000     0.000000   \n25%       0.000000     0.000000     0.000000     0.000000     0.000000   \n50%       0.000000     0.000000     0.000000     0.000000     0.000000   \n75%       0.000000     0.000000     0.000000     0.000000     0.000000   \nmax       0.547623     0.349101     0.256992     0.430946     0.446216   \n\n         5       6            7       8            9     ...         2490  \\\ncount  2148.0  2148.0  2148.000000  2148.0  2148.000000  ...  2148.000000   \nmean      0.0     0.0     0.000184     0.0     0.000202  ...     0.000213   \nstd       0.0     0.0     0.008517     0.0     0.009370  ...     0.009850   \nmin       0.0     0.0     0.000000     0.0     0.000000  ...     0.000000   \n25%       0.0     0.0     0.000000     0.0     0.000000  ...     0.000000   \n50%       0.0     0.0     0.000000     0.0     0.000000  ...     0.000000   \n75%       0.0     0.0     0.000000     0.0     0.000000  ...     0.000000   \nmax       0.0     0.0     0.394740     0.0     0.434273  ...     0.456505   \n\n              2491         2492         2493         2494    2495  \\\ncount  2148.000000  2148.000000  2148.000000  2148.000000  2148.0   \nmean      0.000564     0.000669     0.000135     0.000234     0.0   \nstd       0.015393     0.020784     0.006261     0.010825     0.0   \nmin       0.000000     0.000000     0.000000     0.000000     0.0   \n25%       0.000000     0.000000     0.000000     0.000000     0.0   \n50%       0.000000     0.000000     0.000000     0.000000     0.0   \n75%       0.000000     0.000000     0.000000     0.000000     0.0   \nmax       0.509092     0.877622     0.290194     0.501720     0.0   \n\n              2496         2497    2498         2499  \ncount  2148.000000  2148.000000  2148.0  2148.000000  \nmean      0.000702     0.000344     0.0     0.000876  \nstd       0.019013     0.011325     0.0     0.018248  \nmin       0.000000     0.000000     0.0     0.000000  \n25%       0.000000     0.000000     0.0     0.000000  \n50%       0.000000     0.000000     0.0     0.000000  \n75%       0.000000     0.000000     0.0     0.000000  \nmax       0.617341     0.406691     0.0     0.430031  \n\n[8 rows x 2500 columns]",
      "text/html": "<div>\n<style scoped>\n    .dataframe tbody tr th:only-of-type {\n        vertical-align: middle;\n    }\n\n    .dataframe tbody tr th {\n        vertical-align: top;\n    }\n\n    .dataframe thead th {\n        text-align: right;\n    }\n</style>\n<table border=\"1\" class=\"dataframe\">\n  <thead>\n    <tr style=\"text-align: right;\">\n      <th></th>\n      <th>0</th>\n      <th>1</th>\n      <th>2</th>\n      <th>3</th>\n      <th>4</th>\n      <th>5</th>\n      <th>6</th>\n      <th>7</th>\n      <th>8</th>\n      <th>9</th>\n      <th>...</th>\n      <th>2490</th>\n      <th>2491</th>\n      <th>2492</th>\n      <th>2493</th>\n      <th>2494</th>\n      <th>2495</th>\n      <th>2496</th>\n      <th>2497</th>\n      <th>2498</th>\n      <th>2499</th>\n    </tr>\n  </thead>\n  <tbody>\n    <tr>\n      <th>count</th>\n      <td>2148.000000</td>\n      <td>2148.000000</td>\n      <td>2148.000000</td>\n      <td>2148.000000</td>\n      <td>2148.000000</td>\n      <td>2148.0</td>\n      <td>2148.0</td>\n      <td>2148.000000</td>\n      <td>2148.0</td>\n      <td>2148.000000</td>\n      <td>...</td>\n      <td>2148.000000</td>\n      <td>2148.000000</td>\n      <td>2148.000000</td>\n      <td>2148.000000</td>\n      <td>2148.000000</td>\n      <td>2148.0</td>\n      <td>2148.000000</td>\n      <td>2148.000000</td>\n      <td>2148.0</td>\n      <td>2148.000000</td>\n    </tr>\n    <tr>\n      <th>mean</th>\n      <td>0.001918</td>\n      <td>0.000163</td>\n      <td>0.000229</td>\n      <td>0.000201</td>\n      <td>0.000465</td>\n      <td>0.0</td>\n      <td>0.0</td>\n      <td>0.000184</td>\n      <td>0.0</td>\n      <td>0.000202</td>\n      <td>...</td>\n      <td>0.000213</td>\n      <td>0.000564</td>\n      <td>0.000669</td>\n      <td>0.000135</td>\n      <td>0.000234</td>\n      <td>0.0</td>\n      <td>0.000702</td>\n      <td>0.000344</td>\n      <td>0.0</td>\n      <td>0.000876</td>\n    </tr>\n    <tr>\n      <th>std</th>\n      <td>0.026637</td>\n      <td>0.007532</td>\n      <td>0.007526</td>\n      <td>0.009298</td>\n      <td>0.012861</td>\n      <td>0.0</td>\n      <td>0.0</td>\n      <td>0.008517</td>\n      <td>0.0</td>\n      <td>0.009370</td>\n      <td>...</td>\n      <td>0.009850</td>\n      <td>0.015393</td>\n      <td>0.020784</td>\n      <td>0.006261</td>\n      <td>0.010825</td>\n      <td>0.0</td>\n      <td>0.019013</td>\n      <td>0.011325</td>\n      <td>0.0</td>\n      <td>0.018248</td>\n    </tr>\n    <tr>\n      <th>min</th>\n      <td>0.000000</td>\n      <td>0.000000</td>\n      <td>0.000000</td>\n      <td>0.000000</td>\n      <td>0.000000</td>\n      <td>0.0</td>\n      <td>0.0</td>\n      <td>0.000000</td>\n      <td>0.0</td>\n      <td>0.000000</td>\n      <td>...</td>\n      <td>0.000000</td>\n      <td>0.000000</td>\n      <td>0.000000</td>\n      <td>0.000000</td>\n      <td>0.000000</td>\n      <td>0.0</td>\n      <td>0.000000</td>\n      <td>0.000000</td>\n      <td>0.0</td>\n      <td>0.000000</td>\n    </tr>\n    <tr>\n      <th>25%</th>\n      <td>0.000000</td>\n      <td>0.000000</td>\n      <td>0.000000</td>\n      <td>0.000000</td>\n      <td>0.000000</td>\n      <td>0.0</td>\n      <td>0.0</td>\n      <td>0.000000</td>\n      <td>0.0</td>\n      <td>0.000000</td>\n      <td>...</td>\n      <td>0.000000</td>\n      <td>0.000000</td>\n      <td>0.000000</td>\n      <td>0.000000</td>\n      <td>0.000000</td>\n      <td>0.0</td>\n      <td>0.000000</td>\n      <td>0.000000</td>\n      <td>0.0</td>\n      <td>0.000000</td>\n    </tr>\n    <tr>\n      <th>50%</th>\n      <td>0.000000</td>\n      <td>0.000000</td>\n      <td>0.000000</td>\n      <td>0.000000</td>\n      <td>0.000000</td>\n      <td>0.0</td>\n      <td>0.0</td>\n      <td>0.000000</td>\n      <td>0.0</td>\n      <td>0.000000</td>\n      <td>...</td>\n      <td>0.000000</td>\n      <td>0.000000</td>\n      <td>0.000000</td>\n      <td>0.000000</td>\n      <td>0.000000</td>\n      <td>0.0</td>\n      <td>0.000000</td>\n      <td>0.000000</td>\n      <td>0.0</td>\n      <td>0.000000</td>\n    </tr>\n    <tr>\n      <th>75%</th>\n      <td>0.000000</td>\n      <td>0.000000</td>\n      <td>0.000000</td>\n      <td>0.000000</td>\n      <td>0.000000</td>\n      <td>0.0</td>\n      <td>0.0</td>\n      <td>0.000000</td>\n      <td>0.0</td>\n      <td>0.000000</td>\n      <td>...</td>\n      <td>0.000000</td>\n      <td>0.000000</td>\n      <td>0.000000</td>\n      <td>0.000000</td>\n      <td>0.000000</td>\n      <td>0.0</td>\n      <td>0.000000</td>\n      <td>0.000000</td>\n      <td>0.0</td>\n      <td>0.000000</td>\n    </tr>\n    <tr>\n      <th>max</th>\n      <td>0.547623</td>\n      <td>0.349101</td>\n      <td>0.256992</td>\n      <td>0.430946</td>\n      <td>0.446216</td>\n      <td>0.0</td>\n      <td>0.0</td>\n      <td>0.394740</td>\n      <td>0.0</td>\n      <td>0.434273</td>\n      <td>...</td>\n      <td>0.456505</td>\n      <td>0.509092</td>\n      <td>0.877622</td>\n      <td>0.290194</td>\n      <td>0.501720</td>\n      <td>0.0</td>\n      <td>0.617341</td>\n      <td>0.406691</td>\n      <td>0.0</td>\n      <td>0.430031</td>\n    </tr>\n  </tbody>\n</table>\n<p>8 rows × 2500 columns</p>\n</div>"
     },
     "execution_count": 134,
     "metadata": {},
     "output_type": "execute_result"
    }
   ]
  },
  {
   "cell_type": "code",
   "source": [
    "pd.DataFrame(X_test).describe()"
   ],
   "metadata": {
    "execution": {
     "iopub.status.busy": "2022-07-31T13:34:27.814874Z",
     "iopub.execute_input": "2022-07-31T13:34:27.815898Z",
     "iopub.status.idle": "2022-07-31T13:34:38.341774Z",
     "shell.execute_reply.started": "2022-07-31T13:34:27.815859Z",
     "shell.execute_reply": "2022-07-31T13:34:38.340560Z"
    },
    "trusted": true,
    "pycharm": {
     "name": "#%%\n"
    }
   },
   "execution_count": 135,
   "outputs": [
    {
     "data": {
      "text/plain": "              0            1            2            3            4     \\\ncount  2148.000000  2148.000000  2148.000000  2148.000000  2148.000000   \nmean      0.000830     0.000985     0.000338     0.000184     0.000827   \nstd       0.015868     0.018710     0.011156     0.008530     0.018151   \nmin       0.000000     0.000000     0.000000     0.000000     0.000000   \n25%       0.000000     0.000000     0.000000     0.000000     0.000000   \n50%       0.000000     0.000000     0.000000     0.000000     0.000000   \n75%       0.000000     0.000000     0.000000     0.000000     0.000000   \nmax       0.381405     0.417587     0.408241     0.395327     0.600363   \n\n              5            6       7       8            9     ...    2490  \\\ncount  2148.000000  2148.000000  2148.0  2148.0  2148.000000  ...  2148.0   \nmean      0.000717     0.000166     0.0     0.0     0.000395  ...     0.0   \nstd       0.020574     0.007678     0.0     0.0     0.012984  ...     0.0   \nmin       0.000000     0.000000     0.0     0.0     0.000000  ...     0.0   \n25%       0.000000     0.000000     0.0     0.0     0.000000  ...     0.0   \n50%       0.000000     0.000000     0.0     0.0     0.000000  ...     0.0   \n75%       0.000000     0.000000     0.0     0.0     0.000000  ...     0.0   \nmax       0.794519     0.355842     0.0     0.0     0.456960  ...     0.0   \n\n              2491         2492    2493    2494         2495    2496  \\\ncount  2148.000000  2148.000000  2148.0  2148.0  2148.000000  2148.0   \nmean      0.000524     0.000274     0.0     0.0     0.000171     0.0   \nstd       0.014283     0.009206     0.0     0.0     0.007942     0.0   \nmin       0.000000     0.000000     0.0     0.0     0.000000     0.0   \n25%       0.000000     0.000000     0.0     0.0     0.000000     0.0   \n50%       0.000000     0.000000     0.0     0.0     0.000000     0.0   \n75%       0.000000     0.000000     0.0     0.0     0.000000     0.0   \nmax       0.473135     0.362805     0.0     0.0     0.368102     0.0   \n\n              2497         2498    2499  \ncount  2148.000000  2148.000000  2148.0  \nmean      0.000687     0.000422     0.0  \nstd       0.016013     0.013862     0.0  \nmin       0.000000     0.000000     0.0  \n25%       0.000000     0.000000     0.0  \n50%       0.000000     0.000000     0.0  \n75%       0.000000     0.000000     0.0  \nmax       0.440547     0.484908     0.0  \n\n[8 rows x 2500 columns]",
      "text/html": "<div>\n<style scoped>\n    .dataframe tbody tr th:only-of-type {\n        vertical-align: middle;\n    }\n\n    .dataframe tbody tr th {\n        vertical-align: top;\n    }\n\n    .dataframe thead th {\n        text-align: right;\n    }\n</style>\n<table border=\"1\" class=\"dataframe\">\n  <thead>\n    <tr style=\"text-align: right;\">\n      <th></th>\n      <th>0</th>\n      <th>1</th>\n      <th>2</th>\n      <th>3</th>\n      <th>4</th>\n      <th>5</th>\n      <th>6</th>\n      <th>7</th>\n      <th>8</th>\n      <th>9</th>\n      <th>...</th>\n      <th>2490</th>\n      <th>2491</th>\n      <th>2492</th>\n      <th>2493</th>\n      <th>2494</th>\n      <th>2495</th>\n      <th>2496</th>\n      <th>2497</th>\n      <th>2498</th>\n      <th>2499</th>\n    </tr>\n  </thead>\n  <tbody>\n    <tr>\n      <th>count</th>\n      <td>2148.000000</td>\n      <td>2148.000000</td>\n      <td>2148.000000</td>\n      <td>2148.000000</td>\n      <td>2148.000000</td>\n      <td>2148.000000</td>\n      <td>2148.000000</td>\n      <td>2148.0</td>\n      <td>2148.0</td>\n      <td>2148.000000</td>\n      <td>...</td>\n      <td>2148.0</td>\n      <td>2148.000000</td>\n      <td>2148.000000</td>\n      <td>2148.0</td>\n      <td>2148.0</td>\n      <td>2148.000000</td>\n      <td>2148.0</td>\n      <td>2148.000000</td>\n      <td>2148.000000</td>\n      <td>2148.0</td>\n    </tr>\n    <tr>\n      <th>mean</th>\n      <td>0.000830</td>\n      <td>0.000985</td>\n      <td>0.000338</td>\n      <td>0.000184</td>\n      <td>0.000827</td>\n      <td>0.000717</td>\n      <td>0.000166</td>\n      <td>0.0</td>\n      <td>0.0</td>\n      <td>0.000395</td>\n      <td>...</td>\n      <td>0.0</td>\n      <td>0.000524</td>\n      <td>0.000274</td>\n      <td>0.0</td>\n      <td>0.0</td>\n      <td>0.000171</td>\n      <td>0.0</td>\n      <td>0.000687</td>\n      <td>0.000422</td>\n      <td>0.0</td>\n    </tr>\n    <tr>\n      <th>std</th>\n      <td>0.015868</td>\n      <td>0.018710</td>\n      <td>0.011156</td>\n      <td>0.008530</td>\n      <td>0.018151</td>\n      <td>0.020574</td>\n      <td>0.007678</td>\n      <td>0.0</td>\n      <td>0.0</td>\n      <td>0.012984</td>\n      <td>...</td>\n      <td>0.0</td>\n      <td>0.014283</td>\n      <td>0.009206</td>\n      <td>0.0</td>\n      <td>0.0</td>\n      <td>0.007942</td>\n      <td>0.0</td>\n      <td>0.016013</td>\n      <td>0.013862</td>\n      <td>0.0</td>\n    </tr>\n    <tr>\n      <th>min</th>\n      <td>0.000000</td>\n      <td>0.000000</td>\n      <td>0.000000</td>\n      <td>0.000000</td>\n      <td>0.000000</td>\n      <td>0.000000</td>\n      <td>0.000000</td>\n      <td>0.0</td>\n      <td>0.0</td>\n      <td>0.000000</td>\n      <td>...</td>\n      <td>0.0</td>\n      <td>0.000000</td>\n      <td>0.000000</td>\n      <td>0.0</td>\n      <td>0.0</td>\n      <td>0.000000</td>\n      <td>0.0</td>\n      <td>0.000000</td>\n      <td>0.000000</td>\n      <td>0.0</td>\n    </tr>\n    <tr>\n      <th>25%</th>\n      <td>0.000000</td>\n      <td>0.000000</td>\n      <td>0.000000</td>\n      <td>0.000000</td>\n      <td>0.000000</td>\n      <td>0.000000</td>\n      <td>0.000000</td>\n      <td>0.0</td>\n      <td>0.0</td>\n      <td>0.000000</td>\n      <td>...</td>\n      <td>0.0</td>\n      <td>0.000000</td>\n      <td>0.000000</td>\n      <td>0.0</td>\n      <td>0.0</td>\n      <td>0.000000</td>\n      <td>0.0</td>\n      <td>0.000000</td>\n      <td>0.000000</td>\n      <td>0.0</td>\n    </tr>\n    <tr>\n      <th>50%</th>\n      <td>0.000000</td>\n      <td>0.000000</td>\n      <td>0.000000</td>\n      <td>0.000000</td>\n      <td>0.000000</td>\n      <td>0.000000</td>\n      <td>0.000000</td>\n      <td>0.0</td>\n      <td>0.0</td>\n      <td>0.000000</td>\n      <td>...</td>\n      <td>0.0</td>\n      <td>0.000000</td>\n      <td>0.000000</td>\n      <td>0.0</td>\n      <td>0.0</td>\n      <td>0.000000</td>\n      <td>0.0</td>\n      <td>0.000000</td>\n      <td>0.000000</td>\n      <td>0.0</td>\n    </tr>\n    <tr>\n      <th>75%</th>\n      <td>0.000000</td>\n      <td>0.000000</td>\n      <td>0.000000</td>\n      <td>0.000000</td>\n      <td>0.000000</td>\n      <td>0.000000</td>\n      <td>0.000000</td>\n      <td>0.0</td>\n      <td>0.0</td>\n      <td>0.000000</td>\n      <td>...</td>\n      <td>0.0</td>\n      <td>0.000000</td>\n      <td>0.000000</td>\n      <td>0.0</td>\n      <td>0.0</td>\n      <td>0.000000</td>\n      <td>0.0</td>\n      <td>0.000000</td>\n      <td>0.000000</td>\n      <td>0.0</td>\n    </tr>\n    <tr>\n      <th>max</th>\n      <td>0.381405</td>\n      <td>0.417587</td>\n      <td>0.408241</td>\n      <td>0.395327</td>\n      <td>0.600363</td>\n      <td>0.794519</td>\n      <td>0.355842</td>\n      <td>0.0</td>\n      <td>0.0</td>\n      <td>0.456960</td>\n      <td>...</td>\n      <td>0.0</td>\n      <td>0.473135</td>\n      <td>0.362805</td>\n      <td>0.0</td>\n      <td>0.0</td>\n      <td>0.368102</td>\n      <td>0.0</td>\n      <td>0.440547</td>\n      <td>0.484908</td>\n      <td>0.0</td>\n    </tr>\n  </tbody>\n</table>\n<p>8 rows × 2500 columns</p>\n</div>"
     },
     "execution_count": 135,
     "metadata": {},
     "output_type": "execute_result"
    }
   ]
  },
  {
   "cell_type": "code",
   "source": [
    "pd.DataFrame(y_train).describe()"
   ],
   "metadata": {
    "execution": {
     "iopub.status.busy": "2022-07-31T13:34:38.343291Z",
     "iopub.execute_input": "2022-07-31T13:34:38.343691Z",
     "iopub.status.idle": "2022-07-31T13:34:38.361026Z",
     "shell.execute_reply.started": "2022-07-31T13:34:38.343650Z",
     "shell.execute_reply": "2022-07-31T13:34:38.359696Z"
    },
    "trusted": true,
    "pycharm": {
     "name": "#%%\n"
    }
   },
   "execution_count": 136,
   "outputs": [
    {
     "data": {
      "text/plain": "                  0\ncount  12888.000000\nmean       0.383457\nstd        0.486247\nmin        0.000000\n25%        0.000000\n50%        0.000000\n75%        1.000000\nmax        1.000000",
      "text/html": "<div>\n<style scoped>\n    .dataframe tbody tr th:only-of-type {\n        vertical-align: middle;\n    }\n\n    .dataframe tbody tr th {\n        vertical-align: top;\n    }\n\n    .dataframe thead th {\n        text-align: right;\n    }\n</style>\n<table border=\"1\" class=\"dataframe\">\n  <thead>\n    <tr style=\"text-align: right;\">\n      <th></th>\n      <th>0</th>\n    </tr>\n  </thead>\n  <tbody>\n    <tr>\n      <th>count</th>\n      <td>12888.000000</td>\n    </tr>\n    <tr>\n      <th>mean</th>\n      <td>0.383457</td>\n    </tr>\n    <tr>\n      <th>std</th>\n      <td>0.486247</td>\n    </tr>\n    <tr>\n      <th>min</th>\n      <td>0.000000</td>\n    </tr>\n    <tr>\n      <th>25%</th>\n      <td>0.000000</td>\n    </tr>\n    <tr>\n      <th>50%</th>\n      <td>0.000000</td>\n    </tr>\n    <tr>\n      <th>75%</th>\n      <td>1.000000</td>\n    </tr>\n    <tr>\n      <th>max</th>\n      <td>1.000000</td>\n    </tr>\n  </tbody>\n</table>\n</div>"
     },
     "execution_count": 136,
     "metadata": {},
     "output_type": "execute_result"
    }
   ]
  },
  {
   "cell_type": "code",
   "source": [
    "pd.DataFrame(y_valid).describe()"
   ],
   "metadata": {
    "execution": {
     "iopub.status.busy": "2022-07-31T13:34:38.363081Z",
     "iopub.execute_input": "2022-07-31T13:34:38.363531Z",
     "iopub.status.idle": "2022-07-31T13:34:38.382953Z",
     "shell.execute_reply.started": "2022-07-31T13:34:38.363494Z",
     "shell.execute_reply": "2022-07-31T13:34:38.381554Z"
    },
    "trusted": true,
    "pycharm": {
     "name": "#%%\n"
    }
   },
   "execution_count": 137,
   "outputs": [
    {
     "data": {
      "text/plain": "                 0\ncount  2148.000000\nmean      0.374767\nstd       0.484175\nmin       0.000000\n25%       0.000000\n50%       0.000000\n75%       1.000000\nmax       1.000000",
      "text/html": "<div>\n<style scoped>\n    .dataframe tbody tr th:only-of-type {\n        vertical-align: middle;\n    }\n\n    .dataframe tbody tr th {\n        vertical-align: top;\n    }\n\n    .dataframe thead th {\n        text-align: right;\n    }\n</style>\n<table border=\"1\" class=\"dataframe\">\n  <thead>\n    <tr style=\"text-align: right;\">\n      <th></th>\n      <th>0</th>\n    </tr>\n  </thead>\n  <tbody>\n    <tr>\n      <th>count</th>\n      <td>2148.000000</td>\n    </tr>\n    <tr>\n      <th>mean</th>\n      <td>0.374767</td>\n    </tr>\n    <tr>\n      <th>std</th>\n      <td>0.484175</td>\n    </tr>\n    <tr>\n      <th>min</th>\n      <td>0.000000</td>\n    </tr>\n    <tr>\n      <th>25%</th>\n      <td>0.000000</td>\n    </tr>\n    <tr>\n      <th>50%</th>\n      <td>0.000000</td>\n    </tr>\n    <tr>\n      <th>75%</th>\n      <td>1.000000</td>\n    </tr>\n    <tr>\n      <th>max</th>\n      <td>1.000000</td>\n    </tr>\n  </tbody>\n</table>\n</div>"
     },
     "execution_count": 137,
     "metadata": {},
     "output_type": "execute_result"
    }
   ]
  },
  {
   "cell_type": "code",
   "source": [
    "pd.DataFrame(y_test).describe()"
   ],
   "metadata": {
    "execution": {
     "iopub.status.busy": "2022-07-31T13:34:38.385627Z",
     "iopub.execute_input": "2022-07-31T13:34:38.386071Z",
     "iopub.status.idle": "2022-07-31T13:34:38.403302Z",
     "shell.execute_reply.started": "2022-07-31T13:34:38.386034Z",
     "shell.execute_reply": "2022-07-31T13:34:38.401689Z"
    },
    "trusted": true,
    "pycharm": {
     "name": "#%%\n"
    }
   },
   "execution_count": 138,
   "outputs": [
    {
     "data": {
      "text/plain": "                 0\ncount  2148.000000\nmean      0.374302\nstd       0.484055\nmin       0.000000\n25%       0.000000\n50%       0.000000\n75%       1.000000\nmax       1.000000",
      "text/html": "<div>\n<style scoped>\n    .dataframe tbody tr th:only-of-type {\n        vertical-align: middle;\n    }\n\n    .dataframe tbody tr th {\n        vertical-align: top;\n    }\n\n    .dataframe thead th {\n        text-align: right;\n    }\n</style>\n<table border=\"1\" class=\"dataframe\">\n  <thead>\n    <tr style=\"text-align: right;\">\n      <th></th>\n      <th>0</th>\n    </tr>\n  </thead>\n  <tbody>\n    <tr>\n      <th>count</th>\n      <td>2148.000000</td>\n    </tr>\n    <tr>\n      <th>mean</th>\n      <td>0.374302</td>\n    </tr>\n    <tr>\n      <th>std</th>\n      <td>0.484055</td>\n    </tr>\n    <tr>\n      <th>min</th>\n      <td>0.000000</td>\n    </tr>\n    <tr>\n      <th>25%</th>\n      <td>0.000000</td>\n    </tr>\n    <tr>\n      <th>50%</th>\n      <td>0.000000</td>\n    </tr>\n    <tr>\n      <th>75%</th>\n      <td>1.000000</td>\n    </tr>\n    <tr>\n      <th>max</th>\n      <td>1.000000</td>\n    </tr>\n  </tbody>\n</table>\n</div>"
     },
     "execution_count": 138,
     "metadata": {},
     "output_type": "execute_result"
    }
   ]
  },
  {
   "cell_type": "code",
   "source": [
    "def macro_f1_score(y, y_hat):\n",
    "    accuracy = np.sum(y == y_hat) / np.shape(y)[0]\n",
    "    score = f1_score(y, y_hat, average='macro')\n",
    "\n",
    "    print(f\"Accuracy: {accuracy}\")\n",
    "    print(f\"Macro-F1 score: {score}\")\n",
    "\n",
    "    # Return Macro-F1 score of the model\n",
    "    return score"
   ],
   "metadata": {
    "execution": {
     "iopub.status.busy": "2022-08-01T05:12:29.984373Z",
     "iopub.execute_input": "2022-08-01T05:12:29.985256Z",
     "iopub.status.idle": "2022-08-01T05:12:29.991334Z",
     "shell.execute_reply.started": "2022-08-01T05:12:29.985217Z",
     "shell.execute_reply": "2022-08-01T05:12:29.990043Z"
    },
    "trusted": true,
    "pycharm": {
     "name": "#%%\n"
    }
   },
   "execution_count": 139,
   "outputs": []
  },
  {
   "cell_type": "code",
   "source": [
    "def create_model(trial):\n",
    "    params = {\n",
    "        'boosting_type': trial.suggest_categorical('boosting_type', ['gbdt', 'dart','goss']), #added goss\n",
    "        'learning_rate': trial.suggest_float('learning_rate', 0.01, 0.5, log=True),\n",
    "        'max_depth': trial.suggest_int('max_depth', 80, 200),\n",
    "        'num_leaves' : trial.suggest_int('num_leaves', 100, 250),\n",
    "        \n",
    "        'colsample_bytree': trial.suggest_float('colsample_bytree', 0.4, 1.0),\n",
    "        'subsample': trial.suggest_float('subsample', 0.3, 0.8),\n",
    "        'scale_pos_weight': trial.suggest_float('scale_pos_weight', 0.25, 2), # added scale_pos_weight\n",
    "        \n",
    "        'min_child_samples': trial.suggest_int('min_child_samples', 1, 20, step=1),\n",
    "        'min_child_weight': trial.suggest_float('min_child_weight', 1e-8, 0.2, log=True),\n",
    "        'min_split_gain': trial.suggest_float('min_split_gain', 1e-4, 0.3, log=True),\n",
    "        \n",
    "        'max_delta_step': trial.suggest_float('max_delta_step', 0.1, 1.75),\n",
    "        'n_estimators': trial.suggest_int('n_estimators', 20, 120, step=5),\n",
    "        \n",
    "        'reg_alpha': trial.suggest_float('reg_alpha', 1e-4, 100.0, log=True),\n",
    "        'reg_lambda': trial.suggest_float('reg_lambda', 1e-4, 100.0, log=True),\n",
    "        \n",
    "        'random_state': 100,\n",
    "        'n_jobs': -1\n",
    "    }\n",
    "    \n",
    "    model = LGBM(**params)\n",
    "    \n",
    "    return model"
   ],
   "metadata": {
    "execution": {
     "iopub.status.busy": "2022-08-01T05:12:29.992670Z",
     "iopub.execute_input": "2022-08-01T05:12:29.993052Z",
     "iopub.status.idle": "2022-08-01T05:12:30.004516Z",
     "shell.execute_reply.started": "2022-08-01T05:12:29.993017Z",
     "shell.execute_reply": "2022-08-01T05:12:30.003101Z"
    },
    "trusted": true,
    "pycharm": {
     "name": "#%%\n"
    }
   },
   "execution_count": 140,
   "outputs": []
  },
  {
   "cell_type": "code",
   "source": [
    "# from sklearn.manifold import MDS, Isomap, SpectralEmbedding, TSNE, LocallyLinearEmbedding"
   ],
   "metadata": {
    "execution": {
     "iopub.status.busy": "2022-08-01T05:12:34.828855Z",
     "iopub.execute_input": "2022-08-01T05:12:34.829244Z",
     "iopub.status.idle": "2022-08-01T05:12:34.835032Z",
     "shell.execute_reply.started": "2022-08-01T05:12:34.829213Z",
     "shell.execute_reply": "2022-08-01T05:12:34.833699Z"
    },
    "trusted": true,
    "pycharm": {
     "name": "#%%\n"
    }
   },
   "execution_count": 141,
   "outputs": []
  },
  {
   "cell_type": "code",
   "source": [
    "# def objective(trial, X_train=X_train, y_train=y_train,X_valid=X_valid, y_valid=y_valid,model=create_model): \n",
    "#     model = create_model(trial) \n",
    "#     model.fit(X_train, y_train)\n",
    "#     preds = model.predict(X_valid)\n",
    "#     score = macro_f1_score(y_valid, preds)\n",
    "#     return score"
   ],
   "metadata": {
    "execution": {
     "iopub.status.busy": "2022-08-01T05:12:35.983840Z",
     "iopub.execute_input": "2022-08-01T05:12:35.984237Z",
     "iopub.status.idle": "2022-08-01T05:12:35.988921Z",
     "shell.execute_reply.started": "2022-08-01T05:12:35.984206Z",
     "shell.execute_reply": "2022-08-01T05:12:35.987827Z"
    },
    "trusted": true,
    "pycharm": {
     "name": "#%%\n"
    }
   },
   "execution_count": 142,
   "outputs": []
  },
  {
   "cell_type": "code",
   "execution_count": 143,
   "outputs": [],
   "source": [
    "# X_red_train = X_train\n",
    "# X_red_valid = X_valid\n",
    "# X_red_test = X_test"
   ],
   "metadata": {
    "collapsed": false,
    "pycharm": {
     "name": "#%%\n"
    }
   }
  },
  {
   "cell_type": "code",
   "source": [
    "svd = TruncatedSVD(n_components=int(X_train.shape[1]*0.6), random_state=100, n_iter=8)\n",
    "svd.fit(X_train, y_train)\n",
    "X_svm_train = svd.transform(X_train)\n",
    "X_svm_valid = svd.transform(X_valid)\n",
    "X_svm_test = svd.transform(X_test)"
   ],
   "metadata": {
    "execution": {
     "iopub.status.busy": "2022-08-01T05:12:51.452948Z",
     "iopub.execute_input": "2022-08-01T05:12:51.453698Z",
     "iopub.status.idle": "2022-08-01T05:12:51.460608Z",
     "shell.execute_reply.started": "2022-08-01T05:12:51.453648Z",
     "shell.execute_reply": "2022-08-01T05:12:51.459527Z"
    },
    "trusted": true,
    "pycharm": {
     "name": "#%%\n"
    }
   },
   "execution_count": 149,
   "outputs": []
  },
  {
   "cell_type": "code",
   "execution_count": 150,
   "outputs": [],
   "source": [
    "# X_final_train = X_red_train\n",
    "# X_final_valid = X_red_valid\n",
    "# X_final_test = X_red_test"
   ],
   "metadata": {
    "collapsed": false,
    "pycharm": {
     "name": "#%%\n"
    }
   }
  },
  {
   "cell_type": "code",
   "execution_count": 151,
   "outputs": [],
   "source": [
    "# ‘additive_chi2’, ‘chi2’, ‘linear’, ‘rbf’, ‘laplacian’, ‘sigmoid’, ‘cosine\n",
    "# kernel = Nystroem(kernel='cosine', gamma=0.65, coef0=0, n_components=2000, random_state=100, n_jobs=-1)\n",
    "# kernel.fit(X_train)\n",
    "# X_train = kernel.transform(X_train)\n",
    "# X_valid = kernel.transform(X_valid)\n",
    "# X_test = kernel.transform(X_test)\n",
    "\n",
    "scaler = Normalizer(norm='max', copy=True).fit(X_svm_train)\n",
    "# scaler = RobustScaler(with_centering=False, unit_variance=True).fit(X_red_train)\n",
    "# scaler = MinMaxScaler(feature_range=(0, 1), copy=True, clip=False).fit(X_red_train)\n",
    "# scaler = MaxAbsScaler(copy=True).fit(X_red_train)\n",
    "X_final_train = scaler.transform(X_svm_train)\n",
    "X_final_valid = scaler.transform(X_svm_valid)\n",
    "X_final_test = scaler.transform(X_svm_test)"
   ],
   "metadata": {
    "collapsed": false,
    "pycharm": {
     "name": "#%%\n"
    }
   }
  },
  {
   "cell_type": "code",
   "execution_count": 152,
   "outputs": [],
   "source": [
    "def objective(trial, X_train=X_final_train, y_train=y_train,X_valid=X_final_valid, y_valid=y_valid,model=create_model):\n",
    "\n",
    "    model = create_model(trial)\n",
    "    model.fit(X_train, y_train)\n",
    "    preds = model.predict(X_valid)\n",
    "    score = macro_f1_score(y_valid, preds)\n",
    "    return score"
   ],
   "metadata": {
    "collapsed": false,
    "pycharm": {
     "name": "#%%\n"
    }
   }
  },
  {
   "cell_type": "code",
   "source": [
    "%%time\n",
    "study = optuna.create_study(sampler=optuna.samplers.TPESampler(), direction='maximize') # can define seed for sampler\n",
    "study.optimize(objective, n_trials=50)"
   ],
   "metadata": {
    "execution": {
     "iopub.status.busy": "2022-08-01T05:12:53.335514Z",
     "iopub.execute_input": "2022-08-01T05:12:53.336140Z",
     "iopub.status.idle": "2022-08-01T05:22:15.216097Z",
     "shell.execute_reply.started": "2022-08-01T05:12:53.336105Z",
     "shell.execute_reply": "2022-08-01T05:22:15.214108Z"
    },
    "trusted": true,
    "pycharm": {
     "name": "#%%\n"
    }
   },
   "execution_count": 153,
   "outputs": [
    {
     "name": "stderr",
     "output_type": "stream",
     "text": [
      "\u001B[32m[I 2022-08-02 13:44:12,328]\u001B[0m A new study created in memory with name: no-name-7c424004-2932-45a2-a915-2f19db8e0557\u001B[0m\n"
     ]
    },
    {
     "name": "stdout",
     "output_type": "stream",
     "text": [
      "A new study created in memory with name: no-name-7c424004-2932-45a2-a915-2f19db8e0557\n",
      "A new study created in memory with name: no-name-7c424004-2932-45a2-a915-2f19db8e0557\n",
      "A new study created in memory with name: no-name-7c424004-2932-45a2-a915-2f19db8e0557\n",
      "A new study created in memory with name: no-name-7c424004-2932-45a2-a915-2f19db8e0557\n"
     ]
    },
    {
     "name": "stderr",
     "output_type": "stream",
     "text": [
      "\u001B[32m[I 2022-08-02 13:44:17,867]\u001B[0m Trial 0 finished with value: 0.6823121450415028 and parameters: {'boosting_type': 'gbdt', 'learning_rate': 0.1301212381528452, 'max_depth': 117, 'num_leaves': 138, 'colsample_bytree': 0.668499891513124, 'subsample': 0.6959886441779408, 'scale_pos_weight': 1.601800119483772, 'min_child_samples': 17, 'min_child_weight': 3.581148532418961e-06, 'min_split_gain': 0.28263324353011804, 'max_delta_step': 1.5748395122191405, 'n_estimators': 20, 'reg_alpha': 64.79899595506276, 'reg_lambda': 0.06417344409538477}. Best is trial 0 with value: 0.6823121450415028.\u001B[0m\n"
     ]
    },
    {
     "name": "stdout",
     "output_type": "stream",
     "text": [
      "Accuracy: 0.6973929236499069\n",
      "Macro-F1 score: 0.6823121450415028\n",
      "Trial 0 finished with value: 0.6823121450415028 and parameters: {'boosting_type': 'gbdt', 'learning_rate': 0.1301212381528452, 'max_depth': 117, 'num_leaves': 138, 'colsample_bytree': 0.668499891513124, 'subsample': 0.6959886441779408, 'scale_pos_weight': 1.601800119483772, 'min_child_samples': 17, 'min_child_weight': 3.581148532418961e-06, 'min_split_gain': 0.28263324353011804, 'max_delta_step': 1.5748395122191405, 'n_estimators': 20, 'reg_alpha': 64.79899595506276, 'reg_lambda': 0.06417344409538477}. Best is trial 0 with value: 0.6823121450415028.\n",
      "Trial 0 finished with value: 0.6823121450415028 and parameters: {'boosting_type': 'gbdt', 'learning_rate': 0.1301212381528452, 'max_depth': 117, 'num_leaves': 138, 'colsample_bytree': 0.668499891513124, 'subsample': 0.6959886441779408, 'scale_pos_weight': 1.601800119483772, 'min_child_samples': 17, 'min_child_weight': 3.581148532418961e-06, 'min_split_gain': 0.28263324353011804, 'max_delta_step': 1.5748395122191405, 'n_estimators': 20, 'reg_alpha': 64.79899595506276, 'reg_lambda': 0.06417344409538477}. Best is trial 0 with value: 0.6823121450415028.\n",
      "Trial 0 finished with value: 0.6823121450415028 and parameters: {'boosting_type': 'gbdt', 'learning_rate': 0.1301212381528452, 'max_depth': 117, 'num_leaves': 138, 'colsample_bytree': 0.668499891513124, 'subsample': 0.6959886441779408, 'scale_pos_weight': 1.601800119483772, 'min_child_samples': 17, 'min_child_weight': 3.581148532418961e-06, 'min_split_gain': 0.28263324353011804, 'max_delta_step': 1.5748395122191405, 'n_estimators': 20, 'reg_alpha': 64.79899595506276, 'reg_lambda': 0.06417344409538477}. Best is trial 0 with value: 0.6823121450415028.\n",
      "Trial 0 finished with value: 0.6823121450415028 and parameters: {'boosting_type': 'gbdt', 'learning_rate': 0.1301212381528452, 'max_depth': 117, 'num_leaves': 138, 'colsample_bytree': 0.668499891513124, 'subsample': 0.6959886441779408, 'scale_pos_weight': 1.601800119483772, 'min_child_samples': 17, 'min_child_weight': 3.581148532418961e-06, 'min_split_gain': 0.28263324353011804, 'max_delta_step': 1.5748395122191405, 'n_estimators': 20, 'reg_alpha': 64.79899595506276, 'reg_lambda': 0.06417344409538477}. Best is trial 0 with value: 0.6823121450415028.\n"
     ]
    },
    {
     "name": "stderr",
     "output_type": "stream",
     "text": [
      "\u001B[32m[I 2022-08-02 13:44:26,139]\u001B[0m Trial 1 finished with value: 0.5547030317006104 and parameters: {'boosting_type': 'gbdt', 'learning_rate': 0.028917517501997947, 'max_depth': 185, 'num_leaves': 216, 'colsample_bytree': 0.5625886764275239, 'subsample': 0.6418075782836599, 'scale_pos_weight': 1.469399092351092, 'min_child_samples': 20, 'min_child_weight': 0.052664519909166846, 'min_split_gain': 0.20470021551960166, 'max_delta_step': 0.43977197498737697, 'n_estimators': 45, 'reg_alpha': 21.02454989902164, 'reg_lambda': 0.07458033049010115}. Best is trial 0 with value: 0.6823121450415028.\u001B[0m\n"
     ]
    },
    {
     "name": "stdout",
     "output_type": "stream",
     "text": [
      "Accuracy: 0.6685288640595903\n",
      "Macro-F1 score: 0.5547030317006104\n",
      "Trial 1 finished with value: 0.5547030317006104 and parameters: {'boosting_type': 'gbdt', 'learning_rate': 0.028917517501997947, 'max_depth': 185, 'num_leaves': 216, 'colsample_bytree': 0.5625886764275239, 'subsample': 0.6418075782836599, 'scale_pos_weight': 1.469399092351092, 'min_child_samples': 20, 'min_child_weight': 0.052664519909166846, 'min_split_gain': 0.20470021551960166, 'max_delta_step': 0.43977197498737697, 'n_estimators': 45, 'reg_alpha': 21.02454989902164, 'reg_lambda': 0.07458033049010115}. Best is trial 0 with value: 0.6823121450415028.\n",
      "Trial 1 finished with value: 0.5547030317006104 and parameters: {'boosting_type': 'gbdt', 'learning_rate': 0.028917517501997947, 'max_depth': 185, 'num_leaves': 216, 'colsample_bytree': 0.5625886764275239, 'subsample': 0.6418075782836599, 'scale_pos_weight': 1.469399092351092, 'min_child_samples': 20, 'min_child_weight': 0.052664519909166846, 'min_split_gain': 0.20470021551960166, 'max_delta_step': 0.43977197498737697, 'n_estimators': 45, 'reg_alpha': 21.02454989902164, 'reg_lambda': 0.07458033049010115}. Best is trial 0 with value: 0.6823121450415028.\n",
      "Trial 1 finished with value: 0.5547030317006104 and parameters: {'boosting_type': 'gbdt', 'learning_rate': 0.028917517501997947, 'max_depth': 185, 'num_leaves': 216, 'colsample_bytree': 0.5625886764275239, 'subsample': 0.6418075782836599, 'scale_pos_weight': 1.469399092351092, 'min_child_samples': 20, 'min_child_weight': 0.052664519909166846, 'min_split_gain': 0.20470021551960166, 'max_delta_step': 0.43977197498737697, 'n_estimators': 45, 'reg_alpha': 21.02454989902164, 'reg_lambda': 0.07458033049010115}. Best is trial 0 with value: 0.6823121450415028.\n",
      "Trial 1 finished with value: 0.5547030317006104 and parameters: {'boosting_type': 'gbdt', 'learning_rate': 0.028917517501997947, 'max_depth': 185, 'num_leaves': 216, 'colsample_bytree': 0.5625886764275239, 'subsample': 0.6418075782836599, 'scale_pos_weight': 1.469399092351092, 'min_child_samples': 20, 'min_child_weight': 0.052664519909166846, 'min_split_gain': 0.20470021551960166, 'max_delta_step': 0.43977197498737697, 'n_estimators': 45, 'reg_alpha': 21.02454989902164, 'reg_lambda': 0.07458033049010115}. Best is trial 0 with value: 0.6823121450415028.\n"
     ]
    },
    {
     "name": "stderr",
     "output_type": "stream",
     "text": [
      "\u001B[32m[I 2022-08-02 13:44:52,446]\u001B[0m Trial 2 finished with value: 0.6724866028022669 and parameters: {'boosting_type': 'gbdt', 'learning_rate': 0.04289488611712171, 'max_depth': 169, 'num_leaves': 218, 'colsample_bytree': 0.6523145833943995, 'subsample': 0.6931828151642022, 'scale_pos_weight': 1.4077117681950189, 'min_child_samples': 8, 'min_child_weight': 0.0001743656206180524, 'min_split_gain': 0.25296047239893404, 'max_delta_step': 0.32416376868114716, 'n_estimators': 70, 'reg_alpha': 0.0048114332053837494, 'reg_lambda': 9.090831920353732}. Best is trial 0 with value: 0.6823121450415028.\u001B[0m\n"
     ]
    },
    {
     "name": "stdout",
     "output_type": "stream",
     "text": [
      "Accuracy: 0.707169459962756\n",
      "Macro-F1 score: 0.6724866028022669\n",
      "Trial 2 finished with value: 0.6724866028022669 and parameters: {'boosting_type': 'gbdt', 'learning_rate': 0.04289488611712171, 'max_depth': 169, 'num_leaves': 218, 'colsample_bytree': 0.6523145833943995, 'subsample': 0.6931828151642022, 'scale_pos_weight': 1.4077117681950189, 'min_child_samples': 8, 'min_child_weight': 0.0001743656206180524, 'min_split_gain': 0.25296047239893404, 'max_delta_step': 0.32416376868114716, 'n_estimators': 70, 'reg_alpha': 0.0048114332053837494, 'reg_lambda': 9.090831920353732}. Best is trial 0 with value: 0.6823121450415028.\n",
      "Trial 2 finished with value: 0.6724866028022669 and parameters: {'boosting_type': 'gbdt', 'learning_rate': 0.04289488611712171, 'max_depth': 169, 'num_leaves': 218, 'colsample_bytree': 0.6523145833943995, 'subsample': 0.6931828151642022, 'scale_pos_weight': 1.4077117681950189, 'min_child_samples': 8, 'min_child_weight': 0.0001743656206180524, 'min_split_gain': 0.25296047239893404, 'max_delta_step': 0.32416376868114716, 'n_estimators': 70, 'reg_alpha': 0.0048114332053837494, 'reg_lambda': 9.090831920353732}. Best is trial 0 with value: 0.6823121450415028.\n",
      "Trial 2 finished with value: 0.6724866028022669 and parameters: {'boosting_type': 'gbdt', 'learning_rate': 0.04289488611712171, 'max_depth': 169, 'num_leaves': 218, 'colsample_bytree': 0.6523145833943995, 'subsample': 0.6931828151642022, 'scale_pos_weight': 1.4077117681950189, 'min_child_samples': 8, 'min_child_weight': 0.0001743656206180524, 'min_split_gain': 0.25296047239893404, 'max_delta_step': 0.32416376868114716, 'n_estimators': 70, 'reg_alpha': 0.0048114332053837494, 'reg_lambda': 9.090831920353732}. Best is trial 0 with value: 0.6823121450415028.\n",
      "Trial 2 finished with value: 0.6724866028022669 and parameters: {'boosting_type': 'gbdt', 'learning_rate': 0.04289488611712171, 'max_depth': 169, 'num_leaves': 218, 'colsample_bytree': 0.6523145833943995, 'subsample': 0.6931828151642022, 'scale_pos_weight': 1.4077117681950189, 'min_child_samples': 8, 'min_child_weight': 0.0001743656206180524, 'min_split_gain': 0.25296047239893404, 'max_delta_step': 0.32416376868114716, 'n_estimators': 70, 'reg_alpha': 0.0048114332053837494, 'reg_lambda': 9.090831920353732}. Best is trial 0 with value: 0.6823121450415028.\n"
     ]
    },
    {
     "name": "stderr",
     "output_type": "stream",
     "text": [
      "\u001B[32m[I 2022-08-02 13:46:04,504]\u001B[0m Trial 3 finished with value: 0.6984945109865205 and parameters: {'boosting_type': 'gbdt', 'learning_rate': 0.08496681213459162, 'max_depth': 130, 'num_leaves': 148, 'colsample_bytree': 0.989012401982024, 'subsample': 0.57769841555668, 'scale_pos_weight': 1.971613976752757, 'min_child_samples': 6, 'min_child_weight': 1.0097478168619469e-08, 'min_split_gain': 0.000589857106931905, 'max_delta_step': 0.3351478725400667, 'n_estimators': 95, 'reg_alpha': 0.014766153692199267, 'reg_lambda': 0.002523800554882034}. Best is trial 3 with value: 0.6984945109865205.\u001B[0m\n"
     ]
    },
    {
     "name": "stdout",
     "output_type": "stream",
     "text": [
      "Accuracy: 0.707635009310987\n",
      "Macro-F1 score: 0.6984945109865205\n",
      "Trial 3 finished with value: 0.6984945109865205 and parameters: {'boosting_type': 'gbdt', 'learning_rate': 0.08496681213459162, 'max_depth': 130, 'num_leaves': 148, 'colsample_bytree': 0.989012401982024, 'subsample': 0.57769841555668, 'scale_pos_weight': 1.971613976752757, 'min_child_samples': 6, 'min_child_weight': 1.0097478168619469e-08, 'min_split_gain': 0.000589857106931905, 'max_delta_step': 0.3351478725400667, 'n_estimators': 95, 'reg_alpha': 0.014766153692199267, 'reg_lambda': 0.002523800554882034}. Best is trial 3 with value: 0.6984945109865205.\n",
      "Trial 3 finished with value: 0.6984945109865205 and parameters: {'boosting_type': 'gbdt', 'learning_rate': 0.08496681213459162, 'max_depth': 130, 'num_leaves': 148, 'colsample_bytree': 0.989012401982024, 'subsample': 0.57769841555668, 'scale_pos_weight': 1.971613976752757, 'min_child_samples': 6, 'min_child_weight': 1.0097478168619469e-08, 'min_split_gain': 0.000589857106931905, 'max_delta_step': 0.3351478725400667, 'n_estimators': 95, 'reg_alpha': 0.014766153692199267, 'reg_lambda': 0.002523800554882034}. Best is trial 3 with value: 0.6984945109865205.\n",
      "Trial 3 finished with value: 0.6984945109865205 and parameters: {'boosting_type': 'gbdt', 'learning_rate': 0.08496681213459162, 'max_depth': 130, 'num_leaves': 148, 'colsample_bytree': 0.989012401982024, 'subsample': 0.57769841555668, 'scale_pos_weight': 1.971613976752757, 'min_child_samples': 6, 'min_child_weight': 1.0097478168619469e-08, 'min_split_gain': 0.000589857106931905, 'max_delta_step': 0.3351478725400667, 'n_estimators': 95, 'reg_alpha': 0.014766153692199267, 'reg_lambda': 0.002523800554882034}. Best is trial 3 with value: 0.6984945109865205.\n",
      "Trial 3 finished with value: 0.6984945109865205 and parameters: {'boosting_type': 'gbdt', 'learning_rate': 0.08496681213459162, 'max_depth': 130, 'num_leaves': 148, 'colsample_bytree': 0.989012401982024, 'subsample': 0.57769841555668, 'scale_pos_weight': 1.971613976752757, 'min_child_samples': 6, 'min_child_weight': 1.0097478168619469e-08, 'min_split_gain': 0.000589857106931905, 'max_delta_step': 0.3351478725400667, 'n_estimators': 95, 'reg_alpha': 0.014766153692199267, 'reg_lambda': 0.002523800554882034}. Best is trial 3 with value: 0.6984945109865205.\n"
     ]
    },
    {
     "name": "stderr",
     "output_type": "stream",
     "text": [
      "\u001B[32m[I 2022-08-02 13:46:23,256]\u001B[0m Trial 4 finished with value: 0.681882313309119 and parameters: {'boosting_type': 'dart', 'learning_rate': 0.0261328575462891, 'max_depth': 121, 'num_leaves': 250, 'colsample_bytree': 0.6564591993948403, 'subsample': 0.44842958335341127, 'scale_pos_weight': 1.880737111811561, 'min_child_samples': 18, 'min_child_weight': 1.0763599451324175e-07, 'min_split_gain': 0.006425252027790984, 'max_delta_step': 0.7984923877412033, 'n_estimators': 55, 'reg_alpha': 3.087460575445448, 'reg_lambda': 9.32945993038728}. Best is trial 3 with value: 0.6984945109865205.\u001B[0m\n"
     ]
    },
    {
     "name": "stdout",
     "output_type": "stream",
     "text": [
      "Accuracy: 0.7118249534450651\n",
      "Macro-F1 score: 0.681882313309119\n",
      "Trial 4 finished with value: 0.681882313309119 and parameters: {'boosting_type': 'dart', 'learning_rate': 0.0261328575462891, 'max_depth': 121, 'num_leaves': 250, 'colsample_bytree': 0.6564591993948403, 'subsample': 0.44842958335341127, 'scale_pos_weight': 1.880737111811561, 'min_child_samples': 18, 'min_child_weight': 1.0763599451324175e-07, 'min_split_gain': 0.006425252027790984, 'max_delta_step': 0.7984923877412033, 'n_estimators': 55, 'reg_alpha': 3.087460575445448, 'reg_lambda': 9.32945993038728}. Best is trial 3 with value: 0.6984945109865205.\n",
      "Trial 4 finished with value: 0.681882313309119 and parameters: {'boosting_type': 'dart', 'learning_rate': 0.0261328575462891, 'max_depth': 121, 'num_leaves': 250, 'colsample_bytree': 0.6564591993948403, 'subsample': 0.44842958335341127, 'scale_pos_weight': 1.880737111811561, 'min_child_samples': 18, 'min_child_weight': 1.0763599451324175e-07, 'min_split_gain': 0.006425252027790984, 'max_delta_step': 0.7984923877412033, 'n_estimators': 55, 'reg_alpha': 3.087460575445448, 'reg_lambda': 9.32945993038728}. Best is trial 3 with value: 0.6984945109865205.\n",
      "Trial 4 finished with value: 0.681882313309119 and parameters: {'boosting_type': 'dart', 'learning_rate': 0.0261328575462891, 'max_depth': 121, 'num_leaves': 250, 'colsample_bytree': 0.6564591993948403, 'subsample': 0.44842958335341127, 'scale_pos_weight': 1.880737111811561, 'min_child_samples': 18, 'min_child_weight': 1.0763599451324175e-07, 'min_split_gain': 0.006425252027790984, 'max_delta_step': 0.7984923877412033, 'n_estimators': 55, 'reg_alpha': 3.087460575445448, 'reg_lambda': 9.32945993038728}. Best is trial 3 with value: 0.6984945109865205.\n",
      "Trial 4 finished with value: 0.681882313309119 and parameters: {'boosting_type': 'dart', 'learning_rate': 0.0261328575462891, 'max_depth': 121, 'num_leaves': 250, 'colsample_bytree': 0.6564591993948403, 'subsample': 0.44842958335341127, 'scale_pos_weight': 1.880737111811561, 'min_child_samples': 18, 'min_child_weight': 1.0763599451324175e-07, 'min_split_gain': 0.006425252027790984, 'max_delta_step': 0.7984923877412033, 'n_estimators': 55, 'reg_alpha': 3.087460575445448, 'reg_lambda': 9.32945993038728}. Best is trial 3 with value: 0.6984945109865205.\n"
     ]
    },
    {
     "name": "stderr",
     "output_type": "stream",
     "text": [
      "\u001B[32m[I 2022-08-02 13:47:24,610]\u001B[0m Trial 5 finished with value: 0.7005313610476038 and parameters: {'boosting_type': 'dart', 'learning_rate': 0.31603080590966043, 'max_depth': 140, 'num_leaves': 145, 'colsample_bytree': 0.9288535782742656, 'subsample': 0.3313192603889096, 'scale_pos_weight': 1.8630387169560891, 'min_child_samples': 7, 'min_child_weight': 3.7559281438966556e-06, 'min_split_gain': 0.0005623426542937687, 'max_delta_step': 0.572483637341322, 'n_estimators': 70, 'reg_alpha': 0.004742830221760896, 'reg_lambda': 0.031241578675688515}. Best is trial 5 with value: 0.7005313610476038.\u001B[0m\n"
     ]
    },
    {
     "name": "stdout",
     "output_type": "stream",
     "text": [
      "Accuracy: 0.7197392923649907\n",
      "Macro-F1 score: 0.7005313610476038\n",
      "Trial 5 finished with value: 0.7005313610476038 and parameters: {'boosting_type': 'dart', 'learning_rate': 0.31603080590966043, 'max_depth': 140, 'num_leaves': 145, 'colsample_bytree': 0.9288535782742656, 'subsample': 0.3313192603889096, 'scale_pos_weight': 1.8630387169560891, 'min_child_samples': 7, 'min_child_weight': 3.7559281438966556e-06, 'min_split_gain': 0.0005623426542937687, 'max_delta_step': 0.572483637341322, 'n_estimators': 70, 'reg_alpha': 0.004742830221760896, 'reg_lambda': 0.031241578675688515}. Best is trial 5 with value: 0.7005313610476038.\n",
      "Trial 5 finished with value: 0.7005313610476038 and parameters: {'boosting_type': 'dart', 'learning_rate': 0.31603080590966043, 'max_depth': 140, 'num_leaves': 145, 'colsample_bytree': 0.9288535782742656, 'subsample': 0.3313192603889096, 'scale_pos_weight': 1.8630387169560891, 'min_child_samples': 7, 'min_child_weight': 3.7559281438966556e-06, 'min_split_gain': 0.0005623426542937687, 'max_delta_step': 0.572483637341322, 'n_estimators': 70, 'reg_alpha': 0.004742830221760896, 'reg_lambda': 0.031241578675688515}. Best is trial 5 with value: 0.7005313610476038.\n",
      "Trial 5 finished with value: 0.7005313610476038 and parameters: {'boosting_type': 'dart', 'learning_rate': 0.31603080590966043, 'max_depth': 140, 'num_leaves': 145, 'colsample_bytree': 0.9288535782742656, 'subsample': 0.3313192603889096, 'scale_pos_weight': 1.8630387169560891, 'min_child_samples': 7, 'min_child_weight': 3.7559281438966556e-06, 'min_split_gain': 0.0005623426542937687, 'max_delta_step': 0.572483637341322, 'n_estimators': 70, 'reg_alpha': 0.004742830221760896, 'reg_lambda': 0.031241578675688515}. Best is trial 5 with value: 0.7005313610476038.\n",
      "Trial 5 finished with value: 0.7005313610476038 and parameters: {'boosting_type': 'dart', 'learning_rate': 0.31603080590966043, 'max_depth': 140, 'num_leaves': 145, 'colsample_bytree': 0.9288535782742656, 'subsample': 0.3313192603889096, 'scale_pos_weight': 1.8630387169560891, 'min_child_samples': 7, 'min_child_weight': 3.7559281438966556e-06, 'min_split_gain': 0.0005623426542937687, 'max_delta_step': 0.572483637341322, 'n_estimators': 70, 'reg_alpha': 0.004742830221760896, 'reg_lambda': 0.031241578675688515}. Best is trial 5 with value: 0.7005313610476038.\n"
     ]
    },
    {
     "name": "stderr",
     "output_type": "stream",
     "text": [
      "\u001B[32m[I 2022-08-02 13:47:55,862]\u001B[0m Trial 6 finished with value: 0.7001437858010358 and parameters: {'boosting_type': 'gbdt', 'learning_rate': 0.14864995085814306, 'max_depth': 137, 'num_leaves': 121, 'colsample_bytree': 0.8254902984934751, 'subsample': 0.4174598569632289, 'scale_pos_weight': 1.7068263631860017, 'min_child_samples': 3, 'min_child_weight': 0.00013654042895149628, 'min_split_gain': 0.006567003066777645, 'max_delta_step': 1.736910469435213, 'n_estimators': 40, 'reg_alpha': 0.019775065291588276, 'reg_lambda': 0.0004984457830462284}. Best is trial 5 with value: 0.7005313610476038.\u001B[0m\n"
     ]
    },
    {
     "name": "stdout",
     "output_type": "stream",
     "text": [
      "Accuracy: 0.7206703910614525\n",
      "Macro-F1 score: 0.7001437858010358\n",
      "Trial 6 finished with value: 0.7001437858010358 and parameters: {'boosting_type': 'gbdt', 'learning_rate': 0.14864995085814306, 'max_depth': 137, 'num_leaves': 121, 'colsample_bytree': 0.8254902984934751, 'subsample': 0.4174598569632289, 'scale_pos_weight': 1.7068263631860017, 'min_child_samples': 3, 'min_child_weight': 0.00013654042895149628, 'min_split_gain': 0.006567003066777645, 'max_delta_step': 1.736910469435213, 'n_estimators': 40, 'reg_alpha': 0.019775065291588276, 'reg_lambda': 0.0004984457830462284}. Best is trial 5 with value: 0.7005313610476038.\n",
      "Trial 6 finished with value: 0.7001437858010358 and parameters: {'boosting_type': 'gbdt', 'learning_rate': 0.14864995085814306, 'max_depth': 137, 'num_leaves': 121, 'colsample_bytree': 0.8254902984934751, 'subsample': 0.4174598569632289, 'scale_pos_weight': 1.7068263631860017, 'min_child_samples': 3, 'min_child_weight': 0.00013654042895149628, 'min_split_gain': 0.006567003066777645, 'max_delta_step': 1.736910469435213, 'n_estimators': 40, 'reg_alpha': 0.019775065291588276, 'reg_lambda': 0.0004984457830462284}. Best is trial 5 with value: 0.7005313610476038.\n",
      "Trial 6 finished with value: 0.7001437858010358 and parameters: {'boosting_type': 'gbdt', 'learning_rate': 0.14864995085814306, 'max_depth': 137, 'num_leaves': 121, 'colsample_bytree': 0.8254902984934751, 'subsample': 0.4174598569632289, 'scale_pos_weight': 1.7068263631860017, 'min_child_samples': 3, 'min_child_weight': 0.00013654042895149628, 'min_split_gain': 0.006567003066777645, 'max_delta_step': 1.736910469435213, 'n_estimators': 40, 'reg_alpha': 0.019775065291588276, 'reg_lambda': 0.0004984457830462284}. Best is trial 5 with value: 0.7005313610476038.\n",
      "Trial 6 finished with value: 0.7001437858010358 and parameters: {'boosting_type': 'gbdt', 'learning_rate': 0.14864995085814306, 'max_depth': 137, 'num_leaves': 121, 'colsample_bytree': 0.8254902984934751, 'subsample': 0.4174598569632289, 'scale_pos_weight': 1.7068263631860017, 'min_child_samples': 3, 'min_child_weight': 0.00013654042895149628, 'min_split_gain': 0.006567003066777645, 'max_delta_step': 1.736910469435213, 'n_estimators': 40, 'reg_alpha': 0.019775065291588276, 'reg_lambda': 0.0004984457830462284}. Best is trial 5 with value: 0.7005313610476038.\n"
     ]
    },
    {
     "name": "stderr",
     "output_type": "stream",
     "text": [
      "\u001B[32m[I 2022-08-02 13:48:11,701]\u001B[0m Trial 7 finished with value: 0.6893534391486715 and parameters: {'boosting_type': 'dart', 'learning_rate': 0.2559362921857207, 'max_depth': 83, 'num_leaves': 205, 'colsample_bytree': 0.6356769958183213, 'subsample': 0.505387232325176, 'scale_pos_weight': 1.6319066887656388, 'min_child_samples': 5, 'min_child_weight': 0.0016918740798426964, 'min_split_gain': 0.06137399838887039, 'max_delta_step': 0.19832843493432856, 'n_estimators': 50, 'reg_alpha': 10.35418808969371, 'reg_lambda': 5.874876545357605}. Best is trial 5 with value: 0.7005313610476038.\u001B[0m\n"
     ]
    },
    {
     "name": "stdout",
     "output_type": "stream",
     "text": [
      "Accuracy: 0.7011173184357542\n",
      "Macro-F1 score: 0.6893534391486715\n",
      "Trial 7 finished with value: 0.6893534391486715 and parameters: {'boosting_type': 'dart', 'learning_rate': 0.2559362921857207, 'max_depth': 83, 'num_leaves': 205, 'colsample_bytree': 0.6356769958183213, 'subsample': 0.505387232325176, 'scale_pos_weight': 1.6319066887656388, 'min_child_samples': 5, 'min_child_weight': 0.0016918740798426964, 'min_split_gain': 0.06137399838887039, 'max_delta_step': 0.19832843493432856, 'n_estimators': 50, 'reg_alpha': 10.35418808969371, 'reg_lambda': 5.874876545357605}. Best is trial 5 with value: 0.7005313610476038.\n",
      "Trial 7 finished with value: 0.6893534391486715 and parameters: {'boosting_type': 'dart', 'learning_rate': 0.2559362921857207, 'max_depth': 83, 'num_leaves': 205, 'colsample_bytree': 0.6356769958183213, 'subsample': 0.505387232325176, 'scale_pos_weight': 1.6319066887656388, 'min_child_samples': 5, 'min_child_weight': 0.0016918740798426964, 'min_split_gain': 0.06137399838887039, 'max_delta_step': 0.19832843493432856, 'n_estimators': 50, 'reg_alpha': 10.35418808969371, 'reg_lambda': 5.874876545357605}. Best is trial 5 with value: 0.7005313610476038.\n",
      "Trial 7 finished with value: 0.6893534391486715 and parameters: {'boosting_type': 'dart', 'learning_rate': 0.2559362921857207, 'max_depth': 83, 'num_leaves': 205, 'colsample_bytree': 0.6356769958183213, 'subsample': 0.505387232325176, 'scale_pos_weight': 1.6319066887656388, 'min_child_samples': 5, 'min_child_weight': 0.0016918740798426964, 'min_split_gain': 0.06137399838887039, 'max_delta_step': 0.19832843493432856, 'n_estimators': 50, 'reg_alpha': 10.35418808969371, 'reg_lambda': 5.874876545357605}. Best is trial 5 with value: 0.7005313610476038.\n",
      "Trial 7 finished with value: 0.6893534391486715 and parameters: {'boosting_type': 'dart', 'learning_rate': 0.2559362921857207, 'max_depth': 83, 'num_leaves': 205, 'colsample_bytree': 0.6356769958183213, 'subsample': 0.505387232325176, 'scale_pos_weight': 1.6319066887656388, 'min_child_samples': 5, 'min_child_weight': 0.0016918740798426964, 'min_split_gain': 0.06137399838887039, 'max_delta_step': 0.19832843493432856, 'n_estimators': 50, 'reg_alpha': 10.35418808969371, 'reg_lambda': 5.874876545357605}. Best is trial 5 with value: 0.7005313610476038.\n"
     ]
    },
    {
     "name": "stderr",
     "output_type": "stream",
     "text": [
      "\u001B[32m[I 2022-08-02 13:48:20,889]\u001B[0m Trial 8 finished with value: 0.6590538838032464 and parameters: {'boosting_type': 'goss', 'learning_rate': 0.09827972353191375, 'max_depth': 84, 'num_leaves': 200, 'colsample_bytree': 0.6779570806532451, 'subsample': 0.30135548129685896, 'scale_pos_weight': 1.6751361329565047, 'min_child_samples': 13, 'min_child_weight': 2.1339489106407356e-08, 'min_split_gain': 0.12656276065659514, 'max_delta_step': 1.3873082341306635, 'n_estimators': 20, 'reg_alpha': 10.940752097048085, 'reg_lambda': 0.04055130026945519}. Best is trial 5 with value: 0.7005313610476038.\u001B[0m\n"
     ]
    },
    {
     "name": "stdout",
     "output_type": "stream",
     "text": [
      "Accuracy: 0.6662011173184358\n",
      "Macro-F1 score: 0.6590538838032464\n",
      "Trial 8 finished with value: 0.6590538838032464 and parameters: {'boosting_type': 'goss', 'learning_rate': 0.09827972353191375, 'max_depth': 84, 'num_leaves': 200, 'colsample_bytree': 0.6779570806532451, 'subsample': 0.30135548129685896, 'scale_pos_weight': 1.6751361329565047, 'min_child_samples': 13, 'min_child_weight': 2.1339489106407356e-08, 'min_split_gain': 0.12656276065659514, 'max_delta_step': 1.3873082341306635, 'n_estimators': 20, 'reg_alpha': 10.940752097048085, 'reg_lambda': 0.04055130026945519}. Best is trial 5 with value: 0.7005313610476038.\n",
      "Trial 8 finished with value: 0.6590538838032464 and parameters: {'boosting_type': 'goss', 'learning_rate': 0.09827972353191375, 'max_depth': 84, 'num_leaves': 200, 'colsample_bytree': 0.6779570806532451, 'subsample': 0.30135548129685896, 'scale_pos_weight': 1.6751361329565047, 'min_child_samples': 13, 'min_child_weight': 2.1339489106407356e-08, 'min_split_gain': 0.12656276065659514, 'max_delta_step': 1.3873082341306635, 'n_estimators': 20, 'reg_alpha': 10.940752097048085, 'reg_lambda': 0.04055130026945519}. Best is trial 5 with value: 0.7005313610476038.\n",
      "Trial 8 finished with value: 0.6590538838032464 and parameters: {'boosting_type': 'goss', 'learning_rate': 0.09827972353191375, 'max_depth': 84, 'num_leaves': 200, 'colsample_bytree': 0.6779570806532451, 'subsample': 0.30135548129685896, 'scale_pos_weight': 1.6751361329565047, 'min_child_samples': 13, 'min_child_weight': 2.1339489106407356e-08, 'min_split_gain': 0.12656276065659514, 'max_delta_step': 1.3873082341306635, 'n_estimators': 20, 'reg_alpha': 10.940752097048085, 'reg_lambda': 0.04055130026945519}. Best is trial 5 with value: 0.7005313610476038.\n",
      "Trial 8 finished with value: 0.6590538838032464 and parameters: {'boosting_type': 'goss', 'learning_rate': 0.09827972353191375, 'max_depth': 84, 'num_leaves': 200, 'colsample_bytree': 0.6779570806532451, 'subsample': 0.30135548129685896, 'scale_pos_weight': 1.6751361329565047, 'min_child_samples': 13, 'min_child_weight': 2.1339489106407356e-08, 'min_split_gain': 0.12656276065659514, 'max_delta_step': 1.3873082341306635, 'n_estimators': 20, 'reg_alpha': 10.940752097048085, 'reg_lambda': 0.04055130026945519}. Best is trial 5 with value: 0.7005313610476038.\n"
     ]
    },
    {
     "name": "stderr",
     "output_type": "stream",
     "text": [
      "\u001B[32m[I 2022-08-02 13:48:27,673]\u001B[0m Trial 9 finished with value: 0.6434634114777482 and parameters: {'boosting_type': 'gbdt', 'learning_rate': 0.0914465364832595, 'max_depth': 159, 'num_leaves': 147, 'colsample_bytree': 0.4256570823050977, 'subsample': 0.4676445021486438, 'scale_pos_weight': 1.2534290573112525, 'min_child_samples': 15, 'min_child_weight': 1.8467203713520812e-05, 'min_split_gain': 0.008365542645361884, 'max_delta_step': 0.3141560848950692, 'n_estimators': 45, 'reg_alpha': 69.76858908305006, 'reg_lambda': 0.12306054792495176}. Best is trial 5 with value: 0.7005313610476038.\u001B[0m\n"
     ]
    },
    {
     "name": "stdout",
     "output_type": "stream",
     "text": [
      "Accuracy: 0.6978584729981379\n",
      "Macro-F1 score: 0.6434634114777482\n",
      "Trial 9 finished with value: 0.6434634114777482 and parameters: {'boosting_type': 'gbdt', 'learning_rate': 0.0914465364832595, 'max_depth': 159, 'num_leaves': 147, 'colsample_bytree': 0.4256570823050977, 'subsample': 0.4676445021486438, 'scale_pos_weight': 1.2534290573112525, 'min_child_samples': 15, 'min_child_weight': 1.8467203713520812e-05, 'min_split_gain': 0.008365542645361884, 'max_delta_step': 0.3141560848950692, 'n_estimators': 45, 'reg_alpha': 69.76858908305006, 'reg_lambda': 0.12306054792495176}. Best is trial 5 with value: 0.7005313610476038.\n",
      "Trial 9 finished with value: 0.6434634114777482 and parameters: {'boosting_type': 'gbdt', 'learning_rate': 0.0914465364832595, 'max_depth': 159, 'num_leaves': 147, 'colsample_bytree': 0.4256570823050977, 'subsample': 0.4676445021486438, 'scale_pos_weight': 1.2534290573112525, 'min_child_samples': 15, 'min_child_weight': 1.8467203713520812e-05, 'min_split_gain': 0.008365542645361884, 'max_delta_step': 0.3141560848950692, 'n_estimators': 45, 'reg_alpha': 69.76858908305006, 'reg_lambda': 0.12306054792495176}. Best is trial 5 with value: 0.7005313610476038.\n",
      "Trial 9 finished with value: 0.6434634114777482 and parameters: {'boosting_type': 'gbdt', 'learning_rate': 0.0914465364832595, 'max_depth': 159, 'num_leaves': 147, 'colsample_bytree': 0.4256570823050977, 'subsample': 0.4676445021486438, 'scale_pos_weight': 1.2534290573112525, 'min_child_samples': 15, 'min_child_weight': 1.8467203713520812e-05, 'min_split_gain': 0.008365542645361884, 'max_delta_step': 0.3141560848950692, 'n_estimators': 45, 'reg_alpha': 69.76858908305006, 'reg_lambda': 0.12306054792495176}. Best is trial 5 with value: 0.7005313610476038.\n",
      "Trial 9 finished with value: 0.6434634114777482 and parameters: {'boosting_type': 'gbdt', 'learning_rate': 0.0914465364832595, 'max_depth': 159, 'num_leaves': 147, 'colsample_bytree': 0.4256570823050977, 'subsample': 0.4676445021486438, 'scale_pos_weight': 1.2534290573112525, 'min_child_samples': 15, 'min_child_weight': 1.8467203713520812e-05, 'min_split_gain': 0.008365542645361884, 'max_delta_step': 0.3141560848950692, 'n_estimators': 45, 'reg_alpha': 69.76858908305006, 'reg_lambda': 0.12306054792495176}. Best is trial 5 with value: 0.7005313610476038.\n"
     ]
    },
    {
     "name": "stderr",
     "output_type": "stream",
     "text": [
      "\u001B[32m[I 2022-08-02 13:49:48,383]\u001B[0m Trial 10 finished with value: 0.67783851003241 and parameters: {'boosting_type': 'dart', 'learning_rate': 0.4750343653035517, 'max_depth': 154, 'num_leaves': 101, 'colsample_bytree': 0.8941424992372307, 'subsample': 0.30493132285726554, 'scale_pos_weight': 0.7608899019110951, 'min_child_samples': 1, 'min_child_weight': 9.54898687702955e-07, 'min_split_gain': 0.00019109688863101122, 'max_delta_step': 0.8935164165257186, 'n_estimators': 120, 'reg_alpha': 0.0003291411795372332, 'reg_lambda': 0.00011809351905999073}. Best is trial 5 with value: 0.7005313610476038.\u001B[0m\n"
     ]
    },
    {
     "name": "stdout",
     "output_type": "stream",
     "text": [
      "Accuracy: 0.7188081936685289\n",
      "Macro-F1 score: 0.67783851003241\n",
      "Trial 10 finished with value: 0.67783851003241 and parameters: {'boosting_type': 'dart', 'learning_rate': 0.4750343653035517, 'max_depth': 154, 'num_leaves': 101, 'colsample_bytree': 0.8941424992372307, 'subsample': 0.30493132285726554, 'scale_pos_weight': 0.7608899019110951, 'min_child_samples': 1, 'min_child_weight': 9.54898687702955e-07, 'min_split_gain': 0.00019109688863101122, 'max_delta_step': 0.8935164165257186, 'n_estimators': 120, 'reg_alpha': 0.0003291411795372332, 'reg_lambda': 0.00011809351905999073}. Best is trial 5 with value: 0.7005313610476038.\n",
      "Trial 10 finished with value: 0.67783851003241 and parameters: {'boosting_type': 'dart', 'learning_rate': 0.4750343653035517, 'max_depth': 154, 'num_leaves': 101, 'colsample_bytree': 0.8941424992372307, 'subsample': 0.30493132285726554, 'scale_pos_weight': 0.7608899019110951, 'min_child_samples': 1, 'min_child_weight': 9.54898687702955e-07, 'min_split_gain': 0.00019109688863101122, 'max_delta_step': 0.8935164165257186, 'n_estimators': 120, 'reg_alpha': 0.0003291411795372332, 'reg_lambda': 0.00011809351905999073}. Best is trial 5 with value: 0.7005313610476038.\n",
      "Trial 10 finished with value: 0.67783851003241 and parameters: {'boosting_type': 'dart', 'learning_rate': 0.4750343653035517, 'max_depth': 154, 'num_leaves': 101, 'colsample_bytree': 0.8941424992372307, 'subsample': 0.30493132285726554, 'scale_pos_weight': 0.7608899019110951, 'min_child_samples': 1, 'min_child_weight': 9.54898687702955e-07, 'min_split_gain': 0.00019109688863101122, 'max_delta_step': 0.8935164165257186, 'n_estimators': 120, 'reg_alpha': 0.0003291411795372332, 'reg_lambda': 0.00011809351905999073}. Best is trial 5 with value: 0.7005313610476038.\n",
      "Trial 10 finished with value: 0.67783851003241 and parameters: {'boosting_type': 'dart', 'learning_rate': 0.4750343653035517, 'max_depth': 154, 'num_leaves': 101, 'colsample_bytree': 0.8941424992372307, 'subsample': 0.30493132285726554, 'scale_pos_weight': 0.7608899019110951, 'min_child_samples': 1, 'min_child_weight': 9.54898687702955e-07, 'min_split_gain': 0.00019109688863101122, 'max_delta_step': 0.8935164165257186, 'n_estimators': 120, 'reg_alpha': 0.0003291411795372332, 'reg_lambda': 0.00011809351905999073}. Best is trial 5 with value: 0.7005313610476038.\n"
     ]
    },
    {
     "name": "stderr",
     "output_type": "stream",
     "text": [
      "\u001B[32m[I 2022-08-02 13:50:36,105]\u001B[0m Trial 11 finished with value: 0.6234862357067056 and parameters: {'boosting_type': 'goss', 'learning_rate': 0.23034446800766778, 'max_depth': 140, 'num_leaves': 109, 'colsample_bytree': 0.8351465807322408, 'subsample': 0.38546768046624064, 'scale_pos_weight': 0.25407465299588683, 'min_child_samples': 1, 'min_child_weight': 0.0004149452613037708, 'min_split_gain': 0.0015300863995886924, 'max_delta_step': 1.3320386075090365, 'n_estimators': 85, 'reg_alpha': 0.19637205842548047, 'reg_lambda': 0.00025250540920500596}. Best is trial 5 with value: 0.7005313610476038.\u001B[0m\n"
     ]
    },
    {
     "name": "stdout",
     "output_type": "stream",
     "text": [
      "Accuracy: 0.6820297951582868\n",
      "Macro-F1 score: 0.6234862357067056\n",
      "Trial 11 finished with value: 0.6234862357067056 and parameters: {'boosting_type': 'goss', 'learning_rate': 0.23034446800766778, 'max_depth': 140, 'num_leaves': 109, 'colsample_bytree': 0.8351465807322408, 'subsample': 0.38546768046624064, 'scale_pos_weight': 0.25407465299588683, 'min_child_samples': 1, 'min_child_weight': 0.0004149452613037708, 'min_split_gain': 0.0015300863995886924, 'max_delta_step': 1.3320386075090365, 'n_estimators': 85, 'reg_alpha': 0.19637205842548047, 'reg_lambda': 0.00025250540920500596}. Best is trial 5 with value: 0.7005313610476038.\n",
      "Trial 11 finished with value: 0.6234862357067056 and parameters: {'boosting_type': 'goss', 'learning_rate': 0.23034446800766778, 'max_depth': 140, 'num_leaves': 109, 'colsample_bytree': 0.8351465807322408, 'subsample': 0.38546768046624064, 'scale_pos_weight': 0.25407465299588683, 'min_child_samples': 1, 'min_child_weight': 0.0004149452613037708, 'min_split_gain': 0.0015300863995886924, 'max_delta_step': 1.3320386075090365, 'n_estimators': 85, 'reg_alpha': 0.19637205842548047, 'reg_lambda': 0.00025250540920500596}. Best is trial 5 with value: 0.7005313610476038.\n",
      "Trial 11 finished with value: 0.6234862357067056 and parameters: {'boosting_type': 'goss', 'learning_rate': 0.23034446800766778, 'max_depth': 140, 'num_leaves': 109, 'colsample_bytree': 0.8351465807322408, 'subsample': 0.38546768046624064, 'scale_pos_weight': 0.25407465299588683, 'min_child_samples': 1, 'min_child_weight': 0.0004149452613037708, 'min_split_gain': 0.0015300863995886924, 'max_delta_step': 1.3320386075090365, 'n_estimators': 85, 'reg_alpha': 0.19637205842548047, 'reg_lambda': 0.00025250540920500596}. Best is trial 5 with value: 0.7005313610476038.\n",
      "Trial 11 finished with value: 0.6234862357067056 and parameters: {'boosting_type': 'goss', 'learning_rate': 0.23034446800766778, 'max_depth': 140, 'num_leaves': 109, 'colsample_bytree': 0.8351465807322408, 'subsample': 0.38546768046624064, 'scale_pos_weight': 0.25407465299588683, 'min_child_samples': 1, 'min_child_weight': 0.0004149452613037708, 'min_split_gain': 0.0015300863995886924, 'max_delta_step': 1.3320386075090365, 'n_estimators': 85, 'reg_alpha': 0.19637205842548047, 'reg_lambda': 0.00025250540920500596}. Best is trial 5 with value: 0.7005313610476038.\n"
     ]
    },
    {
     "name": "stderr",
     "output_type": "stream",
     "text": [
      "\u001B[32m[I 2022-08-02 13:51:15,476]\u001B[0m Trial 12 finished with value: 0.5190512588886572 and parameters: {'boosting_type': 'dart', 'learning_rate': 0.011707852228675755, 'max_depth': 112, 'num_leaves': 127, 'colsample_bytree': 0.8352546774336806, 'subsample': 0.38918751272292734, 'scale_pos_weight': 1.0193463408089465, 'min_child_samples': 10, 'min_child_weight': 0.01665315697176235, 'min_split_gain': 0.019585080628404365, 'max_delta_step': 0.6928106370897894, 'n_estimators': 70, 'reg_alpha': 0.0005675743924959616, 'reg_lambda': 0.004223634837560389}. Best is trial 5 with value: 0.7005313610476038.\u001B[0m\n"
     ]
    },
    {
     "name": "stdout",
     "output_type": "stream",
     "text": [
      "Accuracy: 0.6624767225325885\n",
      "Macro-F1 score: 0.5190512588886572\n",
      "Trial 12 finished with value: 0.5190512588886572 and parameters: {'boosting_type': 'dart', 'learning_rate': 0.011707852228675755, 'max_depth': 112, 'num_leaves': 127, 'colsample_bytree': 0.8352546774336806, 'subsample': 0.38918751272292734, 'scale_pos_weight': 1.0193463408089465, 'min_child_samples': 10, 'min_child_weight': 0.01665315697176235, 'min_split_gain': 0.019585080628404365, 'max_delta_step': 0.6928106370897894, 'n_estimators': 70, 'reg_alpha': 0.0005675743924959616, 'reg_lambda': 0.004223634837560389}. Best is trial 5 with value: 0.7005313610476038.\n",
      "Trial 12 finished with value: 0.5190512588886572 and parameters: {'boosting_type': 'dart', 'learning_rate': 0.011707852228675755, 'max_depth': 112, 'num_leaves': 127, 'colsample_bytree': 0.8352546774336806, 'subsample': 0.38918751272292734, 'scale_pos_weight': 1.0193463408089465, 'min_child_samples': 10, 'min_child_weight': 0.01665315697176235, 'min_split_gain': 0.019585080628404365, 'max_delta_step': 0.6928106370897894, 'n_estimators': 70, 'reg_alpha': 0.0005675743924959616, 'reg_lambda': 0.004223634837560389}. Best is trial 5 with value: 0.7005313610476038.\n",
      "Trial 12 finished with value: 0.5190512588886572 and parameters: {'boosting_type': 'dart', 'learning_rate': 0.011707852228675755, 'max_depth': 112, 'num_leaves': 127, 'colsample_bytree': 0.8352546774336806, 'subsample': 0.38918751272292734, 'scale_pos_weight': 1.0193463408089465, 'min_child_samples': 10, 'min_child_weight': 0.01665315697176235, 'min_split_gain': 0.019585080628404365, 'max_delta_step': 0.6928106370897894, 'n_estimators': 70, 'reg_alpha': 0.0005675743924959616, 'reg_lambda': 0.004223634837560389}. Best is trial 5 with value: 0.7005313610476038.\n",
      "Trial 12 finished with value: 0.5190512588886572 and parameters: {'boosting_type': 'dart', 'learning_rate': 0.011707852228675755, 'max_depth': 112, 'num_leaves': 127, 'colsample_bytree': 0.8352546774336806, 'subsample': 0.38918751272292734, 'scale_pos_weight': 1.0193463408089465, 'min_child_samples': 10, 'min_child_weight': 0.01665315697176235, 'min_split_gain': 0.019585080628404365, 'max_delta_step': 0.6928106370897894, 'n_estimators': 70, 'reg_alpha': 0.0005675743924959616, 'reg_lambda': 0.004223634837560389}. Best is trial 5 with value: 0.7005313610476038.\n"
     ]
    },
    {
     "name": "stderr",
     "output_type": "stream",
     "text": [
      "\u001B[32m[I 2022-08-02 13:51:56,462]\u001B[0m Trial 13 finished with value: 0.6875164690382082 and parameters: {'boosting_type': 'dart', 'learning_rate': 0.21256095964019922, 'max_depth': 194, 'num_leaves': 171, 'colsample_bytree': 0.9819311823040813, 'subsample': 0.7864921640043457, 'scale_pos_weight': 1.9750794167876247, 'min_child_samples': 4, 'min_child_weight': 1.6354175341000467e-05, 'min_split_gain': 0.0016242322177632007, 'max_delta_step': 1.171587127758976, 'n_estimators': 35, 'reg_alpha': 0.12586427829766297, 'reg_lambda': 0.002494499271060996}. Best is trial 5 with value: 0.7005313610476038.\u001B[0m\n"
     ]
    },
    {
     "name": "stdout",
     "output_type": "stream",
     "text": [
      "Accuracy: 0.7039106145251397\n",
      "Macro-F1 score: 0.6875164690382082\n",
      "Trial 13 finished with value: 0.6875164690382082 and parameters: {'boosting_type': 'dart', 'learning_rate': 0.21256095964019922, 'max_depth': 194, 'num_leaves': 171, 'colsample_bytree': 0.9819311823040813, 'subsample': 0.7864921640043457, 'scale_pos_weight': 1.9750794167876247, 'min_child_samples': 4, 'min_child_weight': 1.6354175341000467e-05, 'min_split_gain': 0.0016242322177632007, 'max_delta_step': 1.171587127758976, 'n_estimators': 35, 'reg_alpha': 0.12586427829766297, 'reg_lambda': 0.002494499271060996}. Best is trial 5 with value: 0.7005313610476038.\n",
      "Trial 13 finished with value: 0.6875164690382082 and parameters: {'boosting_type': 'dart', 'learning_rate': 0.21256095964019922, 'max_depth': 194, 'num_leaves': 171, 'colsample_bytree': 0.9819311823040813, 'subsample': 0.7864921640043457, 'scale_pos_weight': 1.9750794167876247, 'min_child_samples': 4, 'min_child_weight': 1.6354175341000467e-05, 'min_split_gain': 0.0016242322177632007, 'max_delta_step': 1.171587127758976, 'n_estimators': 35, 'reg_alpha': 0.12586427829766297, 'reg_lambda': 0.002494499271060996}. Best is trial 5 with value: 0.7005313610476038.\n",
      "Trial 13 finished with value: 0.6875164690382082 and parameters: {'boosting_type': 'dart', 'learning_rate': 0.21256095964019922, 'max_depth': 194, 'num_leaves': 171, 'colsample_bytree': 0.9819311823040813, 'subsample': 0.7864921640043457, 'scale_pos_weight': 1.9750794167876247, 'min_child_samples': 4, 'min_child_weight': 1.6354175341000467e-05, 'min_split_gain': 0.0016242322177632007, 'max_delta_step': 1.171587127758976, 'n_estimators': 35, 'reg_alpha': 0.12586427829766297, 'reg_lambda': 0.002494499271060996}. Best is trial 5 with value: 0.7005313610476038.\n",
      "Trial 13 finished with value: 0.6875164690382082 and parameters: {'boosting_type': 'dart', 'learning_rate': 0.21256095964019922, 'max_depth': 194, 'num_leaves': 171, 'colsample_bytree': 0.9819311823040813, 'subsample': 0.7864921640043457, 'scale_pos_weight': 1.9750794167876247, 'min_child_samples': 4, 'min_child_weight': 1.6354175341000467e-05, 'min_split_gain': 0.0016242322177632007, 'max_delta_step': 1.171587127758976, 'n_estimators': 35, 'reg_alpha': 0.12586427829766297, 'reg_lambda': 0.002494499271060996}. Best is trial 5 with value: 0.7005313610476038.\n"
     ]
    },
    {
     "name": "stderr",
     "output_type": "stream",
     "text": [
      "\u001B[32m[I 2022-08-02 13:52:31,394]\u001B[0m Trial 14 finished with value: 0.6503277213725742 and parameters: {'boosting_type': 'goss', 'learning_rate': 0.4352283315923674, 'max_depth': 103, 'num_leaves': 162, 'colsample_bytree': 0.7838977128575401, 'subsample': 0.38905326815013475, 'scale_pos_weight': 0.9802912978784782, 'min_child_samples': 9, 'min_child_weight': 3.406705874305688e-07, 'min_split_gain': 0.0001488218637686182, 'max_delta_step': 1.7462586047523567, 'n_estimators': 95, 'reg_alpha': 0.009495697108702851, 'reg_lambda': 0.7730649077839628}. Best is trial 5 with value: 0.7005313610476038.\u001B[0m\n"
     ]
    },
    {
     "name": "stdout",
     "output_type": "stream",
     "text": [
      "Accuracy: 0.6815642458100558\n",
      "Macro-F1 score: 0.6503277213725742\n",
      "Trial 14 finished with value: 0.6503277213725742 and parameters: {'boosting_type': 'goss', 'learning_rate': 0.4352283315923674, 'max_depth': 103, 'num_leaves': 162, 'colsample_bytree': 0.7838977128575401, 'subsample': 0.38905326815013475, 'scale_pos_weight': 0.9802912978784782, 'min_child_samples': 9, 'min_child_weight': 3.406705874305688e-07, 'min_split_gain': 0.0001488218637686182, 'max_delta_step': 1.7462586047523567, 'n_estimators': 95, 'reg_alpha': 0.009495697108702851, 'reg_lambda': 0.7730649077839628}. Best is trial 5 with value: 0.7005313610476038.\n",
      "Trial 14 finished with value: 0.6503277213725742 and parameters: {'boosting_type': 'goss', 'learning_rate': 0.4352283315923674, 'max_depth': 103, 'num_leaves': 162, 'colsample_bytree': 0.7838977128575401, 'subsample': 0.38905326815013475, 'scale_pos_weight': 0.9802912978784782, 'min_child_samples': 9, 'min_child_weight': 3.406705874305688e-07, 'min_split_gain': 0.0001488218637686182, 'max_delta_step': 1.7462586047523567, 'n_estimators': 95, 'reg_alpha': 0.009495697108702851, 'reg_lambda': 0.7730649077839628}. Best is trial 5 with value: 0.7005313610476038.\n",
      "Trial 14 finished with value: 0.6503277213725742 and parameters: {'boosting_type': 'goss', 'learning_rate': 0.4352283315923674, 'max_depth': 103, 'num_leaves': 162, 'colsample_bytree': 0.7838977128575401, 'subsample': 0.38905326815013475, 'scale_pos_weight': 0.9802912978784782, 'min_child_samples': 9, 'min_child_weight': 3.406705874305688e-07, 'min_split_gain': 0.0001488218637686182, 'max_delta_step': 1.7462586047523567, 'n_estimators': 95, 'reg_alpha': 0.009495697108702851, 'reg_lambda': 0.7730649077839628}. Best is trial 5 with value: 0.7005313610476038.\n",
      "Trial 14 finished with value: 0.6503277213725742 and parameters: {'boosting_type': 'goss', 'learning_rate': 0.4352283315923674, 'max_depth': 103, 'num_leaves': 162, 'colsample_bytree': 0.7838977128575401, 'subsample': 0.38905326815013475, 'scale_pos_weight': 0.9802912978784782, 'min_child_samples': 9, 'min_child_weight': 3.406705874305688e-07, 'min_split_gain': 0.0001488218637686182, 'max_delta_step': 1.7462586047523567, 'n_estimators': 95, 'reg_alpha': 0.009495697108702851, 'reg_lambda': 0.7730649077839628}. Best is trial 5 with value: 0.7005313610476038.\n"
     ]
    },
    {
     "name": "stderr",
     "output_type": "stream",
     "text": [
      "\u001B[32m[I 2022-08-02 13:53:22,071]\u001B[0m Trial 15 finished with value: 0.6959582931092341 and parameters: {'boosting_type': 'dart', 'learning_rate': 0.15627139244320173, 'max_depth': 140, 'num_leaves': 123, 'colsample_bytree': 0.8964093489289184, 'subsample': 0.35407736764084285, 'scale_pos_weight': 1.7182503156361617, 'min_child_samples': 3, 'min_child_weight': 0.001372599491904436, 'min_split_gain': 0.0015503046420132264, 'max_delta_step': 0.6420007195064119, 'n_estimators': 65, 'reg_alpha': 0.7194443603505822, 'reg_lambda': 0.0005646482535977242}. Best is trial 5 with value: 0.7005313610476038.\u001B[0m\n"
     ]
    },
    {
     "name": "stdout",
     "output_type": "stream",
     "text": [
      "Accuracy: 0.7099627560521415\n",
      "Macro-F1 score: 0.6959582931092341\n",
      "Trial 15 finished with value: 0.6959582931092341 and parameters: {'boosting_type': 'dart', 'learning_rate': 0.15627139244320173, 'max_depth': 140, 'num_leaves': 123, 'colsample_bytree': 0.8964093489289184, 'subsample': 0.35407736764084285, 'scale_pos_weight': 1.7182503156361617, 'min_child_samples': 3, 'min_child_weight': 0.001372599491904436, 'min_split_gain': 0.0015503046420132264, 'max_delta_step': 0.6420007195064119, 'n_estimators': 65, 'reg_alpha': 0.7194443603505822, 'reg_lambda': 0.0005646482535977242}. Best is trial 5 with value: 0.7005313610476038.\n",
      "Trial 15 finished with value: 0.6959582931092341 and parameters: {'boosting_type': 'dart', 'learning_rate': 0.15627139244320173, 'max_depth': 140, 'num_leaves': 123, 'colsample_bytree': 0.8964093489289184, 'subsample': 0.35407736764084285, 'scale_pos_weight': 1.7182503156361617, 'min_child_samples': 3, 'min_child_weight': 0.001372599491904436, 'min_split_gain': 0.0015503046420132264, 'max_delta_step': 0.6420007195064119, 'n_estimators': 65, 'reg_alpha': 0.7194443603505822, 'reg_lambda': 0.0005646482535977242}. Best is trial 5 with value: 0.7005313610476038.\n",
      "Trial 15 finished with value: 0.6959582931092341 and parameters: {'boosting_type': 'dart', 'learning_rate': 0.15627139244320173, 'max_depth': 140, 'num_leaves': 123, 'colsample_bytree': 0.8964093489289184, 'subsample': 0.35407736764084285, 'scale_pos_weight': 1.7182503156361617, 'min_child_samples': 3, 'min_child_weight': 0.001372599491904436, 'min_split_gain': 0.0015503046420132264, 'max_delta_step': 0.6420007195064119, 'n_estimators': 65, 'reg_alpha': 0.7194443603505822, 'reg_lambda': 0.0005646482535977242}. Best is trial 5 with value: 0.7005313610476038.\n",
      "Trial 15 finished with value: 0.6959582931092341 and parameters: {'boosting_type': 'dart', 'learning_rate': 0.15627139244320173, 'max_depth': 140, 'num_leaves': 123, 'colsample_bytree': 0.8964093489289184, 'subsample': 0.35407736764084285, 'scale_pos_weight': 1.7182503156361617, 'min_child_samples': 3, 'min_child_weight': 0.001372599491904436, 'min_split_gain': 0.0015503046420132264, 'max_delta_step': 0.6420007195064119, 'n_estimators': 65, 'reg_alpha': 0.7194443603505822, 'reg_lambda': 0.0005646482535977242}. Best is trial 5 with value: 0.7005313610476038.\n"
     ]
    },
    {
     "name": "stderr",
     "output_type": "stream",
     "text": [
      "\u001B[32m[I 2022-08-02 13:53:58,116]\u001B[0m Trial 16 finished with value: 0.676105233910814 and parameters: {'boosting_type': 'gbdt', 'learning_rate': 0.3315933677027339, 'max_depth': 151, 'num_leaves': 186, 'colsample_bytree': 0.7642806352484537, 'subsample': 0.4373157748704506, 'scale_pos_weight': 0.708747271233888, 'min_child_samples': 7, 'min_child_weight': 5.89476999681401e-05, 'min_split_gain': 0.027586571266073567, 'max_delta_step': 1.084935493402458, 'n_estimators': 85, 'reg_alpha': 0.0014332836208065683, 'reg_lambda': 0.00997199371793167}. Best is trial 5 with value: 0.7005313610476038.\u001B[0m\n"
     ]
    },
    {
     "name": "stdout",
     "output_type": "stream",
     "text": [
      "Accuracy: 0.7160148975791434\n",
      "Macro-F1 score: 0.676105233910814\n",
      "Trial 16 finished with value: 0.676105233910814 and parameters: {'boosting_type': 'gbdt', 'learning_rate': 0.3315933677027339, 'max_depth': 151, 'num_leaves': 186, 'colsample_bytree': 0.7642806352484537, 'subsample': 0.4373157748704506, 'scale_pos_weight': 0.708747271233888, 'min_child_samples': 7, 'min_child_weight': 5.89476999681401e-05, 'min_split_gain': 0.027586571266073567, 'max_delta_step': 1.084935493402458, 'n_estimators': 85, 'reg_alpha': 0.0014332836208065683, 'reg_lambda': 0.00997199371793167}. Best is trial 5 with value: 0.7005313610476038.\n",
      "Trial 16 finished with value: 0.676105233910814 and parameters: {'boosting_type': 'gbdt', 'learning_rate': 0.3315933677027339, 'max_depth': 151, 'num_leaves': 186, 'colsample_bytree': 0.7642806352484537, 'subsample': 0.4373157748704506, 'scale_pos_weight': 0.708747271233888, 'min_child_samples': 7, 'min_child_weight': 5.89476999681401e-05, 'min_split_gain': 0.027586571266073567, 'max_delta_step': 1.084935493402458, 'n_estimators': 85, 'reg_alpha': 0.0014332836208065683, 'reg_lambda': 0.00997199371793167}. Best is trial 5 with value: 0.7005313610476038.\n",
      "Trial 16 finished with value: 0.676105233910814 and parameters: {'boosting_type': 'gbdt', 'learning_rate': 0.3315933677027339, 'max_depth': 151, 'num_leaves': 186, 'colsample_bytree': 0.7642806352484537, 'subsample': 0.4373157748704506, 'scale_pos_weight': 0.708747271233888, 'min_child_samples': 7, 'min_child_weight': 5.89476999681401e-05, 'min_split_gain': 0.027586571266073567, 'max_delta_step': 1.084935493402458, 'n_estimators': 85, 'reg_alpha': 0.0014332836208065683, 'reg_lambda': 0.00997199371793167}. Best is trial 5 with value: 0.7005313610476038.\n",
      "Trial 16 finished with value: 0.676105233910814 and parameters: {'boosting_type': 'gbdt', 'learning_rate': 0.3315933677027339, 'max_depth': 151, 'num_leaves': 186, 'colsample_bytree': 0.7642806352484537, 'subsample': 0.4373157748704506, 'scale_pos_weight': 0.708747271233888, 'min_child_samples': 7, 'min_child_weight': 5.89476999681401e-05, 'min_split_gain': 0.027586571266073567, 'max_delta_step': 1.084935493402458, 'n_estimators': 85, 'reg_alpha': 0.0014332836208065683, 'reg_lambda': 0.00997199371793167}. Best is trial 5 with value: 0.7005313610476038.\n"
     ]
    },
    {
     "name": "stderr",
     "output_type": "stream",
     "text": [
      "\u001B[32m[I 2022-08-02 13:54:12,600]\u001B[0m Trial 17 finished with value: 0.6959240535436884 and parameters: {'boosting_type': 'dart', 'learning_rate': 0.1505925795165021, 'max_depth': 173, 'num_leaves': 123, 'colsample_bytree': 0.9151573905141015, 'subsample': 0.5364967083521008, 'scale_pos_weight': 1.349597441348362, 'min_child_samples': 13, 'min_child_weight': 3.4265313092501344e-06, 'min_split_gain': 0.00034273222937636317, 'max_delta_step': 0.5223985912235425, 'n_estimators': 35, 'reg_alpha': 0.04167969191625112, 'reg_lambda': 60.692529506086196}. Best is trial 5 with value: 0.7005313610476038.\u001B[0m\n"
     ]
    },
    {
     "name": "stdout",
     "output_type": "stream",
     "text": [
      "Accuracy: 0.7174115456238361\n",
      "Macro-F1 score: 0.6959240535436884\n",
      "Trial 17 finished with value: 0.6959240535436884 and parameters: {'boosting_type': 'dart', 'learning_rate': 0.1505925795165021, 'max_depth': 173, 'num_leaves': 123, 'colsample_bytree': 0.9151573905141015, 'subsample': 0.5364967083521008, 'scale_pos_weight': 1.349597441348362, 'min_child_samples': 13, 'min_child_weight': 3.4265313092501344e-06, 'min_split_gain': 0.00034273222937636317, 'max_delta_step': 0.5223985912235425, 'n_estimators': 35, 'reg_alpha': 0.04167969191625112, 'reg_lambda': 60.692529506086196}. Best is trial 5 with value: 0.7005313610476038.\n",
      "Trial 17 finished with value: 0.6959240535436884 and parameters: {'boosting_type': 'dart', 'learning_rate': 0.1505925795165021, 'max_depth': 173, 'num_leaves': 123, 'colsample_bytree': 0.9151573905141015, 'subsample': 0.5364967083521008, 'scale_pos_weight': 1.349597441348362, 'min_child_samples': 13, 'min_child_weight': 3.4265313092501344e-06, 'min_split_gain': 0.00034273222937636317, 'max_delta_step': 0.5223985912235425, 'n_estimators': 35, 'reg_alpha': 0.04167969191625112, 'reg_lambda': 60.692529506086196}. Best is trial 5 with value: 0.7005313610476038.\n",
      "Trial 17 finished with value: 0.6959240535436884 and parameters: {'boosting_type': 'dart', 'learning_rate': 0.1505925795165021, 'max_depth': 173, 'num_leaves': 123, 'colsample_bytree': 0.9151573905141015, 'subsample': 0.5364967083521008, 'scale_pos_weight': 1.349597441348362, 'min_child_samples': 13, 'min_child_weight': 3.4265313092501344e-06, 'min_split_gain': 0.00034273222937636317, 'max_delta_step': 0.5223985912235425, 'n_estimators': 35, 'reg_alpha': 0.04167969191625112, 'reg_lambda': 60.692529506086196}. Best is trial 5 with value: 0.7005313610476038.\n",
      "Trial 17 finished with value: 0.6959240535436884 and parameters: {'boosting_type': 'dart', 'learning_rate': 0.1505925795165021, 'max_depth': 173, 'num_leaves': 123, 'colsample_bytree': 0.9151573905141015, 'subsample': 0.5364967083521008, 'scale_pos_weight': 1.349597441348362, 'min_child_samples': 13, 'min_child_weight': 3.4265313092501344e-06, 'min_split_gain': 0.00034273222937636317, 'max_delta_step': 0.5223985912235425, 'n_estimators': 35, 'reg_alpha': 0.04167969191625112, 'reg_lambda': 60.692529506086196}. Best is trial 5 with value: 0.7005313610476038.\n"
     ]
    },
    {
     "name": "stderr",
     "output_type": "stream",
     "text": [
      "\u001B[32m[I 2022-08-02 13:55:49,860]\u001B[0m Trial 18 finished with value: 0.7103310076068154 and parameters: {'boosting_type': 'gbdt', 'learning_rate': 0.05598766015816096, 'max_depth': 99, 'num_leaves': 163, 'colsample_bytree': 0.763934120733494, 'subsample': 0.34423457318781897, 'scale_pos_weight': 1.7994310421647115, 'min_child_samples': 3, 'min_child_weight': 0.005219431303497905, 'min_split_gain': 0.003681882554262237, 'max_delta_step': 1.0539965204516561, 'n_estimators': 115, 'reg_alpha': 0.00014456534911146024, 'reg_lambda': 0.42285001710077336}. Best is trial 18 with value: 0.7103310076068154.\u001B[0m\n"
     ]
    },
    {
     "name": "stdout",
     "output_type": "stream",
     "text": [
      "Accuracy: 0.7313780260707635\n",
      "Macro-F1 score: 0.7103310076068154\n",
      "Trial 18 finished with value: 0.7103310076068154 and parameters: {'boosting_type': 'gbdt', 'learning_rate': 0.05598766015816096, 'max_depth': 99, 'num_leaves': 163, 'colsample_bytree': 0.763934120733494, 'subsample': 0.34423457318781897, 'scale_pos_weight': 1.7994310421647115, 'min_child_samples': 3, 'min_child_weight': 0.005219431303497905, 'min_split_gain': 0.003681882554262237, 'max_delta_step': 1.0539965204516561, 'n_estimators': 115, 'reg_alpha': 0.00014456534911146024, 'reg_lambda': 0.42285001710077336}. Best is trial 18 with value: 0.7103310076068154.\n",
      "Trial 18 finished with value: 0.7103310076068154 and parameters: {'boosting_type': 'gbdt', 'learning_rate': 0.05598766015816096, 'max_depth': 99, 'num_leaves': 163, 'colsample_bytree': 0.763934120733494, 'subsample': 0.34423457318781897, 'scale_pos_weight': 1.7994310421647115, 'min_child_samples': 3, 'min_child_weight': 0.005219431303497905, 'min_split_gain': 0.003681882554262237, 'max_delta_step': 1.0539965204516561, 'n_estimators': 115, 'reg_alpha': 0.00014456534911146024, 'reg_lambda': 0.42285001710077336}. Best is trial 18 with value: 0.7103310076068154.\n",
      "Trial 18 finished with value: 0.7103310076068154 and parameters: {'boosting_type': 'gbdt', 'learning_rate': 0.05598766015816096, 'max_depth': 99, 'num_leaves': 163, 'colsample_bytree': 0.763934120733494, 'subsample': 0.34423457318781897, 'scale_pos_weight': 1.7994310421647115, 'min_child_samples': 3, 'min_child_weight': 0.005219431303497905, 'min_split_gain': 0.003681882554262237, 'max_delta_step': 1.0539965204516561, 'n_estimators': 115, 'reg_alpha': 0.00014456534911146024, 'reg_lambda': 0.42285001710077336}. Best is trial 18 with value: 0.7103310076068154.\n",
      "Trial 18 finished with value: 0.7103310076068154 and parameters: {'boosting_type': 'gbdt', 'learning_rate': 0.05598766015816096, 'max_depth': 99, 'num_leaves': 163, 'colsample_bytree': 0.763934120733494, 'subsample': 0.34423457318781897, 'scale_pos_weight': 1.7994310421647115, 'min_child_samples': 3, 'min_child_weight': 0.005219431303497905, 'min_split_gain': 0.003681882554262237, 'max_delta_step': 1.0539965204516561, 'n_estimators': 115, 'reg_alpha': 0.00014456534911146024, 'reg_lambda': 0.42285001710077336}. Best is trial 18 with value: 0.7103310076068154.\n"
     ]
    },
    {
     "name": "stderr",
     "output_type": "stream",
     "text": [
      "\u001B[32m[I 2022-08-02 13:56:29,781]\u001B[0m Trial 19 finished with value: 0.6889170797524418 and parameters: {'boosting_type': 'goss', 'learning_rate': 0.0665683125143625, 'max_depth': 96, 'num_leaves': 163, 'colsample_bytree': 0.5629566942860587, 'subsample': 0.3525620771214879, 'scale_pos_weight': 1.827292394133031, 'min_child_samples': 12, 'min_child_weight': 0.1796719516784999, 'min_split_gain': 0.0007265797208614674, 'max_delta_step': 1.0375668094298243, 'n_estimators': 115, 'reg_alpha': 0.00018519888040354192, 'reg_lambda': 0.46669057474221093}. Best is trial 18 with value: 0.7103310076068154.\u001B[0m\n"
     ]
    },
    {
     "name": "stdout",
     "output_type": "stream",
     "text": [
      "Accuracy: 0.7057728119180633\n",
      "Macro-F1 score: 0.6889170797524418\n",
      "Trial 19 finished with value: 0.6889170797524418 and parameters: {'boosting_type': 'goss', 'learning_rate': 0.0665683125143625, 'max_depth': 96, 'num_leaves': 163, 'colsample_bytree': 0.5629566942860587, 'subsample': 0.3525620771214879, 'scale_pos_weight': 1.827292394133031, 'min_child_samples': 12, 'min_child_weight': 0.1796719516784999, 'min_split_gain': 0.0007265797208614674, 'max_delta_step': 1.0375668094298243, 'n_estimators': 115, 'reg_alpha': 0.00018519888040354192, 'reg_lambda': 0.46669057474221093}. Best is trial 18 with value: 0.7103310076068154.\n",
      "Trial 19 finished with value: 0.6889170797524418 and parameters: {'boosting_type': 'goss', 'learning_rate': 0.0665683125143625, 'max_depth': 96, 'num_leaves': 163, 'colsample_bytree': 0.5629566942860587, 'subsample': 0.3525620771214879, 'scale_pos_weight': 1.827292394133031, 'min_child_samples': 12, 'min_child_weight': 0.1796719516784999, 'min_split_gain': 0.0007265797208614674, 'max_delta_step': 1.0375668094298243, 'n_estimators': 115, 'reg_alpha': 0.00018519888040354192, 'reg_lambda': 0.46669057474221093}. Best is trial 18 with value: 0.7103310076068154.\n",
      "Trial 19 finished with value: 0.6889170797524418 and parameters: {'boosting_type': 'goss', 'learning_rate': 0.0665683125143625, 'max_depth': 96, 'num_leaves': 163, 'colsample_bytree': 0.5629566942860587, 'subsample': 0.3525620771214879, 'scale_pos_weight': 1.827292394133031, 'min_child_samples': 12, 'min_child_weight': 0.1796719516784999, 'min_split_gain': 0.0007265797208614674, 'max_delta_step': 1.0375668094298243, 'n_estimators': 115, 'reg_alpha': 0.00018519888040354192, 'reg_lambda': 0.46669057474221093}. Best is trial 18 with value: 0.7103310076068154.\n",
      "Trial 19 finished with value: 0.6889170797524418 and parameters: {'boosting_type': 'goss', 'learning_rate': 0.0665683125143625, 'max_depth': 96, 'num_leaves': 163, 'colsample_bytree': 0.5629566942860587, 'subsample': 0.3525620771214879, 'scale_pos_weight': 1.827292394133031, 'min_child_samples': 12, 'min_child_weight': 0.1796719516784999, 'min_split_gain': 0.0007265797208614674, 'max_delta_step': 1.0375668094298243, 'n_estimators': 115, 'reg_alpha': 0.00018519888040354192, 'reg_lambda': 0.46669057474221093}. Best is trial 18 with value: 0.7103310076068154.\n"
     ]
    },
    {
     "name": "stderr",
     "output_type": "stream",
     "text": [
      "\u001B[32m[I 2022-08-02 13:58:02,743]\u001B[0m Trial 20 finished with value: 0.6793998879378634 and parameters: {'boosting_type': 'dart', 'learning_rate': 0.0489959084693956, 'max_depth': 100, 'num_leaves': 175, 'colsample_bytree': 0.7559277676431259, 'subsample': 0.49984282848628525, 'scale_pos_weight': 1.2353149770235767, 'min_child_samples': 6, 'min_child_weight': 0.005177694122717988, 'min_split_gain': 0.0031126693379049286, 'max_delta_step': 0.9480215760662881, 'n_estimators': 110, 'reg_alpha': 0.000109881252313417, 'reg_lambda': 1.2271684509617478}. Best is trial 18 with value: 0.7103310076068154.\u001B[0m\n"
     ]
    },
    {
     "name": "stdout",
     "output_type": "stream",
     "text": [
      "Accuracy: 0.7122905027932961\n",
      "Macro-F1 score: 0.6793998879378634\n",
      "Trial 20 finished with value: 0.6793998879378634 and parameters: {'boosting_type': 'dart', 'learning_rate': 0.0489959084693956, 'max_depth': 100, 'num_leaves': 175, 'colsample_bytree': 0.7559277676431259, 'subsample': 0.49984282848628525, 'scale_pos_weight': 1.2353149770235767, 'min_child_samples': 6, 'min_child_weight': 0.005177694122717988, 'min_split_gain': 0.0031126693379049286, 'max_delta_step': 0.9480215760662881, 'n_estimators': 110, 'reg_alpha': 0.000109881252313417, 'reg_lambda': 1.2271684509617478}. Best is trial 18 with value: 0.7103310076068154.\n",
      "Trial 20 finished with value: 0.6793998879378634 and parameters: {'boosting_type': 'dart', 'learning_rate': 0.0489959084693956, 'max_depth': 100, 'num_leaves': 175, 'colsample_bytree': 0.7559277676431259, 'subsample': 0.49984282848628525, 'scale_pos_weight': 1.2353149770235767, 'min_child_samples': 6, 'min_child_weight': 0.005177694122717988, 'min_split_gain': 0.0031126693379049286, 'max_delta_step': 0.9480215760662881, 'n_estimators': 110, 'reg_alpha': 0.000109881252313417, 'reg_lambda': 1.2271684509617478}. Best is trial 18 with value: 0.7103310076068154.\n",
      "Trial 20 finished with value: 0.6793998879378634 and parameters: {'boosting_type': 'dart', 'learning_rate': 0.0489959084693956, 'max_depth': 100, 'num_leaves': 175, 'colsample_bytree': 0.7559277676431259, 'subsample': 0.49984282848628525, 'scale_pos_weight': 1.2353149770235767, 'min_child_samples': 6, 'min_child_weight': 0.005177694122717988, 'min_split_gain': 0.0031126693379049286, 'max_delta_step': 0.9480215760662881, 'n_estimators': 110, 'reg_alpha': 0.000109881252313417, 'reg_lambda': 1.2271684509617478}. Best is trial 18 with value: 0.7103310076068154.\n",
      "Trial 20 finished with value: 0.6793998879378634 and parameters: {'boosting_type': 'dart', 'learning_rate': 0.0489959084693956, 'max_depth': 100, 'num_leaves': 175, 'colsample_bytree': 0.7559277676431259, 'subsample': 0.49984282848628525, 'scale_pos_weight': 1.2353149770235767, 'min_child_samples': 6, 'min_child_weight': 0.005177694122717988, 'min_split_gain': 0.0031126693379049286, 'max_delta_step': 0.9480215760662881, 'n_estimators': 110, 'reg_alpha': 0.000109881252313417, 'reg_lambda': 1.2271684509617478}. Best is trial 18 with value: 0.7103310076068154.\n"
     ]
    },
    {
     "name": "stderr",
     "output_type": "stream",
     "text": [
      "\u001B[32m[I 2022-08-02 13:58:53,438]\u001B[0m Trial 21 finished with value: 0.6967068074525895 and parameters: {'boosting_type': 'gbdt', 'learning_rate': 0.32566764771013207, 'max_depth': 130, 'num_leaves': 149, 'colsample_bytree': 0.8177394009935679, 'subsample': 0.35217093969861535, 'scale_pos_weight': 1.7955214407525644, 'min_child_samples': 2, 'min_child_weight': 0.00010335045212075445, 'min_split_gain': 0.014078719972461393, 'max_delta_step': 1.283271004165442, 'n_estimators': 60, 'reg_alpha': 0.0028070796912941618, 'reg_lambda': 0.28792465826543373}. Best is trial 18 with value: 0.7103310076068154.\u001B[0m\n"
     ]
    },
    {
     "name": "stdout",
     "output_type": "stream",
     "text": [
      "Accuracy: 0.723463687150838\n",
      "Macro-F1 score: 0.6967068074525895\n",
      "Trial 21 finished with value: 0.6967068074525895 and parameters: {'boosting_type': 'gbdt', 'learning_rate': 0.32566764771013207, 'max_depth': 130, 'num_leaves': 149, 'colsample_bytree': 0.8177394009935679, 'subsample': 0.35217093969861535, 'scale_pos_weight': 1.7955214407525644, 'min_child_samples': 2, 'min_child_weight': 0.00010335045212075445, 'min_split_gain': 0.014078719972461393, 'max_delta_step': 1.283271004165442, 'n_estimators': 60, 'reg_alpha': 0.0028070796912941618, 'reg_lambda': 0.28792465826543373}. Best is trial 18 with value: 0.7103310076068154.\n",
      "Trial 21 finished with value: 0.6967068074525895 and parameters: {'boosting_type': 'gbdt', 'learning_rate': 0.32566764771013207, 'max_depth': 130, 'num_leaves': 149, 'colsample_bytree': 0.8177394009935679, 'subsample': 0.35217093969861535, 'scale_pos_weight': 1.7955214407525644, 'min_child_samples': 2, 'min_child_weight': 0.00010335045212075445, 'min_split_gain': 0.014078719972461393, 'max_delta_step': 1.283271004165442, 'n_estimators': 60, 'reg_alpha': 0.0028070796912941618, 'reg_lambda': 0.28792465826543373}. Best is trial 18 with value: 0.7103310076068154.\n",
      "Trial 21 finished with value: 0.6967068074525895 and parameters: {'boosting_type': 'gbdt', 'learning_rate': 0.32566764771013207, 'max_depth': 130, 'num_leaves': 149, 'colsample_bytree': 0.8177394009935679, 'subsample': 0.35217093969861535, 'scale_pos_weight': 1.7955214407525644, 'min_child_samples': 2, 'min_child_weight': 0.00010335045212075445, 'min_split_gain': 0.014078719972461393, 'max_delta_step': 1.283271004165442, 'n_estimators': 60, 'reg_alpha': 0.0028070796912941618, 'reg_lambda': 0.28792465826543373}. Best is trial 18 with value: 0.7103310076068154.\n",
      "Trial 21 finished with value: 0.6967068074525895 and parameters: {'boosting_type': 'gbdt', 'learning_rate': 0.32566764771013207, 'max_depth': 130, 'num_leaves': 149, 'colsample_bytree': 0.8177394009935679, 'subsample': 0.35217093969861535, 'scale_pos_weight': 1.7955214407525644, 'min_child_samples': 2, 'min_child_weight': 0.00010335045212075445, 'min_split_gain': 0.014078719972461393, 'max_delta_step': 1.283271004165442, 'n_estimators': 60, 'reg_alpha': 0.0028070796912941618, 'reg_lambda': 0.28792465826543373}. Best is trial 18 with value: 0.7103310076068154.\n"
     ]
    },
    {
     "name": "stderr",
     "output_type": "stream",
     "text": [
      "\u001B[32m[I 2022-08-02 14:00:11,371]\u001B[0m Trial 22 finished with value: 0.7088203397999759 and parameters: {'boosting_type': 'gbdt', 'learning_rate': 0.05847869157449784, 'max_depth': 131, 'num_leaves': 135, 'colsample_bytree': 0.9379398177670066, 'subsample': 0.4263951167427954, 'scale_pos_weight': 1.5157762241665758, 'min_child_samples': 3, 'min_child_weight': 0.0007125536049525366, 'min_split_gain': 0.003963091165284963, 'max_delta_step': 1.6419544202642156, 'n_estimators': 80, 'reg_alpha': 0.024930697494265616, 'reg_lambda': 0.017053677668765616}. Best is trial 18 with value: 0.7103310076068154.\u001B[0m\n"
     ]
    },
    {
     "name": "stdout",
     "output_type": "stream",
     "text": [
      "Accuracy: 0.7318435754189944\n",
      "Macro-F1 score: 0.7088203397999759\n",
      "Trial 22 finished with value: 0.7088203397999759 and parameters: {'boosting_type': 'gbdt', 'learning_rate': 0.05847869157449784, 'max_depth': 131, 'num_leaves': 135, 'colsample_bytree': 0.9379398177670066, 'subsample': 0.4263951167427954, 'scale_pos_weight': 1.5157762241665758, 'min_child_samples': 3, 'min_child_weight': 0.0007125536049525366, 'min_split_gain': 0.003963091165284963, 'max_delta_step': 1.6419544202642156, 'n_estimators': 80, 'reg_alpha': 0.024930697494265616, 'reg_lambda': 0.017053677668765616}. Best is trial 18 with value: 0.7103310076068154.\n",
      "Trial 22 finished with value: 0.7088203397999759 and parameters: {'boosting_type': 'gbdt', 'learning_rate': 0.05847869157449784, 'max_depth': 131, 'num_leaves': 135, 'colsample_bytree': 0.9379398177670066, 'subsample': 0.4263951167427954, 'scale_pos_weight': 1.5157762241665758, 'min_child_samples': 3, 'min_child_weight': 0.0007125536049525366, 'min_split_gain': 0.003963091165284963, 'max_delta_step': 1.6419544202642156, 'n_estimators': 80, 'reg_alpha': 0.024930697494265616, 'reg_lambda': 0.017053677668765616}. Best is trial 18 with value: 0.7103310076068154.\n",
      "Trial 22 finished with value: 0.7088203397999759 and parameters: {'boosting_type': 'gbdt', 'learning_rate': 0.05847869157449784, 'max_depth': 131, 'num_leaves': 135, 'colsample_bytree': 0.9379398177670066, 'subsample': 0.4263951167427954, 'scale_pos_weight': 1.5157762241665758, 'min_child_samples': 3, 'min_child_weight': 0.0007125536049525366, 'min_split_gain': 0.003963091165284963, 'max_delta_step': 1.6419544202642156, 'n_estimators': 80, 'reg_alpha': 0.024930697494265616, 'reg_lambda': 0.017053677668765616}. Best is trial 18 with value: 0.7103310076068154.\n",
      "Trial 22 finished with value: 0.7088203397999759 and parameters: {'boosting_type': 'gbdt', 'learning_rate': 0.05847869157449784, 'max_depth': 131, 'num_leaves': 135, 'colsample_bytree': 0.9379398177670066, 'subsample': 0.4263951167427954, 'scale_pos_weight': 1.5157762241665758, 'min_child_samples': 3, 'min_child_weight': 0.0007125536049525366, 'min_split_gain': 0.003963091165284963, 'max_delta_step': 1.6419544202642156, 'n_estimators': 80, 'reg_alpha': 0.024930697494265616, 'reg_lambda': 0.017053677668765616}. Best is trial 18 with value: 0.7103310076068154.\n"
     ]
    },
    {
     "name": "stderr",
     "output_type": "stream",
     "text": [
      "ERROR:root:Internal Python error in the inspect module.\n",
      "Below is the traceback from this internal error.\n",
      "\n"
     ]
    },
    {
     "name": "stdout",
     "output_type": "stream",
     "text": [
      "Traceback (most recent call last):\n",
      "  File \"C:\\Users\\LENOVO PC\\AppData\\Local\\Programs\\Python\\Python310\\lib\\site-packages\\IPython\\core\\magics\\execution.py\", line 1329, in time\n",
      "    out = eval(code_2, glob, local_ns)\n",
      "  File \"<timed exec>\", line 2, in <module>\n",
      "  File \"C:\\Users\\LENOVO PC\\AppData\\Local\\Programs\\Python\\Python310\\lib\\site-packages\\optuna\\study\\study.py\", line 400, in optimize\n",
      "    _optimize(\n",
      "  File \"C:\\Users\\LENOVO PC\\AppData\\Local\\Programs\\Python\\Python310\\lib\\site-packages\\optuna\\study\\_optimize.py\", line 66, in _optimize\n",
      "    _optimize_sequential(\n",
      "  File \"C:\\Users\\LENOVO PC\\AppData\\Local\\Programs\\Python\\Python310\\lib\\site-packages\\optuna\\study\\_optimize.py\", line 163, in _optimize_sequential\n",
      "    trial = _run_trial(study, func, catch)\n",
      "  File \"C:\\Users\\LENOVO PC\\AppData\\Local\\Programs\\Python\\Python310\\lib\\site-packages\\optuna\\study\\_optimize.py\", line 213, in _run_trial\n",
      "    value_or_values = func(trial)\n",
      "  File \"C:\\Users\\LENOVO~1\\AppData\\Local\\Temp/ipykernel_9932/3110114280.py\", line 4, in objective\n",
      "    model.fit(X_train, y_train)\n",
      "  File \"C:\\Users\\LENOVO PC\\AppData\\Local\\Programs\\Python\\Python310\\lib\\site-packages\\lightgbm\\sklearn.py\", line 967, in fit\n",
      "    super().fit(X, _y, sample_weight=sample_weight, init_score=init_score, eval_set=valid_sets,\n",
      "  File \"C:\\Users\\LENOVO PC\\AppData\\Local\\Programs\\Python\\Python310\\lib\\site-packages\\lightgbm\\sklearn.py\", line 748, in fit\n",
      "    self._Booster = train(\n",
      "  File \"C:\\Users\\LENOVO PC\\AppData\\Local\\Programs\\Python\\Python310\\lib\\site-packages\\lightgbm\\engine.py\", line 292, in train\n",
      "    booster.update(fobj=fobj)\n",
      "  File \"C:\\Users\\LENOVO PC\\AppData\\Local\\Programs\\Python\\Python310\\lib\\site-packages\\lightgbm\\basic.py\", line 3021, in update\n",
      "    _safe_call(_LIB.LGBM_BoosterUpdateOneIter(\n",
      "KeyboardInterrupt\n",
      "\n",
      "During handling of the above exception, another exception occurred:\n",
      "\n",
      "Traceback (most recent call last):\n",
      "  File \"C:\\Users\\LENOVO PC\\AppData\\Local\\Programs\\Python\\Python310\\lib\\site-packages\\IPython\\core\\interactiveshell.py\", line 2064, in showtraceback\n",
      "    stb = value._render_traceback_()\n",
      "AttributeError: 'KeyboardInterrupt' object has no attribute '_render_traceback_'\n",
      "\n",
      "During handling of the above exception, another exception occurred:\n",
      "\n",
      "Traceback (most recent call last):\n",
      "  File \"C:\\Users\\LENOVO PC\\AppData\\Local\\Programs\\Python\\Python310\\lib\\site-packages\\IPython\\core\\ultratb.py\", line 1101, in get_records\n",
      "    return _fixed_getinnerframes(etb, number_of_lines_of_context, tb_offset)\n",
      "  File \"C:\\Users\\LENOVO PC\\AppData\\Local\\Programs\\Python\\Python310\\lib\\site-packages\\IPython\\core\\ultratb.py\", line 248, in wrapped\n",
      "    return f(*args, **kwargs)\n",
      "  File \"C:\\Users\\LENOVO PC\\AppData\\Local\\Programs\\Python\\Python310\\lib\\site-packages\\IPython\\core\\ultratb.py\", line 281, in _fixed_getinnerframes\n",
      "    records = fix_frame_records_filenames(inspect.getinnerframes(etb, context))\n",
      "  File \"C:\\Users\\LENOVO PC\\AppData\\Local\\Programs\\Python\\Python310\\lib\\inspect.py\", line 1665, in getinnerframes\n",
      "    frameinfo = (tb.tb_frame,) + getframeinfo(tb, context)\n",
      "  File \"C:\\Users\\LENOVO PC\\AppData\\Local\\Programs\\Python\\Python310\\lib\\inspect.py\", line 1623, in getframeinfo\n",
      "    filename = getsourcefile(frame) or getfile(frame)\n",
      "  File \"C:\\Users\\LENOVO PC\\AppData\\Local\\Programs\\Python\\Python310\\lib\\inspect.py\", line 829, in getsourcefile\n",
      "    module = getmodule(object, filename)\n",
      "  File \"C:\\Users\\LENOVO PC\\AppData\\Local\\Programs\\Python\\Python310\\lib\\inspect.py\", line 871, in getmodule\n",
      "    if f == _filesbymodname.get(modname, None):\n",
      "KeyboardInterrupt\n"
     ]
    },
    {
     "ename": "TypeError",
     "evalue": "object of type 'NoneType' has no len()",
     "output_type": "error",
     "traceback": [
      "\u001B[1;31m---------------------------------------------------------------------------\u001B[0m",
      "\u001B[1;31mKeyboardInterrupt\u001B[0m                         Traceback (most recent call last)",
      "\u001B[1;32m~\\AppData\\Local\\Programs\\Python\\Python310\\lib\\site-packages\\IPython\\core\\magics\\execution.py\u001B[0m in \u001B[0;36mtime\u001B[1;34m(self, line, cell, local_ns)\u001B[0m\n\u001B[0;32m   1328\u001B[0m                     \u001B[0mcode_2\u001B[0m \u001B[1;33m=\u001B[0m \u001B[0mself\u001B[0m\u001B[1;33m.\u001B[0m\u001B[0mshell\u001B[0m\u001B[1;33m.\u001B[0m\u001B[0mcompile\u001B[0m\u001B[1;33m(\u001B[0m\u001B[0mexpr_val\u001B[0m\u001B[1;33m,\u001B[0m \u001B[0msource\u001B[0m\u001B[1;33m,\u001B[0m \u001B[1;34m'eval'\u001B[0m\u001B[1;33m)\u001B[0m\u001B[1;33m\u001B[0m\u001B[1;33m\u001B[0m\u001B[0m\n\u001B[1;32m-> 1329\u001B[1;33m                     \u001B[0mout\u001B[0m \u001B[1;33m=\u001B[0m \u001B[0meval\u001B[0m\u001B[1;33m(\u001B[0m\u001B[0mcode_2\u001B[0m\u001B[1;33m,\u001B[0m \u001B[0mglob\u001B[0m\u001B[1;33m,\u001B[0m \u001B[0mlocal_ns\u001B[0m\u001B[1;33m)\u001B[0m\u001B[1;33m\u001B[0m\u001B[1;33m\u001B[0m\u001B[0m\n\u001B[0m\u001B[0;32m   1330\u001B[0m             \u001B[1;32mexcept\u001B[0m\u001B[1;33m:\u001B[0m\u001B[1;33m\u001B[0m\u001B[1;33m\u001B[0m\u001B[0m\n",
      "\u001B[1;32m<timed exec>\u001B[0m in \u001B[0;36m<module>\u001B[1;34m\u001B[0m\n",
      "\u001B[1;32m~\\AppData\\Local\\Programs\\Python\\Python310\\lib\\site-packages\\optuna\\study\\study.py\u001B[0m in \u001B[0;36moptimize\u001B[1;34m(self, func, n_trials, timeout, n_jobs, catch, callbacks, gc_after_trial, show_progress_bar)\u001B[0m\n\u001B[0;32m    399\u001B[0m \u001B[1;33m\u001B[0m\u001B[0m\n\u001B[1;32m--> 400\u001B[1;33m         _optimize(\n\u001B[0m\u001B[0;32m    401\u001B[0m             \u001B[0mstudy\u001B[0m\u001B[1;33m=\u001B[0m\u001B[0mself\u001B[0m\u001B[1;33m,\u001B[0m\u001B[1;33m\u001B[0m\u001B[1;33m\u001B[0m\u001B[0m\n",
      "\u001B[1;32m~\\AppData\\Local\\Programs\\Python\\Python310\\lib\\site-packages\\optuna\\study\\_optimize.py\u001B[0m in \u001B[0;36m_optimize\u001B[1;34m(study, func, n_trials, timeout, n_jobs, catch, callbacks, gc_after_trial, show_progress_bar)\u001B[0m\n\u001B[0;32m     65\u001B[0m         \u001B[1;32mif\u001B[0m \u001B[0mn_jobs\u001B[0m \u001B[1;33m==\u001B[0m \u001B[1;36m1\u001B[0m\u001B[1;33m:\u001B[0m\u001B[1;33m\u001B[0m\u001B[1;33m\u001B[0m\u001B[0m\n\u001B[1;32m---> 66\u001B[1;33m             _optimize_sequential(\n\u001B[0m\u001B[0;32m     67\u001B[0m                 \u001B[0mstudy\u001B[0m\u001B[1;33m,\u001B[0m\u001B[1;33m\u001B[0m\u001B[1;33m\u001B[0m\u001B[0m\n",
      "\u001B[1;32m~\\AppData\\Local\\Programs\\Python\\Python310\\lib\\site-packages\\optuna\\study\\_optimize.py\u001B[0m in \u001B[0;36m_optimize_sequential\u001B[1;34m(study, func, n_trials, timeout, catch, callbacks, gc_after_trial, reseed_sampler_rng, time_start, progress_bar)\u001B[0m\n\u001B[0;32m    162\u001B[0m         \u001B[1;32mtry\u001B[0m\u001B[1;33m:\u001B[0m\u001B[1;33m\u001B[0m\u001B[1;33m\u001B[0m\u001B[0m\n\u001B[1;32m--> 163\u001B[1;33m             \u001B[0mtrial\u001B[0m \u001B[1;33m=\u001B[0m \u001B[0m_run_trial\u001B[0m\u001B[1;33m(\u001B[0m\u001B[0mstudy\u001B[0m\u001B[1;33m,\u001B[0m \u001B[0mfunc\u001B[0m\u001B[1;33m,\u001B[0m \u001B[0mcatch\u001B[0m\u001B[1;33m)\u001B[0m\u001B[1;33m\u001B[0m\u001B[1;33m\u001B[0m\u001B[0m\n\u001B[0m\u001B[0;32m    164\u001B[0m         \u001B[1;32mexcept\u001B[0m \u001B[0mException\u001B[0m\u001B[1;33m:\u001B[0m\u001B[1;33m\u001B[0m\u001B[1;33m\u001B[0m\u001B[0m\n",
      "\u001B[1;32m~\\AppData\\Local\\Programs\\Python\\Python310\\lib\\site-packages\\optuna\\study\\_optimize.py\u001B[0m in \u001B[0;36m_run_trial\u001B[1;34m(study, func, catch)\u001B[0m\n\u001B[0;32m    212\u001B[0m     \u001B[1;32mtry\u001B[0m\u001B[1;33m:\u001B[0m\u001B[1;33m\u001B[0m\u001B[1;33m\u001B[0m\u001B[0m\n\u001B[1;32m--> 213\u001B[1;33m         \u001B[0mvalue_or_values\u001B[0m \u001B[1;33m=\u001B[0m \u001B[0mfunc\u001B[0m\u001B[1;33m(\u001B[0m\u001B[0mtrial\u001B[0m\u001B[1;33m)\u001B[0m\u001B[1;33m\u001B[0m\u001B[1;33m\u001B[0m\u001B[0m\n\u001B[0m\u001B[0;32m    214\u001B[0m     \u001B[1;32mexcept\u001B[0m \u001B[0mexceptions\u001B[0m\u001B[1;33m.\u001B[0m\u001B[0mTrialPruned\u001B[0m \u001B[1;32mas\u001B[0m \u001B[0me\u001B[0m\u001B[1;33m:\u001B[0m\u001B[1;33m\u001B[0m\u001B[1;33m\u001B[0m\u001B[0m\n",
      "\u001B[1;32mC:\\Users\\LENOVO~1\\AppData\\Local\\Temp/ipykernel_9932/3110114280.py\u001B[0m in \u001B[0;36mobjective\u001B[1;34m(trial, X_train, y_train, X_valid, y_valid, model)\u001B[0m\n\u001B[0;32m      3\u001B[0m     \u001B[0mmodel\u001B[0m \u001B[1;33m=\u001B[0m \u001B[0mcreate_model\u001B[0m\u001B[1;33m(\u001B[0m\u001B[0mtrial\u001B[0m\u001B[1;33m)\u001B[0m\u001B[1;33m\u001B[0m\u001B[1;33m\u001B[0m\u001B[0m\n\u001B[1;32m----> 4\u001B[1;33m     \u001B[0mmodel\u001B[0m\u001B[1;33m.\u001B[0m\u001B[0mfit\u001B[0m\u001B[1;33m(\u001B[0m\u001B[0mX_train\u001B[0m\u001B[1;33m,\u001B[0m \u001B[0my_train\u001B[0m\u001B[1;33m)\u001B[0m\u001B[1;33m\u001B[0m\u001B[1;33m\u001B[0m\u001B[0m\n\u001B[0m\u001B[0;32m      5\u001B[0m     \u001B[0mpreds\u001B[0m \u001B[1;33m=\u001B[0m \u001B[0mmodel\u001B[0m\u001B[1;33m.\u001B[0m\u001B[0mpredict\u001B[0m\u001B[1;33m(\u001B[0m\u001B[0mX_valid\u001B[0m\u001B[1;33m)\u001B[0m\u001B[1;33m\u001B[0m\u001B[1;33m\u001B[0m\u001B[0m\n",
      "\u001B[1;32m~\\AppData\\Local\\Programs\\Python\\Python310\\lib\\site-packages\\lightgbm\\sklearn.py\u001B[0m in \u001B[0;36mfit\u001B[1;34m(self, X, y, sample_weight, init_score, eval_set, eval_names, eval_sample_weight, eval_class_weight, eval_init_score, eval_metric, early_stopping_rounds, verbose, feature_name, categorical_feature, callbacks, init_model)\u001B[0m\n\u001B[0;32m    966\u001B[0m \u001B[1;33m\u001B[0m\u001B[0m\n\u001B[1;32m--> 967\u001B[1;33m         super().fit(X, _y, sample_weight=sample_weight, init_score=init_score, eval_set=valid_sets,\n\u001B[0m\u001B[0;32m    968\u001B[0m                     \u001B[0meval_names\u001B[0m\u001B[1;33m=\u001B[0m\u001B[0meval_names\u001B[0m\u001B[1;33m,\u001B[0m \u001B[0meval_sample_weight\u001B[0m\u001B[1;33m=\u001B[0m\u001B[0meval_sample_weight\u001B[0m\u001B[1;33m,\u001B[0m\u001B[1;33m\u001B[0m\u001B[1;33m\u001B[0m\u001B[0m\n",
      "\u001B[1;32m~\\AppData\\Local\\Programs\\Python\\Python310\\lib\\site-packages\\lightgbm\\sklearn.py\u001B[0m in \u001B[0;36mfit\u001B[1;34m(self, X, y, sample_weight, init_score, group, eval_set, eval_names, eval_sample_weight, eval_class_weight, eval_init_score, eval_group, eval_metric, early_stopping_rounds, verbose, feature_name, categorical_feature, callbacks, init_model)\u001B[0m\n\u001B[0;32m    747\u001B[0m \u001B[1;33m\u001B[0m\u001B[0m\n\u001B[1;32m--> 748\u001B[1;33m         self._Booster = train(\n\u001B[0m\u001B[0;32m    749\u001B[0m             \u001B[0mparams\u001B[0m\u001B[1;33m=\u001B[0m\u001B[0mparams\u001B[0m\u001B[1;33m,\u001B[0m\u001B[1;33m\u001B[0m\u001B[1;33m\u001B[0m\u001B[0m\n",
      "\u001B[1;32m~\\AppData\\Local\\Programs\\Python\\Python310\\lib\\site-packages\\lightgbm\\engine.py\u001B[0m in \u001B[0;36mtrain\u001B[1;34m(params, train_set, num_boost_round, valid_sets, valid_names, fobj, feval, init_model, feature_name, categorical_feature, early_stopping_rounds, evals_result, verbose_eval, learning_rates, keep_training_booster, callbacks)\u001B[0m\n\u001B[0;32m    291\u001B[0m \u001B[1;33m\u001B[0m\u001B[0m\n\u001B[1;32m--> 292\u001B[1;33m         \u001B[0mbooster\u001B[0m\u001B[1;33m.\u001B[0m\u001B[0mupdate\u001B[0m\u001B[1;33m(\u001B[0m\u001B[0mfobj\u001B[0m\u001B[1;33m=\u001B[0m\u001B[0mfobj\u001B[0m\u001B[1;33m)\u001B[0m\u001B[1;33m\u001B[0m\u001B[1;33m\u001B[0m\u001B[0m\n\u001B[0m\u001B[0;32m    293\u001B[0m \u001B[1;33m\u001B[0m\u001B[0m\n",
      "\u001B[1;32m~\\AppData\\Local\\Programs\\Python\\Python310\\lib\\site-packages\\lightgbm\\basic.py\u001B[0m in \u001B[0;36mupdate\u001B[1;34m(self, train_set, fobj)\u001B[0m\n\u001B[0;32m   3020\u001B[0m                 \u001B[1;32mraise\u001B[0m \u001B[0mLightGBMError\u001B[0m\u001B[1;33m(\u001B[0m\u001B[1;34m'Cannot update due to null objective function.'\u001B[0m\u001B[1;33m)\u001B[0m\u001B[1;33m\u001B[0m\u001B[1;33m\u001B[0m\u001B[0m\n\u001B[1;32m-> 3021\u001B[1;33m             _safe_call(_LIB.LGBM_BoosterUpdateOneIter(\n\u001B[0m\u001B[0;32m   3022\u001B[0m                 \u001B[0mself\u001B[0m\u001B[1;33m.\u001B[0m\u001B[0mhandle\u001B[0m\u001B[1;33m,\u001B[0m\u001B[1;33m\u001B[0m\u001B[1;33m\u001B[0m\u001B[0m\n",
      "\u001B[1;31mKeyboardInterrupt\u001B[0m: ",
      "\nDuring handling of the above exception, another exception occurred:\n",
      "\u001B[1;31mAttributeError\u001B[0m                            Traceback (most recent call last)",
      "\u001B[1;32m~\\AppData\\Local\\Programs\\Python\\Python310\\lib\\site-packages\\IPython\\core\\interactiveshell.py\u001B[0m in \u001B[0;36mshowtraceback\u001B[1;34m(self, exc_tuple, filename, tb_offset, exception_only, running_compiled_code)\u001B[0m\n\u001B[0;32m   2063\u001B[0m                         \u001B[1;31m# in the engines. This should return a list of strings.\u001B[0m\u001B[1;33m\u001B[0m\u001B[1;33m\u001B[0m\u001B[0m\n\u001B[1;32m-> 2064\u001B[1;33m                         \u001B[0mstb\u001B[0m \u001B[1;33m=\u001B[0m \u001B[0mvalue\u001B[0m\u001B[1;33m.\u001B[0m\u001B[0m_render_traceback_\u001B[0m\u001B[1;33m(\u001B[0m\u001B[1;33m)\u001B[0m\u001B[1;33m\u001B[0m\u001B[1;33m\u001B[0m\u001B[0m\n\u001B[0m\u001B[0;32m   2065\u001B[0m                     \u001B[1;32mexcept\u001B[0m \u001B[0mException\u001B[0m\u001B[1;33m:\u001B[0m\u001B[1;33m\u001B[0m\u001B[1;33m\u001B[0m\u001B[0m\n",
      "\u001B[1;31mAttributeError\u001B[0m: 'KeyboardInterrupt' object has no attribute '_render_traceback_'",
      "\nDuring handling of the above exception, another exception occurred:\n",
      "\u001B[1;31mTypeError\u001B[0m                                 Traceback (most recent call last)",
      "\u001B[1;32mC:\\Users\\LENOVO~1\\AppData\\Local\\Temp/ipykernel_9932/2835922726.py\u001B[0m in \u001B[0;36m<module>\u001B[1;34m\u001B[0m\n\u001B[1;32m----> 1\u001B[1;33m \u001B[0mget_ipython\u001B[0m\u001B[1;33m(\u001B[0m\u001B[1;33m)\u001B[0m\u001B[1;33m.\u001B[0m\u001B[0mrun_cell_magic\u001B[0m\u001B[1;33m(\u001B[0m\u001B[1;34m'time'\u001B[0m\u001B[1;33m,\u001B[0m \u001B[1;34m''\u001B[0m\u001B[1;33m,\u001B[0m \u001B[1;34m\"study = optuna.create_study(sampler=optuna.samplers.TPESampler(), direction='maximize') # can define seed for sampler\\nstudy.optimize(objective, n_trials=50)\\n\"\u001B[0m\u001B[1;33m)\u001B[0m\u001B[1;33m\u001B[0m\u001B[1;33m\u001B[0m\u001B[0m\n\u001B[0m",
      "\u001B[1;32m~\\AppData\\Local\\Programs\\Python\\Python310\\lib\\site-packages\\IPython\\core\\interactiveshell.py\u001B[0m in \u001B[0;36mrun_cell_magic\u001B[1;34m(self, magic_name, line, cell)\u001B[0m\n\u001B[0;32m   2404\u001B[0m             \u001B[1;32mwith\u001B[0m \u001B[0mself\u001B[0m\u001B[1;33m.\u001B[0m\u001B[0mbuiltin_trap\u001B[0m\u001B[1;33m:\u001B[0m\u001B[1;33m\u001B[0m\u001B[1;33m\u001B[0m\u001B[0m\n\u001B[0;32m   2405\u001B[0m                 \u001B[0margs\u001B[0m \u001B[1;33m=\u001B[0m \u001B[1;33m(\u001B[0m\u001B[0mmagic_arg_s\u001B[0m\u001B[1;33m,\u001B[0m \u001B[0mcell\u001B[0m\u001B[1;33m)\u001B[0m\u001B[1;33m\u001B[0m\u001B[1;33m\u001B[0m\u001B[0m\n\u001B[1;32m-> 2406\u001B[1;33m                 \u001B[0mresult\u001B[0m \u001B[1;33m=\u001B[0m \u001B[0mfn\u001B[0m\u001B[1;33m(\u001B[0m\u001B[1;33m*\u001B[0m\u001B[0margs\u001B[0m\u001B[1;33m,\u001B[0m \u001B[1;33m**\u001B[0m\u001B[0mkwargs\u001B[0m\u001B[1;33m)\u001B[0m\u001B[1;33m\u001B[0m\u001B[1;33m\u001B[0m\u001B[0m\n\u001B[0m\u001B[0;32m   2407\u001B[0m             \u001B[1;32mreturn\u001B[0m \u001B[0mresult\u001B[0m\u001B[1;33m\u001B[0m\u001B[1;33m\u001B[0m\u001B[0m\n\u001B[0;32m   2408\u001B[0m \u001B[1;33m\u001B[0m\u001B[0m\n",
      "\u001B[1;32m~\\AppData\\Local\\Programs\\Python\\Python310\\lib\\site-packages\\decorator.py\u001B[0m in \u001B[0;36mfun\u001B[1;34m(*args, **kw)\u001B[0m\n\u001B[0;32m    230\u001B[0m             \u001B[1;32mif\u001B[0m \u001B[1;32mnot\u001B[0m \u001B[0mkwsyntax\u001B[0m\u001B[1;33m:\u001B[0m\u001B[1;33m\u001B[0m\u001B[1;33m\u001B[0m\u001B[0m\n\u001B[0;32m    231\u001B[0m                 \u001B[0margs\u001B[0m\u001B[1;33m,\u001B[0m \u001B[0mkw\u001B[0m \u001B[1;33m=\u001B[0m \u001B[0mfix\u001B[0m\u001B[1;33m(\u001B[0m\u001B[0margs\u001B[0m\u001B[1;33m,\u001B[0m \u001B[0mkw\u001B[0m\u001B[1;33m,\u001B[0m \u001B[0msig\u001B[0m\u001B[1;33m)\u001B[0m\u001B[1;33m\u001B[0m\u001B[1;33m\u001B[0m\u001B[0m\n\u001B[1;32m--> 232\u001B[1;33m             \u001B[1;32mreturn\u001B[0m \u001B[0mcaller\u001B[0m\u001B[1;33m(\u001B[0m\u001B[0mfunc\u001B[0m\u001B[1;33m,\u001B[0m \u001B[1;33m*\u001B[0m\u001B[1;33m(\u001B[0m\u001B[0mextras\u001B[0m \u001B[1;33m+\u001B[0m \u001B[0margs\u001B[0m\u001B[1;33m)\u001B[0m\u001B[1;33m,\u001B[0m \u001B[1;33m**\u001B[0m\u001B[0mkw\u001B[0m\u001B[1;33m)\u001B[0m\u001B[1;33m\u001B[0m\u001B[1;33m\u001B[0m\u001B[0m\n\u001B[0m\u001B[0;32m    233\u001B[0m     \u001B[0mfun\u001B[0m\u001B[1;33m.\u001B[0m\u001B[0m__name__\u001B[0m \u001B[1;33m=\u001B[0m \u001B[0mfunc\u001B[0m\u001B[1;33m.\u001B[0m\u001B[0m__name__\u001B[0m\u001B[1;33m\u001B[0m\u001B[1;33m\u001B[0m\u001B[0m\n\u001B[0;32m    234\u001B[0m     \u001B[0mfun\u001B[0m\u001B[1;33m.\u001B[0m\u001B[0m__doc__\u001B[0m \u001B[1;33m=\u001B[0m \u001B[0mfunc\u001B[0m\u001B[1;33m.\u001B[0m\u001B[0m__doc__\u001B[0m\u001B[1;33m\u001B[0m\u001B[1;33m\u001B[0m\u001B[0m\n",
      "\u001B[1;32m~\\AppData\\Local\\Programs\\Python\\Python310\\lib\\site-packages\\IPython\\core\\magic.py\u001B[0m in \u001B[0;36m<lambda>\u001B[1;34m(f, *a, **k)\u001B[0m\n\u001B[0;32m    185\u001B[0m     \u001B[1;31m# but it's overkill for just that one bit of state.\u001B[0m\u001B[1;33m\u001B[0m\u001B[1;33m\u001B[0m\u001B[0m\n\u001B[0;32m    186\u001B[0m     \u001B[1;32mdef\u001B[0m \u001B[0mmagic_deco\u001B[0m\u001B[1;33m(\u001B[0m\u001B[0marg\u001B[0m\u001B[1;33m)\u001B[0m\u001B[1;33m:\u001B[0m\u001B[1;33m\u001B[0m\u001B[1;33m\u001B[0m\u001B[0m\n\u001B[1;32m--> 187\u001B[1;33m         \u001B[0mcall\u001B[0m \u001B[1;33m=\u001B[0m \u001B[1;32mlambda\u001B[0m \u001B[0mf\u001B[0m\u001B[1;33m,\u001B[0m \u001B[1;33m*\u001B[0m\u001B[0ma\u001B[0m\u001B[1;33m,\u001B[0m \u001B[1;33m**\u001B[0m\u001B[0mk\u001B[0m\u001B[1;33m:\u001B[0m \u001B[0mf\u001B[0m\u001B[1;33m(\u001B[0m\u001B[1;33m*\u001B[0m\u001B[0ma\u001B[0m\u001B[1;33m,\u001B[0m \u001B[1;33m**\u001B[0m\u001B[0mk\u001B[0m\u001B[1;33m)\u001B[0m\u001B[1;33m\u001B[0m\u001B[1;33m\u001B[0m\u001B[0m\n\u001B[0m\u001B[0;32m    188\u001B[0m \u001B[1;33m\u001B[0m\u001B[0m\n\u001B[0;32m    189\u001B[0m         \u001B[1;32mif\u001B[0m \u001B[0mcallable\u001B[0m\u001B[1;33m(\u001B[0m\u001B[0marg\u001B[0m\u001B[1;33m)\u001B[0m\u001B[1;33m:\u001B[0m\u001B[1;33m\u001B[0m\u001B[1;33m\u001B[0m\u001B[0m\n",
      "\u001B[1;32m~\\AppData\\Local\\Programs\\Python\\Python310\\lib\\site-packages\\IPython\\core\\magics\\execution.py\u001B[0m in \u001B[0;36mtime\u001B[1;34m(self, line, cell, local_ns)\u001B[0m\n\u001B[0;32m   1329\u001B[0m                     \u001B[0mout\u001B[0m \u001B[1;33m=\u001B[0m \u001B[0meval\u001B[0m\u001B[1;33m(\u001B[0m\u001B[0mcode_2\u001B[0m\u001B[1;33m,\u001B[0m \u001B[0mglob\u001B[0m\u001B[1;33m,\u001B[0m \u001B[0mlocal_ns\u001B[0m\u001B[1;33m)\u001B[0m\u001B[1;33m\u001B[0m\u001B[1;33m\u001B[0m\u001B[0m\n\u001B[0;32m   1330\u001B[0m             \u001B[1;32mexcept\u001B[0m\u001B[1;33m:\u001B[0m\u001B[1;33m\u001B[0m\u001B[1;33m\u001B[0m\u001B[0m\n\u001B[1;32m-> 1331\u001B[1;33m                 \u001B[0mself\u001B[0m\u001B[1;33m.\u001B[0m\u001B[0mshell\u001B[0m\u001B[1;33m.\u001B[0m\u001B[0mshowtraceback\u001B[0m\u001B[1;33m(\u001B[0m\u001B[1;33m)\u001B[0m\u001B[1;33m\u001B[0m\u001B[1;33m\u001B[0m\u001B[0m\n\u001B[0m\u001B[0;32m   1332\u001B[0m                 \u001B[1;32mreturn\u001B[0m\u001B[1;33m\u001B[0m\u001B[1;33m\u001B[0m\u001B[0m\n\u001B[0;32m   1333\u001B[0m             \u001B[0mend\u001B[0m \u001B[1;33m=\u001B[0m \u001B[0mclock2\u001B[0m\u001B[1;33m(\u001B[0m\u001B[1;33m)\u001B[0m\u001B[1;33m\u001B[0m\u001B[1;33m\u001B[0m\u001B[0m\n",
      "\u001B[1;32m~\\AppData\\Local\\Programs\\Python\\Python310\\lib\\site-packages\\IPython\\core\\interactiveshell.py\u001B[0m in \u001B[0;36mshowtraceback\u001B[1;34m(self, exc_tuple, filename, tb_offset, exception_only, running_compiled_code)\u001B[0m\n\u001B[0;32m   2064\u001B[0m                         \u001B[0mstb\u001B[0m \u001B[1;33m=\u001B[0m \u001B[0mvalue\u001B[0m\u001B[1;33m.\u001B[0m\u001B[0m_render_traceback_\u001B[0m\u001B[1;33m(\u001B[0m\u001B[1;33m)\u001B[0m\u001B[1;33m\u001B[0m\u001B[1;33m\u001B[0m\u001B[0m\n\u001B[0;32m   2065\u001B[0m                     \u001B[1;32mexcept\u001B[0m \u001B[0mException\u001B[0m\u001B[1;33m:\u001B[0m\u001B[1;33m\u001B[0m\u001B[1;33m\u001B[0m\u001B[0m\n\u001B[1;32m-> 2066\u001B[1;33m                         stb = self.InteractiveTB.structured_traceback(etype,\n\u001B[0m\u001B[0;32m   2067\u001B[0m                                             value, tb, tb_offset=tb_offset)\n\u001B[0;32m   2068\u001B[0m \u001B[1;33m\u001B[0m\u001B[0m\n",
      "\u001B[1;32m~\\AppData\\Local\\Programs\\Python\\Python310\\lib\\site-packages\\IPython\\core\\ultratb.py\u001B[0m in \u001B[0;36mstructured_traceback\u001B[1;34m(self, etype, value, tb, tb_offset, number_of_lines_of_context)\u001B[0m\n\u001B[0;32m   1365\u001B[0m         \u001B[1;32melse\u001B[0m\u001B[1;33m:\u001B[0m\u001B[1;33m\u001B[0m\u001B[1;33m\u001B[0m\u001B[0m\n\u001B[0;32m   1366\u001B[0m             \u001B[0mself\u001B[0m\u001B[1;33m.\u001B[0m\u001B[0mtb\u001B[0m \u001B[1;33m=\u001B[0m \u001B[0mtb\u001B[0m\u001B[1;33m\u001B[0m\u001B[1;33m\u001B[0m\u001B[0m\n\u001B[1;32m-> 1367\u001B[1;33m         return FormattedTB.structured_traceback(\n\u001B[0m\u001B[0;32m   1368\u001B[0m             self, etype, value, tb, tb_offset, number_of_lines_of_context)\n\u001B[0;32m   1369\u001B[0m \u001B[1;33m\u001B[0m\u001B[0m\n",
      "\u001B[1;32m~\\AppData\\Local\\Programs\\Python\\Python310\\lib\\site-packages\\IPython\\core\\ultratb.py\u001B[0m in \u001B[0;36mstructured_traceback\u001B[1;34m(self, etype, value, tb, tb_offset, number_of_lines_of_context)\u001B[0m\n\u001B[0;32m   1265\u001B[0m         \u001B[1;32mif\u001B[0m \u001B[0mmode\u001B[0m \u001B[1;32min\u001B[0m \u001B[0mself\u001B[0m\u001B[1;33m.\u001B[0m\u001B[0mverbose_modes\u001B[0m\u001B[1;33m:\u001B[0m\u001B[1;33m\u001B[0m\u001B[1;33m\u001B[0m\u001B[0m\n\u001B[0;32m   1266\u001B[0m             \u001B[1;31m# Verbose modes need a full traceback\u001B[0m\u001B[1;33m\u001B[0m\u001B[1;33m\u001B[0m\u001B[0m\n\u001B[1;32m-> 1267\u001B[1;33m             return VerboseTB.structured_traceback(\n\u001B[0m\u001B[0;32m   1268\u001B[0m                 \u001B[0mself\u001B[0m\u001B[1;33m,\u001B[0m \u001B[0metype\u001B[0m\u001B[1;33m,\u001B[0m \u001B[0mvalue\u001B[0m\u001B[1;33m,\u001B[0m \u001B[0mtb\u001B[0m\u001B[1;33m,\u001B[0m \u001B[0mtb_offset\u001B[0m\u001B[1;33m,\u001B[0m \u001B[0mnumber_of_lines_of_context\u001B[0m\u001B[1;33m\u001B[0m\u001B[1;33m\u001B[0m\u001B[0m\n\u001B[0;32m   1269\u001B[0m             )\n",
      "\u001B[1;32m~\\AppData\\Local\\Programs\\Python\\Python310\\lib\\site-packages\\IPython\\core\\ultratb.py\u001B[0m in \u001B[0;36mstructured_traceback\u001B[1;34m(self, etype, evalue, etb, tb_offset, number_of_lines_of_context)\u001B[0m\n\u001B[0;32m   1122\u001B[0m         \u001B[1;34m\"\"\"Return a nice text document describing the traceback.\"\"\"\u001B[0m\u001B[1;33m\u001B[0m\u001B[1;33m\u001B[0m\u001B[0m\n\u001B[0;32m   1123\u001B[0m \u001B[1;33m\u001B[0m\u001B[0m\n\u001B[1;32m-> 1124\u001B[1;33m         formatted_exception = self.format_exception_as_a_whole(etype, evalue, etb, number_of_lines_of_context,\n\u001B[0m\u001B[0;32m   1125\u001B[0m                                                                tb_offset)\n\u001B[0;32m   1126\u001B[0m \u001B[1;33m\u001B[0m\u001B[0m\n",
      "\u001B[1;32m~\\AppData\\Local\\Programs\\Python\\Python310\\lib\\site-packages\\IPython\\core\\ultratb.py\u001B[0m in \u001B[0;36mformat_exception_as_a_whole\u001B[1;34m(self, etype, evalue, etb, number_of_lines_of_context, tb_offset)\u001B[0m\n\u001B[0;32m   1080\u001B[0m \u001B[1;33m\u001B[0m\u001B[0m\n\u001B[0;32m   1081\u001B[0m \u001B[1;33m\u001B[0m\u001B[0m\n\u001B[1;32m-> 1082\u001B[1;33m         \u001B[0mlast_unique\u001B[0m\u001B[1;33m,\u001B[0m \u001B[0mrecursion_repeat\u001B[0m \u001B[1;33m=\u001B[0m \u001B[0mfind_recursion\u001B[0m\u001B[1;33m(\u001B[0m\u001B[0morig_etype\u001B[0m\u001B[1;33m,\u001B[0m \u001B[0mevalue\u001B[0m\u001B[1;33m,\u001B[0m \u001B[0mrecords\u001B[0m\u001B[1;33m)\u001B[0m\u001B[1;33m\u001B[0m\u001B[1;33m\u001B[0m\u001B[0m\n\u001B[0m\u001B[0;32m   1083\u001B[0m \u001B[1;33m\u001B[0m\u001B[0m\n\u001B[0;32m   1084\u001B[0m         \u001B[0mframes\u001B[0m \u001B[1;33m=\u001B[0m \u001B[0mself\u001B[0m\u001B[1;33m.\u001B[0m\u001B[0mformat_records\u001B[0m\u001B[1;33m(\u001B[0m\u001B[0mrecords\u001B[0m\u001B[1;33m,\u001B[0m \u001B[0mlast_unique\u001B[0m\u001B[1;33m,\u001B[0m \u001B[0mrecursion_repeat\u001B[0m\u001B[1;33m)\u001B[0m\u001B[1;33m\u001B[0m\u001B[1;33m\u001B[0m\u001B[0m\n",
      "\u001B[1;32m~\\AppData\\Local\\Programs\\Python\\Python310\\lib\\site-packages\\IPython\\core\\ultratb.py\u001B[0m in \u001B[0;36mfind_recursion\u001B[1;34m(etype, value, records)\u001B[0m\n\u001B[0;32m    380\u001B[0m     \u001B[1;31m# first frame (from in to out) that looks different.\u001B[0m\u001B[1;33m\u001B[0m\u001B[1;33m\u001B[0m\u001B[0m\n\u001B[0;32m    381\u001B[0m     \u001B[1;32mif\u001B[0m \u001B[1;32mnot\u001B[0m \u001B[0mis_recursion_error\u001B[0m\u001B[1;33m(\u001B[0m\u001B[0metype\u001B[0m\u001B[1;33m,\u001B[0m \u001B[0mvalue\u001B[0m\u001B[1;33m,\u001B[0m \u001B[0mrecords\u001B[0m\u001B[1;33m)\u001B[0m\u001B[1;33m:\u001B[0m\u001B[1;33m\u001B[0m\u001B[1;33m\u001B[0m\u001B[0m\n\u001B[1;32m--> 382\u001B[1;33m         \u001B[1;32mreturn\u001B[0m \u001B[0mlen\u001B[0m\u001B[1;33m(\u001B[0m\u001B[0mrecords\u001B[0m\u001B[1;33m)\u001B[0m\u001B[1;33m,\u001B[0m \u001B[1;36m0\u001B[0m\u001B[1;33m\u001B[0m\u001B[1;33m\u001B[0m\u001B[0m\n\u001B[0m\u001B[0;32m    383\u001B[0m \u001B[1;33m\u001B[0m\u001B[0m\n\u001B[0;32m    384\u001B[0m     \u001B[1;31m# Select filename, lineno, func_name to track frames with\u001B[0m\u001B[1;33m\u001B[0m\u001B[1;33m\u001B[0m\u001B[0m\n",
      "\u001B[1;31mTypeError\u001B[0m: object of type 'NoneType' has no len()"
     ]
    }
   ]
  },
  {
   "cell_type": "code",
   "source": [
    "print('Number of finished trials:', len(study.trials))\n",
    "# print('Best trial:', study.best_trial)\n",
    "print('Best parameters:', study.best_trial.params)\n",
    "print('Best score:', study.best_trial.value)  # Show the best value.\n",
    "# Number of finished trials: 100\n",
    "# Best parameters: {'boosting_type': 'gbdt', 'learning_rate': 0.4561329620625593, 'max_depth': 177, 'num_leaves': 247, 'colsample_bytree': 0.8047370664395848, 'subsample': 0.6379228123349399, 'min_child_samples': 3, 'min_child_weight': 0.06313731736777115, 'min_split_gain': 0.00018796593923741422, 'max_delta_step': 0.11425890485056074, 'n_estimators': 65, 'reg_alpha': 0.024282143648941008, 'reg_lambda': 36.62235751478392}\n",
    "# Best score: 0.7086699840268176\n",
    "#  Trial 22 finished with value: 0.7100998639595939 and parameters: {'boosting_type': 'gbdt', 'learning_rate': 0.35374751233313123, \\\n",
    "# 'max_depth': 149, 'num_leaves': 204, 'colsample_bytree': 0.5499055719152047, 'subsample': 0.5683393077019018, 'min_child_samples': 2, \\\n",
    "# 'min_child_weight': 0.09068141061818547, 'min_split_gain': 0.23576238602317104, 'max_delta_step': 0.1226383774396453, \\\n",
    "# 'n_estimators': 120, 'reg_alpha': 0.0009793960104005541, 'reg_lambda': 0.0002700644417464759}. Best is trial 22 with value: 0.7100998639595939."
   ],
   "metadata": {
    "execution": {
     "iopub.status.busy": "2022-08-01T05:22:15.218536Z",
     "iopub.execute_input": "2022-08-01T05:22:15.218945Z",
     "iopub.status.idle": "2022-08-01T05:22:15.263636Z",
     "shell.execute_reply.started": "2022-08-01T05:22:15.218911Z",
     "shell.execute_reply": "2022-08-01T05:22:15.262405Z"
    },
    "trusted": true,
    "pycharm": {
     "name": "#%%\n"
    }
   },
   "execution_count": null,
   "outputs": []
  },
  {
   "cell_type": "code",
   "source": [
    "# model = LGBM(boosting_type='gbdt', learning_rate=0.21, max_depth=110, num_leaves=138, colsample_bytree=0.905, subsample=0.44, min_child_samples=6, min_child_weight=5, \\\n",
    "#              min_split_gain=0.007, max_delta_step=0.651, n_estimators=76, reg_alpha=0.205, reg_lambda=1.70, random_state=100, n_jobs=-1)\n",
    "model = LGBM(**study.best_trial.params)\n",
    "model.fit(X_final_train, y_train)\n",
    "preds = model.predict(X_final_test)\n",
    "score = macro_f1_score(y_test, preds)"
   ],
   "metadata": {
    "execution": {
     "iopub.status.busy": "2022-08-01T05:22:15.265090Z",
     "iopub.execute_input": "2022-08-01T05:22:15.265439Z",
     "iopub.status.idle": "2022-08-01T05:22:23.584115Z",
     "shell.execute_reply.started": "2022-08-01T05:22:15.265408Z",
     "shell.execute_reply": "2022-08-01T05:22:23.582698Z"
    },
    "trusted": true,
    "pycharm": {
     "name": "#%%\n"
    }
   },
   "execution_count": null,
   "outputs": []
  },
  {
   "cell_type": "code",
   "source": [
    "print(classification_report_imbalanced(y_test, preds))"
   ],
   "metadata": {
    "execution": {
     "iopub.status.busy": "2022-08-01T05:22:23.586568Z",
     "iopub.execute_input": "2022-08-01T05:22:23.587071Z",
     "iopub.status.idle": "2022-08-01T05:22:23.604127Z",
     "shell.execute_reply.started": "2022-08-01T05:22:23.587034Z",
     "shell.execute_reply": "2022-08-01T05:22:23.602805Z"
    },
    "trusted": true,
    "pycharm": {
     "name": "#%%\n"
    }
   },
   "execution_count": null,
   "outputs": []
  },
  {
   "cell_type": "code",
   "source": [
    "# df_trials = study.trials_dataframe()"
   ],
   "metadata": {
    "execution": {
     "iopub.status.busy": "2022-07-31T15:36:16.707158Z",
     "iopub.execute_input": "2022-07-31T15:36:16.707691Z",
     "iopub.status.idle": "2022-07-31T15:36:16.715644Z",
     "shell.execute_reply.started": "2022-07-31T15:36:16.707638Z",
     "shell.execute_reply": "2022-07-31T15:36:16.714226Z"
    },
    "trusted": true,
    "pycharm": {
     "name": "#%%\n"
    }
   },
   "execution_count": null,
   "outputs": []
  },
  {
   "cell_type": "code",
   "source": [
    "# df_trials.to_csv(\"LGBM_Hyperparams.csv\", index=False)"
   ],
   "metadata": {
    "execution": {
     "iopub.status.busy": "2022-07-31T15:36:16.731701Z",
     "iopub.execute_input": "2022-07-31T15:36:16.732578Z",
     "iopub.status.idle": "2022-07-31T15:36:16.737894Z",
     "shell.execute_reply.started": "2022-07-31T15:36:16.732529Z",
     "shell.execute_reply": "2022-07-31T15:36:16.736616Z"
    },
    "trusted": true,
    "pycharm": {
     "name": "#%%\n"
    }
   },
   "execution_count": null,
   "outputs": []
  },
  {
   "cell_type": "code",
   "source": [
    "optuna.visualization.plot_optimization_history(study)"
   ],
   "metadata": {
    "execution": {
     "iopub.status.busy": "2022-08-01T05:08:20.354459Z",
     "iopub.execute_input": "2022-08-01T05:08:20.354895Z",
     "iopub.status.idle": "2022-08-01T05:08:20.506503Z",
     "shell.execute_reply.started": "2022-08-01T05:08:20.354844Z",
     "shell.execute_reply": "2022-08-01T05:08:20.505294Z"
    },
    "trusted": true,
    "pycharm": {
     "name": "#%%\n"
    }
   },
   "execution_count": null,
   "outputs": []
  },
  {
   "cell_type": "code",
   "source": [
    "optuna.visualization.plot_edf(study)"
   ],
   "metadata": {
    "execution": {
     "iopub.status.busy": "2022-08-01T05:08:20.508322Z",
     "iopub.execute_input": "2022-08-01T05:08:20.508751Z",
     "iopub.status.idle": "2022-08-01T05:08:20.525980Z",
     "shell.execute_reply.started": "2022-08-01T05:08:20.508710Z",
     "shell.execute_reply": "2022-08-01T05:08:20.524558Z"
    },
    "trusted": true,
    "pycharm": {
     "name": "#%%\n"
    }
   },
   "execution_count": null,
   "outputs": []
  },
  {
   "cell_type": "code",
   "source": [
    "optuna.visualization.plot_parallel_coordinate(study)"
   ],
   "metadata": {
    "execution": {
     "iopub.status.busy": "2022-08-01T05:08:20.527378Z",
     "iopub.execute_input": "2022-08-01T05:08:20.527916Z",
     "iopub.status.idle": "2022-08-01T05:08:20.633440Z",
     "shell.execute_reply.started": "2022-08-01T05:08:20.527888Z",
     "shell.execute_reply": "2022-08-01T05:08:20.632394Z"
    },
    "trusted": true,
    "pycharm": {
     "name": "#%%\n"
    }
   },
   "execution_count": null,
   "outputs": []
  },
  {
   "cell_type": "code",
   "source": [
    "optuna.visualization.plot_slice(study)"
   ],
   "metadata": {
    "execution": {
     "iopub.status.busy": "2022-08-01T05:08:20.634894Z",
     "iopub.execute_input": "2022-08-01T05:08:20.635229Z",
     "iopub.status.idle": "2022-08-01T05:08:21.053313Z",
     "shell.execute_reply.started": "2022-08-01T05:08:20.635200Z",
     "shell.execute_reply": "2022-08-01T05:08:21.052025Z"
    },
    "trusted": true,
    "pycharm": {
     "name": "#%%\n"
    }
   },
   "execution_count": null,
   "outputs": []
  },
  {
   "cell_type": "code",
   "source": [
    "optuna.visualization.plot_contour(study, params=['num_leaves',\n",
    "                            'max_depth',\n",
    "                            'subsample',\n",
    "                            'learning_rate'])"
   ],
   "metadata": {
    "execution": {
     "iopub.status.busy": "2022-08-01T05:08:21.054638Z",
     "iopub.execute_input": "2022-08-01T05:08:21.054943Z",
     "iopub.status.idle": "2022-08-01T05:08:22.137853Z",
     "shell.execute_reply.started": "2022-08-01T05:08:21.054917Z",
     "shell.execute_reply": "2022-08-01T05:08:22.136749Z"
    },
    "trusted": true,
    "pycharm": {
     "name": "#%%\n"
    }
   },
   "execution_count": null,
   "outputs": []
  },
  {
   "cell_type": "code",
   "source": [
    "def create_model(trial):\n",
    "    params = {\n",
    "        'boosting_type': trial.suggest_categorical('boosting_type', ['Plain']),# 'Ordered', \n",
    "        'loss_function': 'Logloss',\n",
    "\n",
    "        'learning_rate': trial.suggest_float('learning_rate', 0.05, 1, log=True),\n",
    "        'max_depth': trial.suggest_int('max_depth', 4, 16),\n",
    "#         'num_leaves' : trial.suggest_int('num_leaves', 80, 200),\n",
    "        'grow_policy': trial.suggest_categorical('grow_policy', ['SymmetricTree', 'Lossguide', 'Depthwise']), # 'Region' Unimplemented for CPU\n",
    "        \n",
    "        'colsample_bylevel': trial.suggest_float('colsample_bylevel', 0.3, 1.0),\n",
    "#         'subsample': trial.suggest_float('subsample', 0.3, 0.8),\n",
    "        'min_child_samples': trial.suggest_int('min_child_samples', 5, 60, step=1),\n",
    "        \n",
    "        'n_estimators': trial.suggest_int('n_estimators', 60, 120, step=5),\n",
    "        \n",
    "        'scale_pos_weight': trial.suggest_float('scale_pos_weight', 0.25, 2.5), # instead of auto class weights\n",
    "        'reg_lambda': trial.suggest_float('reg_lambda', 1e-4, 25, log=True),\n",
    "        \n",
    "        'random_state': 100,\n",
    "        'bootstrap_type': trial.suggest_categorical('bootstrap_type', ['Bayesian', 'Bernoulli', 'MVS']),\n",
    "        'eval_metric': 'F1', \n",
    "        'custom_metric': ['F1', 'Precision', 'Recall'],\n",
    "    }\n",
    "\n",
    "    if params['bootstrap_type'] == 'Bayesian':\n",
    "        params['bagging_temperature'] = trial.suggest_float('bagging_temperature', 0, 10)\n",
    "    elif params['bootstrap_type'] == 'Bernoulli':\n",
    "        params['subsample'] = trial.suggest_float('subsample', 0.1, 1)\n",
    "    elif params['bootstrap_type'] == 'MVS':\n",
    "        params['mvs_reg'] = trial.suggest_float('mvs_reg', 0.5, 10)\n",
    "    \n",
    "    model = CatBoost(**params)\n",
    "    \n",
    "    return model"
   ],
   "metadata": {
    "execution": {
     "iopub.status.busy": "2022-07-31T15:36:19.226901Z",
     "iopub.execute_input": "2022-07-31T15:36:19.227476Z",
     "iopub.status.idle": "2022-07-31T15:36:19.238387Z",
     "shell.execute_reply.started": "2022-07-31T15:36:19.227439Z",
     "shell.execute_reply": "2022-07-31T15:36:19.237386Z"
    },
    "trusted": true,
    "pycharm": {
     "name": "#%%\n"
    }
   },
   "execution_count": null,
   "outputs": []
  },
  {
   "cell_type": "code",
   "source": [
    "def objective(trial, X_train=X_final_train, y_train=y_train,X_valid=X_final_valid, y_valid=y_valid,model=create_model):\n",
    "    model = create_model(trial)\n",
    "    model.fit(X_train, \n",
    "              y_train,\n",
    "              eval_set=[(X_valid, y_valid)],\n",
    "              verbose=0,\n",
    "#               early_stopping_rounds=25\n",
    "             )\n",
    "    \n",
    "    preds = model.predict(X_valid)\n",
    "    score = macro_f1_score(y_valid, preds)\n",
    "    \n",
    "    return score"
   ],
   "metadata": {
    "execution": {
     "iopub.status.busy": "2022-07-31T15:36:19.239955Z",
     "iopub.execute_input": "2022-07-31T15:36:19.240646Z",
     "iopub.status.idle": "2022-07-31T15:36:19.255878Z",
     "shell.execute_reply.started": "2022-07-31T15:36:19.240610Z",
     "shell.execute_reply": "2022-07-31T15:36:19.254936Z"
    },
    "trusted": true,
    "pycharm": {
     "name": "#%%\n"
    }
   },
   "execution_count": null,
   "outputs": []
  },
  {
   "cell_type": "code",
   "source": [
    "%%time\n",
    "study = optuna.create_study(sampler=optuna.samplers.TPESampler(), direction='maximize') # can define seed for sampler\n",
    "study.optimize(objective, n_trials=60, timeout=10000)"
   ],
   "metadata": {
    "execution": {
     "iopub.status.busy": "2022-07-31T15:36:19.257055Z",
     "iopub.execute_input": "2022-07-31T15:36:19.258103Z",
     "iopub.status.idle": "2022-07-31T18:34:22.641175Z",
     "shell.execute_reply.started": "2022-07-31T15:36:19.258061Z",
     "shell.execute_reply": "2022-07-31T18:34:22.639541Z"
    },
    "trusted": true,
    "pycharm": {
     "name": "#%%\n"
    }
   },
   "execution_count": null,
   "outputs": []
  },
  {
   "cell_type": "code",
   "source": [
    "print('Number of finished trials:', len(study.trials))\n",
    "# print('Best trial:', study.best_trial)\n",
    "print('Best parameters:', study.best_trial.params)\n",
    "print('Best score:', study.best_trial.value)  # Show the best value.\n",
    "# Trial 153 finished with value: 0.7130286499403973 and parameters: {'boosting_type': 'Plain', 'learning_rate': 0.2417214498236795, \n",
    "# 'max_depth': 15, 'grow_policy': 'Depthwise', 'colsample_bytree': 0.5948706454819891, 'min_child_samples': 17, 'n_estimators': 90, \n",
    "# 'auto_class_weights': 'Balanced', 'reg_lambda': 5.267221485280441, 'bootstrap_type': 'MVS', 'mvs_reg': 5.555855456645176}\n",
    "\n",
    "# Best parameters: {'boosting_type': 'Plain', 'learning_rate': 0.2510275559464182, \n",
    "#'max_depth': 15,'grow_policy': 'Depthwise', 'colsample_bytree': 0.42720150233770604, 'min_child_samples': 20, \n",
    "#'n_estimators': 95, 'auto_class_weights': 'Balanced', 'reg_lambda': 10.96439478226534, \n",
    "#'bootstrap_type': 'Bernoulli', 'subsample': 0.5333795300921985}\n",
    "# Best score: 0.7087476093663909"
   ],
   "metadata": {
    "execution": {
     "iopub.status.busy": "2022-07-31T18:34:22.644016Z",
     "iopub.execute_input": "2022-07-31T18:34:22.644484Z",
     "iopub.status.idle": "2022-07-31T18:34:22.661201Z",
     "shell.execute_reply.started": "2022-07-31T18:34:22.644448Z",
     "shell.execute_reply": "2022-07-31T18:34:22.659853Z"
    },
    "trusted": true,
    "pycharm": {
     "name": "#%%\n"
    }
   },
   "execution_count": null,
   "outputs": []
  },
  {
   "cell_type": "code",
   "source": [
    "model = CatBoost(**study.best_trial.params)\n",
    "model.fit(X_final_train, y_train)\n",
    "preds = model.predict(X_final_test)\n",
    "score = macro_f1_score(y_test, preds)"
   ],
   "metadata": {
    "execution": {
     "iopub.status.busy": "2022-07-31T18:34:22.663983Z",
     "iopub.execute_input": "2022-07-31T18:34:22.664948Z",
     "iopub.status.idle": "2022-07-31T18:34:33.619033Z",
     "shell.execute_reply.started": "2022-07-31T18:34:22.664890Z",
     "shell.execute_reply": "2022-07-31T18:34:33.618002Z"
    },
    "trusted": true,
    "pycharm": {
     "name": "#%%\n"
    }
   },
   "execution_count": null,
   "outputs": []
  },
  {
   "cell_type": "code",
   "source": [
    "df_trials = study.trials_dataframe()"
   ],
   "metadata": {
    "execution": {
     "iopub.status.busy": "2022-07-31T18:34:33.620267Z",
     "iopub.execute_input": "2022-07-31T18:34:33.621197Z",
     "iopub.status.idle": "2022-07-31T18:34:33.656972Z",
     "shell.execute_reply.started": "2022-07-31T18:34:33.621160Z",
     "shell.execute_reply": "2022-07-31T18:34:33.655636Z"
    },
    "trusted": true,
    "pycharm": {
     "name": "#%%\n"
    }
   },
   "execution_count": null,
   "outputs": []
  },
  {
   "cell_type": "code",
   "source": [
    "df_trials.to_csv(\"Catboost_Hyperparams.csv\", index=False)"
   ],
   "metadata": {
    "execution": {
     "iopub.status.busy": "2022-07-31T18:34:33.658547Z",
     "iopub.execute_input": "2022-07-31T18:34:33.659355Z",
     "iopub.status.idle": "2022-07-31T18:34:33.682388Z",
     "shell.execute_reply.started": "2022-07-31T18:34:33.659294Z",
     "shell.execute_reply": "2022-07-31T18:34:33.680920Z"
    },
    "trusted": true,
    "pycharm": {
     "name": "#%%\n"
    }
   },
   "execution_count": null,
   "outputs": []
  },
  {
   "cell_type": "code",
   "source": [
    "optuna.visualization.plot_optimization_history(study)"
   ],
   "metadata": {
    "execution": {
     "iopub.status.busy": "2022-07-31T18:34:33.684094Z",
     "iopub.execute_input": "2022-07-31T18:34:33.684486Z",
     "iopub.status.idle": "2022-07-31T18:34:33.708139Z",
     "shell.execute_reply.started": "2022-07-31T18:34:33.684451Z",
     "shell.execute_reply": "2022-07-31T18:34:33.706699Z"
    },
    "trusted": true,
    "pycharm": {
     "name": "#%%\n"
    }
   },
   "execution_count": null,
   "outputs": []
  },
  {
   "cell_type": "code",
   "source": [
    "optuna.visualization.plot_edf(study)"
   ],
   "metadata": {
    "execution": {
     "iopub.status.busy": "2022-07-31T18:34:33.709893Z",
     "iopub.execute_input": "2022-07-31T18:34:33.710912Z",
     "iopub.status.idle": "2022-07-31T18:34:33.730421Z",
     "shell.execute_reply.started": "2022-07-31T18:34:33.710863Z",
     "shell.execute_reply": "2022-07-31T18:34:33.729526Z"
    },
    "trusted": true,
    "pycharm": {
     "name": "#%%\n"
    }
   },
   "execution_count": null,
   "outputs": []
  },
  {
   "cell_type": "code",
   "source": [
    "optuna.visualization.plot_parallel_coordinate(study)"
   ],
   "metadata": {
    "execution": {
     "iopub.status.busy": "2022-07-31T18:34:33.731902Z",
     "iopub.execute_input": "2022-07-31T18:34:33.732274Z",
     "iopub.status.idle": "2022-07-31T18:34:33.758128Z",
     "shell.execute_reply.started": "2022-07-31T18:34:33.732243Z",
     "shell.execute_reply": "2022-07-31T18:34:33.756848Z"
    },
    "trusted": true,
    "pycharm": {
     "name": "#%%\n"
    }
   },
   "execution_count": null,
   "outputs": []
  },
  {
   "cell_type": "code",
   "source": [
    "optuna.visualization.plot_slice(study)"
   ],
   "metadata": {
    "execution": {
     "iopub.status.busy": "2022-07-31T18:34:33.760246Z",
     "iopub.execute_input": "2022-07-31T18:34:33.760733Z",
     "iopub.status.idle": "2022-07-31T18:34:34.027355Z",
     "shell.execute_reply.started": "2022-07-31T18:34:33.760689Z",
     "shell.execute_reply": "2022-07-31T18:34:34.026203Z"
    },
    "trusted": true,
    "pycharm": {
     "name": "#%%\n"
    }
   },
   "execution_count": null,
   "outputs": []
  },
  {
   "cell_type": "code",
   "source": [
    "optuna.visualization.plot_contour(study, params=['scale_pos_weight',\n",
    "                            'colsample_bylevel',\n",
    "                            'subsample',\n",
    "                            'learning_rate'])"
   ],
   "metadata": {
    "execution": {
     "iopub.status.busy": "2022-07-31T18:34:34.029044Z",
     "iopub.execute_input": "2022-07-31T18:34:34.029396Z",
     "iopub.status.idle": "2022-07-31T18:34:34.413343Z",
     "shell.execute_reply.started": "2022-07-31T18:34:34.029364Z",
     "shell.execute_reply": "2022-07-31T18:34:34.412189Z"
    },
    "trusted": true,
    "pycharm": {
     "name": "#%%\n"
    }
   },
   "execution_count": null,
   "outputs": []
  },
  {
   "cell_type": "code",
   "source": [
    "def create_model(trial):\n",
    "    params = {\n",
    "        'penalty': trial.suggest_categorical('penalty', ['l2', 'none']),\n",
    "        'solver': trial.suggest_categorical('solver', ['lbfgs', 'sag', 'saga']),\n",
    "        'class_weight': trial.suggest_categorical('class_weight', ['balanced', None]),\n",
    "\n",
    "        'max_iter': trial.suggest_int('max_iter', 300, 400),\n",
    "\n",
    "        'verbose': 0,\n",
    "        'random_state': 100,\n",
    "        'n_jobs': -1,\n",
    "    }\n",
    "    \n",
    "    if params['penalty'] == 'l2':\n",
    "        params['C'] = trial.suggest_float('C', 0.1, 10, log=True)\n",
    "        \n",
    "    model = LogisticRegression(**params)\n",
    "    \n",
    "    return model"
   ],
   "metadata": {
    "execution": {
     "iopub.status.busy": "2022-07-31T18:34:34.414887Z",
     "iopub.execute_input": "2022-07-31T18:34:34.415243Z",
     "iopub.status.idle": "2022-07-31T18:34:34.424787Z",
     "shell.execute_reply.started": "2022-07-31T18:34:34.415212Z",
     "shell.execute_reply": "2022-07-31T18:34:34.423200Z"
    },
    "trusted": true,
    "pycharm": {
     "name": "#%%\n"
    }
   },
   "execution_count": null,
   "outputs": []
  },
  {
   "cell_type": "code",
   "source": [
    "def objective(trial, X_train=X_final_train, y_train=y_train,X_valid=X_final_valid, y_valid=y_valid,model=create_model):\n",
    "#     svd_params = {\n",
    "#         'n_components': trial.suggest_int('n_components', 50, 3500, step=50),\n",
    "#         'algorithm': 'randomized', #trial.suggest_categorical('algorithm', ['arpack', 'randomized']),\n",
    "#         'random_state': 100,\n",
    "#         'n_iter': 5\n",
    "#     }\n",
    "    \n",
    "#     svd = TruncatedSVD(**svd_params)\n",
    "#     svd.fit(X_train)\n",
    "#     X_train_svd = svd.transform(X_train)\n",
    "    \n",
    "    model = create_model(trial)\n",
    "    \n",
    "#     model.fit(X_train_svd, y_train)\n",
    "#     X_valid_svd = svd.transform(X_valid)\n",
    "#     preds = model.predict(X_valid_svd)\n",
    "\n",
    "    model.fit(X_train, y_train)\n",
    "    preds = model.predict(X_valid)\n",
    "    score = macro_f1_score(y_valid, preds)\n",
    "    \n",
    "    return score"
   ],
   "metadata": {
    "execution": {
     "iopub.status.busy": "2022-07-31T18:34:34.426335Z",
     "iopub.execute_input": "2022-07-31T18:34:34.426706Z",
     "iopub.status.idle": "2022-07-31T18:34:34.436494Z",
     "shell.execute_reply.started": "2022-07-31T18:34:34.426674Z",
     "shell.execute_reply": "2022-07-31T18:34:34.435150Z"
    },
    "trusted": true,
    "pycharm": {
     "name": "#%%\n"
    }
   },
   "execution_count": null,
   "outputs": []
  },
  {
   "cell_type": "code",
   "source": [
    "%%time\n",
    "study = optuna.create_study(sampler=optuna.samplers.TPESampler(), direction='maximize') # can define seed for sampler\n",
    "study.optimize(objective, n_trials=60, timeout=10000)"
   ],
   "metadata": {
    "execution": {
     "iopub.status.busy": "2022-07-31T18:34:34.438686Z",
     "iopub.execute_input": "2022-07-31T18:34:34.439053Z",
     "iopub.status.idle": "2022-07-31T19:02:14.265044Z",
     "shell.execute_reply.started": "2022-07-31T18:34:34.439022Z",
     "shell.execute_reply": "2022-07-31T19:02:14.263661Z"
    },
    "trusted": true,
    "pycharm": {
     "name": "#%%\n"
    }
   },
   "execution_count": null,
   "outputs": []
  },
  {
   "cell_type": "code",
   "source": [
    "print('Number of finished trials:', len(study.trials))\n",
    "# print('Best trial:', study.best_trial)\n",
    "print('Best parameters:', study.best_trial.params)\n",
    "print('Best score:', study.best_trial.value)  # Show the best value.\n",
    "# Number of finished trials: 5\n",
    "# Best parameters: {'n_components': 2300, 'penalty': 'l2', 'solver': 'saga', 'class_weight': 'balanced', 'C': 0.740083647626061}\n",
    "# Best score: 0.7122960641591057\n",
    "# Number of finished trials: 60\n",
    "# Best parameters: {'n_components': 3150, 'penalty': 'l2', 'solver': 'saga', 'class_weight': 'balanced', 'max_iter': 206}\n",
    "# Best score: 0.7156894279571357\n",
    "# Number of finished trials: 60\n",
    "# Best parameters: {'n_components': 2950, 'penalty': 'l2', 'solver': 'lbfgs', 'class_weight': 'balanced', 'max_iter': 395, 'C': 1.0937699794981433}\n",
    "# Best score: 0.71263888533865"
   ],
   "metadata": {
    "execution": {
     "iopub.status.busy": "2022-07-31T19:02:14.266827Z",
     "iopub.execute_input": "2022-07-31T19:02:14.267194Z",
     "iopub.status.idle": "2022-07-31T19:02:14.285243Z",
     "shell.execute_reply.started": "2022-07-31T19:02:14.267160Z",
     "shell.execute_reply": "2022-07-31T19:02:14.284201Z"
    },
    "trusted": true,
    "pycharm": {
     "name": "#%%\n"
    }
   },
   "execution_count": null,
   "outputs": []
  },
  {
   "cell_type": "code",
   "source": [
    "# model = LGBM(**study.best_trial.params)\n",
    "# model.fit(X_train, y_train)\n",
    "# preds = model.predict(X_test)\n",
    "# score = macro_f1_score(y_test, preds)"
   ],
   "metadata": {
    "execution": {
     "iopub.status.busy": "2022-07-31T19:02:14.286673Z",
     "iopub.execute_input": "2022-07-31T19:02:14.287065Z",
     "iopub.status.idle": "2022-07-31T19:02:14.292770Z",
     "shell.execute_reply.started": "2022-07-31T19:02:14.287032Z",
     "shell.execute_reply": "2022-07-31T19:02:14.291547Z"
    },
    "trusted": true,
    "pycharm": {
     "name": "#%%\n"
    }
   },
   "execution_count": null,
   "outputs": []
  },
  {
   "cell_type": "code",
   "source": [
    "df_trials = study.trials_dataframe()"
   ],
   "metadata": {
    "execution": {
     "iopub.status.busy": "2022-07-31T19:02:14.294710Z",
     "iopub.execute_input": "2022-07-31T19:02:14.295144Z",
     "iopub.status.idle": "2022-07-31T19:02:14.309040Z",
     "shell.execute_reply.started": "2022-07-31T19:02:14.295101Z",
     "shell.execute_reply": "2022-07-31T19:02:14.307890Z"
    },
    "trusted": true,
    "pycharm": {
     "name": "#%%\n"
    }
   },
   "execution_count": null,
   "outputs": []
  },
  {
   "cell_type": "code",
   "source": [
    "df_trials.to_csv(\"SVD_LogReg_Hyperparams.csv\", index=False)"
   ],
   "metadata": {
    "execution": {
     "iopub.status.busy": "2022-07-31T19:02:14.310691Z",
     "iopub.execute_input": "2022-07-31T19:02:14.311541Z",
     "iopub.status.idle": "2022-07-31T19:02:14.320297Z",
     "shell.execute_reply.started": "2022-07-31T19:02:14.311497Z",
     "shell.execute_reply": "2022-07-31T19:02:14.319491Z"
    },
    "trusted": true,
    "pycharm": {
     "name": "#%%\n"
    }
   },
   "execution_count": null,
   "outputs": []
  },
  {
   "cell_type": "code",
   "source": [
    "optuna.visualization.plot_optimization_history(study)"
   ],
   "metadata": {
    "execution": {
     "iopub.status.busy": "2022-07-31T19:02:14.321888Z",
     "iopub.execute_input": "2022-07-31T19:02:14.322494Z",
     "iopub.status.idle": "2022-07-31T19:02:14.347147Z",
     "shell.execute_reply.started": "2022-07-31T19:02:14.322461Z",
     "shell.execute_reply": "2022-07-31T19:02:14.345941Z"
    },
    "trusted": true,
    "pycharm": {
     "name": "#%%\n"
    }
   },
   "execution_count": null,
   "outputs": []
  },
  {
   "cell_type": "code",
   "source": [
    "optuna.visualization.plot_edf(study)"
   ],
   "metadata": {
    "execution": {
     "iopub.status.busy": "2022-07-31T19:02:14.348760Z",
     "iopub.execute_input": "2022-07-31T19:02:14.349084Z",
     "iopub.status.idle": "2022-07-31T19:02:14.364550Z",
     "shell.execute_reply.started": "2022-07-31T19:02:14.349056Z",
     "shell.execute_reply": "2022-07-31T19:02:14.362833Z"
    },
    "trusted": true,
    "pycharm": {
     "name": "#%%\n"
    }
   },
   "execution_count": null,
   "outputs": []
  },
  {
   "cell_type": "code",
   "source": [
    "optuna.visualization.plot_parallel_coordinate(study)"
   ],
   "metadata": {
    "execution": {
     "iopub.status.busy": "2022-07-31T19:02:14.366679Z",
     "iopub.execute_input": "2022-07-31T19:02:14.367569Z",
     "iopub.status.idle": "2022-07-31T19:02:14.399551Z",
     "shell.execute_reply.started": "2022-07-31T19:02:14.367450Z",
     "shell.execute_reply": "2022-07-31T19:02:14.398399Z"
    },
    "trusted": true,
    "pycharm": {
     "name": "#%%\n"
    }
   },
   "execution_count": null,
   "outputs": []
  },
  {
   "cell_type": "code",
   "source": [
    "optuna.visualization.plot_slice(study)"
   ],
   "metadata": {
    "execution": {
     "iopub.status.busy": "2022-07-31T19:02:14.401191Z",
     "iopub.execute_input": "2022-07-31T19:02:14.401565Z",
     "iopub.status.idle": "2022-07-31T19:02:14.522101Z",
     "shell.execute_reply.started": "2022-07-31T19:02:14.401533Z",
     "shell.execute_reply": "2022-07-31T19:02:14.520965Z"
    },
    "trusted": true,
    "pycharm": {
     "name": "#%%\n"
    }
   },
   "execution_count": null,
   "outputs": []
  },
  {
   "cell_type": "code",
   "source": [
    "optuna.visualization.plot_contour(study, params=['n_components',\n",
    "                            'penalty',\n",
    "                            'solver', 'class_weight', 'C'])"
   ],
   "metadata": {
    "execution": {
     "iopub.status.busy": "2022-07-31T19:02:14.523462Z",
     "iopub.execute_input": "2022-07-31T19:02:14.524003Z",
     "iopub.status.idle": "2022-07-31T19:02:14.846912Z",
     "shell.execute_reply.started": "2022-07-31T19:02:14.523970Z",
     "shell.execute_reply": "2022-07-31T19:02:14.844059Z"
    },
    "trusted": true,
    "pycharm": {
     "name": "#%%\n"
    }
   },
   "execution_count": null,
   "outputs": []
  },
  {
   "cell_type": "code",
   "source": [
    "def create_model(trial):\n",
    "    params = {\n",
    "        'C': trial.suggest_float('C', 0.1, 10, log=True),\n",
    "        'kernel': trial.suggest_categorical('kernel', ['linear', 'poly', 'rbf', 'sigmoid']),\n",
    "        'gamma': trial.suggest_float('gamma', 0.1, 1, log=True),\n",
    "\n",
    "        'tol': trial.suggest_float('tol', 1e-4, 0.1, log=True),\n",
    "        'class_weight': trial.suggest_categorical('class_weight', ['balanced', None]),\n",
    "        'cache_size': 500,\n",
    "\n",
    "        'verbose': 100,\n",
    "        'random_state': 100,\n",
    "    }\n",
    "        \n",
    "    model = SVC(**params)\n",
    "    \n",
    "    return model"
   ],
   "metadata": {
    "execution": {
     "iopub.status.busy": "2022-07-31T19:02:14.847966Z",
     "iopub.status.idle": "2022-07-31T19:02:14.848472Z",
     "shell.execute_reply.started": "2022-07-31T19:02:14.848234Z",
     "shell.execute_reply": "2022-07-31T19:02:14.848255Z"
    },
    "trusted": true,
    "pycharm": {
     "name": "#%%\n"
    }
   },
   "execution_count": null,
   "outputs": []
  },
  {
   "cell_type": "code",
   "source": [
    "def objective(trial, X_train=X_final_train, y_train=y_train,X_valid=X_final_valid, y_valid=y_valid,model=create_model):\n",
    "#     svd_params = {\n",
    "#         'n_components': trial.suggest_int('n_components', 50, 3500, step=50),\n",
    "#         'algorithm': 'randomized', #trial.suggest_categorical('algorithm', ['arpack', 'randomized']),\n",
    "#         'random_state': 100,\n",
    "#         'n_iter': 5\n",
    "#     }\n",
    "\n",
    "#     svd = TruncatedSVD(**svd_params)\n",
    "#     svd.fit(X_train)\n",
    "#     X_train_svd = svd.transform(X_train)\n",
    "    \n",
    "    model = create_model(trial) \n",
    "#     model.fit(X_train_svd, y_train)\n",
    "#     X_valid_svd = svd.transform(X_valid)\n",
    "#     preds = model.predict(X_valid_svd)\n",
    "\n",
    "    model.fit(X_train, y_train)\n",
    "    preds = model.predict(X_valid)\n",
    "    score = macro_f1_score(y_valid, preds)\n",
    "    \n",
    "    return score"
   ],
   "metadata": {
    "execution": {
     "iopub.status.busy": "2022-07-31T19:02:14.850742Z",
     "iopub.status.idle": "2022-07-31T19:02:14.851477Z",
     "shell.execute_reply.started": "2022-07-31T19:02:14.851222Z",
     "shell.execute_reply": "2022-07-31T19:02:14.851243Z"
    },
    "trusted": true,
    "pycharm": {
     "name": "#%%\n"
    }
   },
   "execution_count": null,
   "outputs": []
  },
  {
   "cell_type": "code",
   "source": [
    "# def objective(trial, X_train=X_train, y_train=y_train,X_valid=X_valid, y_valid=y_valid,model=create_model):\n",
    "#     model = create_model(trial)\n",
    "#     model.fit(X_train, y_train)\n",
    "    \n",
    "#     preds = model.predict(X_valid)\n",
    "#     score = macro_f1_score(y_valid, preds)\n",
    "    \n",
    "#     return score"
   ],
   "metadata": {
    "execution": {
     "iopub.status.busy": "2022-07-31T19:02:14.852761Z",
     "iopub.status.idle": "2022-07-31T19:02:14.853450Z",
     "shell.execute_reply.started": "2022-07-31T19:02:14.853217Z",
     "shell.execute_reply": "2022-07-31T19:02:14.853239Z"
    },
    "trusted": true,
    "pycharm": {
     "name": "#%%\n"
    }
   },
   "execution_count": null,
   "outputs": []
  },
  {
   "cell_type": "code",
   "source": [
    "%%time\n",
    "study = optuna.create_study(sampler=optuna.samplers.TPESampler(), direction='maximize') # can define seed for sampler\n",
    "study.optimize(objective, n_trials=60, timeout=10000)"
   ],
   "metadata": {
    "execution": {
     "iopub.status.busy": "2022-07-31T19:02:14.854736Z",
     "iopub.status.idle": "2022-07-31T19:02:14.855426Z",
     "shell.execute_reply.started": "2022-07-31T19:02:14.855199Z",
     "shell.execute_reply": "2022-07-31T19:02:14.855222Z"
    },
    "trusted": true,
    "pycharm": {
     "name": "#%%\n"
    }
   },
   "execution_count": null,
   "outputs": []
  },
  {
   "cell_type": "code",
   "source": [
    "print('Number of finished trials:', len(study.trials))\n",
    "# print('Best trial:', study.best_trial)\n",
    "print('Best parameters:', study.best_trial.params)\n",
    "print('Best score:', study.best_trial.value)  # Show the best value.\n",
    "# Number of finished trials: 60\n",
    "# Best parameters: {'n_components': 2350, 'C': 2.623586493072655, 'kernel': 'rbf', 'gamma': 0.692198847116744, 'tol': 0.0002174837787410716, 'class_weight': None}\n",
    "# Best score: 0.7198534443262943"
   ],
   "metadata": {
    "execution": {
     "iopub.status.busy": "2022-07-31T19:02:14.856709Z",
     "iopub.status.idle": "2022-07-31T19:02:14.857390Z",
     "shell.execute_reply.started": "2022-07-31T19:02:14.857163Z",
     "shell.execute_reply": "2022-07-31T19:02:14.857184Z"
    },
    "trusted": true,
    "pycharm": {
     "name": "#%%\n"
    }
   },
   "execution_count": null,
   "outputs": []
  },
  {
   "cell_type": "code",
   "source": [
    "svd = TruncatedSVD(n_components=2350, algorithm=\"randomized\", n_iter=5, random_state=100)\n",
    "svd.fit(X_final_train)\n",
    "X_train_svd = svd.transform(X_final_train)\n",
    "    \n",
    "model = SVC(C=2.6, kernel='rbf', gamma=0.7, tol=0.0002, class_weight=None, cache_size=500, random_state=100) \n",
    "model.fit(X_train_svd, y_train)\n",
    "    \n",
    "X_valid_svd = svd.transform(X_final_valid)\n",
    "preds = model.predict(X_valid_svd)\n",
    "score = macro_f1_score(y_valid, preds)"
   ],
   "metadata": {
    "execution": {
     "iopub.status.busy": "2022-07-31T19:02:14.858781Z",
     "iopub.status.idle": "2022-07-31T19:02:14.859453Z",
     "shell.execute_reply.started": "2022-07-31T19:02:14.859233Z",
     "shell.execute_reply": "2022-07-31T19:02:14.859253Z"
    },
    "trusted": true,
    "pycharm": {
     "name": "#%%\n"
    }
   },
   "execution_count": null,
   "outputs": []
  },
  {
   "cell_type": "code",
   "source": [
    "# X_test_svd = svd.transform(X_test)\n",
    "# results = model.predict(X_test)\n",
    "# results"
   ],
   "metadata": {
    "execution": {
     "iopub.status.busy": "2022-07-31T19:02:14.860866Z",
     "iopub.status.idle": "2022-07-31T19:02:14.861686Z",
     "shell.execute_reply.started": "2022-07-31T19:02:14.861464Z",
     "shell.execute_reply": "2022-07-31T19:02:14.861488Z"
    },
    "trusted": true,
    "pycharm": {
     "name": "#%%\n"
    }
   },
   "execution_count": null,
   "outputs": []
  },
  {
   "cell_type": "code",
   "source": [
    "# idsindf = helper.to_frame()\n",
    "# resultsindf = pd.DataFrame(results)\n",
    "# print(resultsindf.shape, idsindf.shape)\n",
    "# df_results = pd.concat([idsindf,resultsindf], axis =1)\n",
    "# df_results = df_results.rename(columns={0: 'label'})\n",
    "# display(df_results)"
   ],
   "metadata": {
    "execution": {
     "iopub.status.busy": "2022-07-31T19:02:14.863148Z",
     "iopub.status.idle": "2022-07-31T19:02:14.863788Z",
     "shell.execute_reply.started": "2022-07-31T19:02:14.863580Z",
     "shell.execute_reply": "2022-07-31T19:02:14.863601Z"
    },
    "trusted": true,
    "pycharm": {
     "name": "#%%\n"
    }
   },
   "execution_count": null,
   "outputs": []
  },
  {
   "cell_type": "code",
   "source": [
    "# df_results.to_csv(\"SVD_SVM_Predictions.csv\", index=False)"
   ],
   "metadata": {
    "execution": {
     "iopub.status.busy": "2022-07-31T19:02:14.865063Z",
     "iopub.status.idle": "2022-07-31T19:02:14.865622Z",
     "shell.execute_reply.started": "2022-07-31T19:02:14.865436Z",
     "shell.execute_reply": "2022-07-31T19:02:14.865455Z"
    },
    "trusted": true,
    "pycharm": {
     "name": "#%%\n"
    }
   },
   "execution_count": null,
   "outputs": []
  },
  {
   "cell_type": "code",
   "source": [
    "df_trials = study.trials_dataframe()"
   ],
   "metadata": {
    "execution": {
     "iopub.status.busy": "2022-07-31T19:02:14.866672Z",
     "iopub.status.idle": "2022-07-31T19:02:14.867219Z",
     "shell.execute_reply.started": "2022-07-31T19:02:14.867033Z",
     "shell.execute_reply": "2022-07-31T19:02:14.867052Z"
    },
    "trusted": true,
    "pycharm": {
     "name": "#%%\n"
    }
   },
   "execution_count": null,
   "outputs": []
  },
  {
   "cell_type": "code",
   "source": [
    "df_trials.to_csv(\"SVD_SVC_Hyperparams.csv\", index=False)"
   ],
   "metadata": {
    "execution": {
     "iopub.status.busy": "2022-07-31T19:02:14.868409Z",
     "iopub.status.idle": "2022-07-31T19:02:14.868968Z",
     "shell.execute_reply.started": "2022-07-31T19:02:14.868768Z",
     "shell.execute_reply": "2022-07-31T19:02:14.868787Z"
    },
    "trusted": true,
    "pycharm": {
     "name": "#%%\n"
    }
   },
   "execution_count": null,
   "outputs": []
  },
  {
   "cell_type": "code",
   "source": [
    "optuna.visualization.plot_optimization_history(study)"
   ],
   "metadata": {
    "execution": {
     "iopub.status.busy": "2022-07-31T19:02:14.870092Z",
     "iopub.status.idle": "2022-07-31T19:02:14.870879Z",
     "shell.execute_reply.started": "2022-07-31T19:02:14.870612Z",
     "shell.execute_reply": "2022-07-31T19:02:14.870642Z"
    },
    "trusted": true,
    "pycharm": {
     "name": "#%%\n"
    }
   },
   "execution_count": null,
   "outputs": []
  },
  {
   "cell_type": "code",
   "source": [
    "optuna.visualization.plot_edf(study)"
   ],
   "metadata": {
    "execution": {
     "iopub.status.busy": "2022-07-31T19:02:14.872162Z",
     "iopub.status.idle": "2022-07-31T19:02:14.872603Z",
     "shell.execute_reply.started": "2022-07-31T19:02:14.872403Z",
     "shell.execute_reply": "2022-07-31T19:02:14.872426Z"
    },
    "trusted": true,
    "pycharm": {
     "name": "#%%\n"
    }
   },
   "execution_count": null,
   "outputs": []
  },
  {
   "cell_type": "code",
   "source": [
    "optuna.visualization.plot_parallel_coordinate(study)"
   ],
   "metadata": {
    "execution": {
     "iopub.status.busy": "2022-07-31T19:02:14.874798Z",
     "iopub.status.idle": "2022-07-31T19:02:14.875234Z",
     "shell.execute_reply.started": "2022-07-31T19:02:14.875003Z",
     "shell.execute_reply": "2022-07-31T19:02:14.875049Z"
    },
    "trusted": true,
    "pycharm": {
     "name": "#%%\n"
    }
   },
   "execution_count": null,
   "outputs": []
  },
  {
   "cell_type": "code",
   "source": [
    "optuna.visualization.plot_slice(study)"
   ],
   "metadata": {
    "execution": {
     "iopub.status.busy": "2022-07-31T19:02:14.876622Z",
     "iopub.status.idle": "2022-07-31T19:02:14.877067Z",
     "shell.execute_reply.started": "2022-07-31T19:02:14.876838Z",
     "shell.execute_reply": "2022-07-31T19:02:14.876857Z"
    },
    "trusted": true,
    "pycharm": {
     "name": "#%%\n"
    }
   },
   "execution_count": null,
   "outputs": []
  },
  {
   "cell_type": "code",
   "source": [
    "optuna.visualization.plot_contour(study, params=['n_components',\n",
    "                            'kernel',\n",
    "                            'C',\n",
    "                            'gamma', 'class_weight'])"
   ],
   "metadata": {
    "execution": {
     "iopub.status.busy": "2022-07-31T19:02:14.879444Z",
     "iopub.status.idle": "2022-07-31T19:02:14.880294Z",
     "shell.execute_reply.started": "2022-07-31T19:02:14.880040Z",
     "shell.execute_reply": "2022-07-31T19:02:14.880063Z"
    },
    "trusted": true,
    "pycharm": {
     "name": "#%%\n"
    }
   },
   "execution_count": null,
   "outputs": []
  },
  {
   "cell_type": "code",
   "source": [],
   "metadata": {
    "pycharm": {
     "name": "#%%\n"
    }
   },
   "execution_count": null,
   "outputs": []
  }
 ]
}